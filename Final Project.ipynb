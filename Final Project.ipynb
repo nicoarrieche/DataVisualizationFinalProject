{
 "cells": [
  {
   "cell_type": "markdown",
   "metadata": {},
   "source": [
    "We chose to use plotly to handle our data visualizations and interactive abilities."
   ]
  },
  {
   "cell_type": "code",
   "execution_count": 1,
   "metadata": {},
   "outputs": [],
   "source": [
    "import pandas as pd\n",
    "import plotly\n",
    "import plotly.graph_objects as go\n",
    "from plotly.subplots import make_subplots"
   ]
  },
  {
   "cell_type": "markdown",
   "metadata": {},
   "source": [
    "Read in placement data."
   ]
  },
  {
   "cell_type": "code",
   "execution_count": 2,
   "metadata": {},
   "outputs": [],
   "source": [
    "df = pd.read_csv('cleaned_data.csv')"
   ]
  },
  {
   "cell_type": "markdown",
   "metadata": {},
   "source": [
    "Data manipulation/processing to be used for plots."
   ]
  },
  {
   "cell_type": "code",
   "execution_count": 54,
   "metadata": {},
   "outputs": [
    {
     "data": {
      "text/html": [
       "<div>\n",
       "<style scoped>\n",
       "    .dataframe tbody tr th:only-of-type {\n",
       "        vertical-align: middle;\n",
       "    }\n",
       "\n",
       "    .dataframe tbody tr th {\n",
       "        vertical-align: top;\n",
       "    }\n",
       "\n",
       "    .dataframe thead th {\n",
       "        text-align: right;\n",
       "    }\n",
       "</style>\n",
       "<table border=\"1\" class=\"dataframe\">\n",
       "  <thead>\n",
       "    <tr style=\"text-align: right;\">\n",
       "      <th></th>\n",
       "      <th>Secondary Education Percentage (10th Grade)</th>\n",
       "      <th>Higher Secondary Education Percentage (12th Grade)</th>\n",
       "      <th>Degree Percentage</th>\n",
       "      <th>MBA percentage</th>\n",
       "      <th>Salary</th>\n",
       "      <th>hses_code</th>\n",
       "      <th>g_code</th>\n",
       "    </tr>\n",
       "    <tr>\n",
       "      <th>Specialization in Higher Secondary Education</th>\n",
       "      <th></th>\n",
       "      <th></th>\n",
       "      <th></th>\n",
       "      <th></th>\n",
       "      <th></th>\n",
       "      <th></th>\n",
       "      <th></th>\n",
       "    </tr>\n",
       "  </thead>\n",
       "  <tbody>\n",
       "    <tr>\n",
       "      <td>Arts</td>\n",
       "      <td>640.00</td>\n",
       "      <td>690.20</td>\n",
       "      <td>676.23</td>\n",
       "      <td>686.23</td>\n",
       "      <td>19738.07</td>\n",
       "      <td>11</td>\n",
       "      <td>6</td>\n",
       "    </tr>\n",
       "    <tr>\n",
       "      <td>Commerce</td>\n",
       "      <td>7487.78</td>\n",
       "      <td>7796.90</td>\n",
       "      <td>7481.92</td>\n",
       "      <td>7006.56</td>\n",
       "      <td>300383.68</td>\n",
       "      <td>226</td>\n",
       "      <td>40</td>\n",
       "    </tr>\n",
       "    <tr>\n",
       "      <td>Science</td>\n",
       "      <td>6342.45</td>\n",
       "      <td>5774.53</td>\n",
       "      <td>6111.44</td>\n",
       "      <td>5697.02</td>\n",
       "      <td>245045.64</td>\n",
       "      <td>273</td>\n",
       "      <td>30</td>\n",
       "    </tr>\n",
       "  </tbody>\n",
       "</table>\n",
       "</div>"
      ],
      "text/plain": [
       "                                              Secondary Education Percentage (10th Grade)  \\\n",
       "Specialization in Higher Secondary Education                                                \n",
       "Arts                                                                               640.00   \n",
       "Commerce                                                                          7487.78   \n",
       "Science                                                                           6342.45   \n",
       "\n",
       "                                              Higher Secondary Education Percentage (12th Grade)  \\\n",
       "Specialization in Higher Secondary Education                                                       \n",
       "Arts                                                                                     690.20    \n",
       "Commerce                                                                                7796.90    \n",
       "Science                                                                                 5774.53    \n",
       "\n",
       "                                              Degree Percentage  \\\n",
       "Specialization in Higher Secondary Education                      \n",
       "Arts                                                     676.23   \n",
       "Commerce                                                7481.92   \n",
       "Science                                                 6111.44   \n",
       "\n",
       "                                              MBA percentage     Salary  \\\n",
       "Specialization in Higher Secondary Education                              \n",
       "Arts                                                  686.23   19738.07   \n",
       "Commerce                                             7006.56  300383.68   \n",
       "Science                                              5697.02  245045.64   \n",
       "\n",
       "                                              hses_code  g_code  \n",
       "Specialization in Higher Secondary Education                     \n",
       "Arts                                                 11       6  \n",
       "Commerce                                            226      40  \n",
       "Science                                             273      30  "
      ]
     },
     "execution_count": 54,
     "metadata": {},
     "output_type": "execute_result"
    }
   ],
   "source": [
    "# numerical indicator for secondary specialization group\n",
    "df['hses_code'] = [(1 if x==\"Arts\" else 2 if x=='Commerce' else 3) for x in df['Specialization in Higher Secondary Education']]\n",
    "\n",
    "# numerical indicator for gender\n",
    "df['g_code'] = [(0 if x == \"M\" else 1) for x in df['Gender']]\n",
    "\n",
    "# count of students in secondary specializaiton groups\n",
    "all_special_count = df.groupby('Specialization in Higher Secondary Education').count()\n",
    "\n",
    "# total salaries offered to students in specialization groups\n",
    "all_special_salary = df.groupby('Specialization in Higher Secondary Education').sum()\n",
    "\n",
    "# remove students not placed in jobs\n",
    "df_placed = df.loc[df['Placement Status']=='Placed']\n",
    "\n",
    "#group placed students by secondary specialization\n",
    "group_by_special = df_placed.loc[:,['Specialization in Higher Secondary Education', 'Gender','Degree Type','Work Experience','Salary']].groupby('Specialization in Higher Secondary Education')\n",
    "\n",
    "# counts of placed students in secondary specialization groups\n",
    "special_count = group_by_special.count()\n",
    "\n",
    "# total salaries offered to placed students in secondary specialization groups\n",
    "special_salary = group_by_special.sum()\n",
    "\n",
    "all_special_salary.head()"
   ]
  },
  {
   "cell_type": "markdown",
   "metadata": {},
   "source": [
    "First visuals displaying student grouping and salaries for those who received job offers in the secondary specialization groups."
   ]
  },
  {
   "cell_type": "code",
   "execution_count": 61,
   "metadata": {
    "scrolled": false
   },
   "outputs": [
    {
     "data": {
      "application/vnd.plotly.v1+json": {
       "config": {
        "plotlyServerURL": "https://plot.ly"
       },
       "data": [
        {
         "domain": {
          "x": [
           0,
           0.45
          ],
          "y": [
           0.575,
           1
          ]
         },
         "hole": 0.4,
         "hoverinfo": "label+percent+value+name",
         "labels": [
          "Arts",
          "Commerce",
          "Science"
         ],
         "name": "All Students",
         "type": "pie",
         "values": [
          11,
          113,
          91
         ]
        },
        {
         "domain": {
          "x": [
           0.55,
           1
          ],
          "y": [
           0.575,
           1
          ]
         },
         "hole": 0.4,
         "hoverinfo": "label+percent+value+name",
         "labels": [
          "Arts",
          "Commerce",
          "Science"
         ],
         "name": "Salaries",
         "type": "pie",
         "values": [
          19738.07,
          300383.6800000001,
          245045.63999999998
         ]
        },
        {
         "domain": {
          "x": [
           0,
           0.45
          ],
          "y": [
           0,
           0.425
          ]
         },
         "hole": 0.4,
         "hoverinfo": "label+percent+value+name",
         "labels": [
          "Arts",
          "Commerce",
          "Science"
         ],
         "name": "Placed Students",
         "type": "pie",
         "values": [
          6,
          79,
          63
         ]
        }
       ],
       "layout": {
        "annotations": [
         {
          "font": {
           "size": 15
          },
          "showarrow": false,
          "text": "All Students",
          "x": 0.16,
          "y": 1.1
         },
         {
          "font": {
           "size": 15
          },
          "showarrow": false,
          "text": "Salaries",
          "x": 0.82,
          "y": 1.1
         },
         {
          "font": {
           "size": 15
          },
          "showarrow": false,
          "text": "Placed Students",
          "x": 0.14,
          "y": 0.5
         }
        ],
        "template": {
         "data": {
          "bar": [
           {
            "error_x": {
             "color": "#2a3f5f"
            },
            "error_y": {
             "color": "#2a3f5f"
            },
            "marker": {
             "line": {
              "color": "#E5ECF6",
              "width": 0.5
             }
            },
            "type": "bar"
           }
          ],
          "barpolar": [
           {
            "marker": {
             "line": {
              "color": "#E5ECF6",
              "width": 0.5
             }
            },
            "type": "barpolar"
           }
          ],
          "carpet": [
           {
            "aaxis": {
             "endlinecolor": "#2a3f5f",
             "gridcolor": "white",
             "linecolor": "white",
             "minorgridcolor": "white",
             "startlinecolor": "#2a3f5f"
            },
            "baxis": {
             "endlinecolor": "#2a3f5f",
             "gridcolor": "white",
             "linecolor": "white",
             "minorgridcolor": "white",
             "startlinecolor": "#2a3f5f"
            },
            "type": "carpet"
           }
          ],
          "choropleth": [
           {
            "colorbar": {
             "outlinewidth": 0,
             "ticks": ""
            },
            "type": "choropleth"
           }
          ],
          "contour": [
           {
            "colorbar": {
             "outlinewidth": 0,
             "ticks": ""
            },
            "colorscale": [
             [
              0,
              "#0d0887"
             ],
             [
              0.1111111111111111,
              "#46039f"
             ],
             [
              0.2222222222222222,
              "#7201a8"
             ],
             [
              0.3333333333333333,
              "#9c179e"
             ],
             [
              0.4444444444444444,
              "#bd3786"
             ],
             [
              0.5555555555555556,
              "#d8576b"
             ],
             [
              0.6666666666666666,
              "#ed7953"
             ],
             [
              0.7777777777777778,
              "#fb9f3a"
             ],
             [
              0.8888888888888888,
              "#fdca26"
             ],
             [
              1,
              "#f0f921"
             ]
            ],
            "type": "contour"
           }
          ],
          "contourcarpet": [
           {
            "colorbar": {
             "outlinewidth": 0,
             "ticks": ""
            },
            "type": "contourcarpet"
           }
          ],
          "heatmap": [
           {
            "colorbar": {
             "outlinewidth": 0,
             "ticks": ""
            },
            "colorscale": [
             [
              0,
              "#0d0887"
             ],
             [
              0.1111111111111111,
              "#46039f"
             ],
             [
              0.2222222222222222,
              "#7201a8"
             ],
             [
              0.3333333333333333,
              "#9c179e"
             ],
             [
              0.4444444444444444,
              "#bd3786"
             ],
             [
              0.5555555555555556,
              "#d8576b"
             ],
             [
              0.6666666666666666,
              "#ed7953"
             ],
             [
              0.7777777777777778,
              "#fb9f3a"
             ],
             [
              0.8888888888888888,
              "#fdca26"
             ],
             [
              1,
              "#f0f921"
             ]
            ],
            "type": "heatmap"
           }
          ],
          "heatmapgl": [
           {
            "colorbar": {
             "outlinewidth": 0,
             "ticks": ""
            },
            "colorscale": [
             [
              0,
              "#0d0887"
             ],
             [
              0.1111111111111111,
              "#46039f"
             ],
             [
              0.2222222222222222,
              "#7201a8"
             ],
             [
              0.3333333333333333,
              "#9c179e"
             ],
             [
              0.4444444444444444,
              "#bd3786"
             ],
             [
              0.5555555555555556,
              "#d8576b"
             ],
             [
              0.6666666666666666,
              "#ed7953"
             ],
             [
              0.7777777777777778,
              "#fb9f3a"
             ],
             [
              0.8888888888888888,
              "#fdca26"
             ],
             [
              1,
              "#f0f921"
             ]
            ],
            "type": "heatmapgl"
           }
          ],
          "histogram": [
           {
            "marker": {
             "colorbar": {
              "outlinewidth": 0,
              "ticks": ""
             }
            },
            "type": "histogram"
           }
          ],
          "histogram2d": [
           {
            "colorbar": {
             "outlinewidth": 0,
             "ticks": ""
            },
            "colorscale": [
             [
              0,
              "#0d0887"
             ],
             [
              0.1111111111111111,
              "#46039f"
             ],
             [
              0.2222222222222222,
              "#7201a8"
             ],
             [
              0.3333333333333333,
              "#9c179e"
             ],
             [
              0.4444444444444444,
              "#bd3786"
             ],
             [
              0.5555555555555556,
              "#d8576b"
             ],
             [
              0.6666666666666666,
              "#ed7953"
             ],
             [
              0.7777777777777778,
              "#fb9f3a"
             ],
             [
              0.8888888888888888,
              "#fdca26"
             ],
             [
              1,
              "#f0f921"
             ]
            ],
            "type": "histogram2d"
           }
          ],
          "histogram2dcontour": [
           {
            "colorbar": {
             "outlinewidth": 0,
             "ticks": ""
            },
            "colorscale": [
             [
              0,
              "#0d0887"
             ],
             [
              0.1111111111111111,
              "#46039f"
             ],
             [
              0.2222222222222222,
              "#7201a8"
             ],
             [
              0.3333333333333333,
              "#9c179e"
             ],
             [
              0.4444444444444444,
              "#bd3786"
             ],
             [
              0.5555555555555556,
              "#d8576b"
             ],
             [
              0.6666666666666666,
              "#ed7953"
             ],
             [
              0.7777777777777778,
              "#fb9f3a"
             ],
             [
              0.8888888888888888,
              "#fdca26"
             ],
             [
              1,
              "#f0f921"
             ]
            ],
            "type": "histogram2dcontour"
           }
          ],
          "mesh3d": [
           {
            "colorbar": {
             "outlinewidth": 0,
             "ticks": ""
            },
            "type": "mesh3d"
           }
          ],
          "parcoords": [
           {
            "line": {
             "colorbar": {
              "outlinewidth": 0,
              "ticks": ""
             }
            },
            "type": "parcoords"
           }
          ],
          "pie": [
           {
            "automargin": true,
            "type": "pie"
           }
          ],
          "scatter": [
           {
            "marker": {
             "colorbar": {
              "outlinewidth": 0,
              "ticks": ""
             }
            },
            "type": "scatter"
           }
          ],
          "scatter3d": [
           {
            "line": {
             "colorbar": {
              "outlinewidth": 0,
              "ticks": ""
             }
            },
            "marker": {
             "colorbar": {
              "outlinewidth": 0,
              "ticks": ""
             }
            },
            "type": "scatter3d"
           }
          ],
          "scattercarpet": [
           {
            "marker": {
             "colorbar": {
              "outlinewidth": 0,
              "ticks": ""
             }
            },
            "type": "scattercarpet"
           }
          ],
          "scattergeo": [
           {
            "marker": {
             "colorbar": {
              "outlinewidth": 0,
              "ticks": ""
             }
            },
            "type": "scattergeo"
           }
          ],
          "scattergl": [
           {
            "marker": {
             "colorbar": {
              "outlinewidth": 0,
              "ticks": ""
             }
            },
            "type": "scattergl"
           }
          ],
          "scattermapbox": [
           {
            "marker": {
             "colorbar": {
              "outlinewidth": 0,
              "ticks": ""
             }
            },
            "type": "scattermapbox"
           }
          ],
          "scatterpolar": [
           {
            "marker": {
             "colorbar": {
              "outlinewidth": 0,
              "ticks": ""
             }
            },
            "type": "scatterpolar"
           }
          ],
          "scatterpolargl": [
           {
            "marker": {
             "colorbar": {
              "outlinewidth": 0,
              "ticks": ""
             }
            },
            "type": "scatterpolargl"
           }
          ],
          "scatterternary": [
           {
            "marker": {
             "colorbar": {
              "outlinewidth": 0,
              "ticks": ""
             }
            },
            "type": "scatterternary"
           }
          ],
          "surface": [
           {
            "colorbar": {
             "outlinewidth": 0,
             "ticks": ""
            },
            "colorscale": [
             [
              0,
              "#0d0887"
             ],
             [
              0.1111111111111111,
              "#46039f"
             ],
             [
              0.2222222222222222,
              "#7201a8"
             ],
             [
              0.3333333333333333,
              "#9c179e"
             ],
             [
              0.4444444444444444,
              "#bd3786"
             ],
             [
              0.5555555555555556,
              "#d8576b"
             ],
             [
              0.6666666666666666,
              "#ed7953"
             ],
             [
              0.7777777777777778,
              "#fb9f3a"
             ],
             [
              0.8888888888888888,
              "#fdca26"
             ],
             [
              1,
              "#f0f921"
             ]
            ],
            "type": "surface"
           }
          ],
          "table": [
           {
            "cells": {
             "fill": {
              "color": "#EBF0F8"
             },
             "line": {
              "color": "white"
             }
            },
            "header": {
             "fill": {
              "color": "#C8D4E3"
             },
             "line": {
              "color": "white"
             }
            },
            "type": "table"
           }
          ]
         },
         "layout": {
          "annotationdefaults": {
           "arrowcolor": "#2a3f5f",
           "arrowhead": 0,
           "arrowwidth": 1
          },
          "coloraxis": {
           "colorbar": {
            "outlinewidth": 0,
            "ticks": ""
           }
          },
          "colorscale": {
           "diverging": [
            [
             0,
             "#8e0152"
            ],
            [
             0.1,
             "#c51b7d"
            ],
            [
             0.2,
             "#de77ae"
            ],
            [
             0.3,
             "#f1b6da"
            ],
            [
             0.4,
             "#fde0ef"
            ],
            [
             0.5,
             "#f7f7f7"
            ],
            [
             0.6,
             "#e6f5d0"
            ],
            [
             0.7,
             "#b8e186"
            ],
            [
             0.8,
             "#7fbc41"
            ],
            [
             0.9,
             "#4d9221"
            ],
            [
             1,
             "#276419"
            ]
           ],
           "sequential": [
            [
             0,
             "#0d0887"
            ],
            [
             0.1111111111111111,
             "#46039f"
            ],
            [
             0.2222222222222222,
             "#7201a8"
            ],
            [
             0.3333333333333333,
             "#9c179e"
            ],
            [
             0.4444444444444444,
             "#bd3786"
            ],
            [
             0.5555555555555556,
             "#d8576b"
            ],
            [
             0.6666666666666666,
             "#ed7953"
            ],
            [
             0.7777777777777778,
             "#fb9f3a"
            ],
            [
             0.8888888888888888,
             "#fdca26"
            ],
            [
             1,
             "#f0f921"
            ]
           ],
           "sequentialminus": [
            [
             0,
             "#0d0887"
            ],
            [
             0.1111111111111111,
             "#46039f"
            ],
            [
             0.2222222222222222,
             "#7201a8"
            ],
            [
             0.3333333333333333,
             "#9c179e"
            ],
            [
             0.4444444444444444,
             "#bd3786"
            ],
            [
             0.5555555555555556,
             "#d8576b"
            ],
            [
             0.6666666666666666,
             "#ed7953"
            ],
            [
             0.7777777777777778,
             "#fb9f3a"
            ],
            [
             0.8888888888888888,
             "#fdca26"
            ],
            [
             1,
             "#f0f921"
            ]
           ]
          },
          "colorway": [
           "#636efa",
           "#EF553B",
           "#00cc96",
           "#ab63fa",
           "#FFA15A",
           "#19d3f3",
           "#FF6692",
           "#B6E880",
           "#FF97FF",
           "#FECB52"
          ],
          "font": {
           "color": "#2a3f5f"
          },
          "geo": {
           "bgcolor": "white",
           "lakecolor": "white",
           "landcolor": "#E5ECF6",
           "showlakes": true,
           "showland": true,
           "subunitcolor": "white"
          },
          "hoverlabel": {
           "align": "left"
          },
          "hovermode": "closest",
          "mapbox": {
           "style": "light"
          },
          "paper_bgcolor": "white",
          "plot_bgcolor": "#E5ECF6",
          "polar": {
           "angularaxis": {
            "gridcolor": "white",
            "linecolor": "white",
            "ticks": ""
           },
           "bgcolor": "#E5ECF6",
           "radialaxis": {
            "gridcolor": "white",
            "linecolor": "white",
            "ticks": ""
           }
          },
          "scene": {
           "xaxis": {
            "backgroundcolor": "#E5ECF6",
            "gridcolor": "white",
            "gridwidth": 2,
            "linecolor": "white",
            "showbackground": true,
            "ticks": "",
            "zerolinecolor": "white"
           },
           "yaxis": {
            "backgroundcolor": "#E5ECF6",
            "gridcolor": "white",
            "gridwidth": 2,
            "linecolor": "white",
            "showbackground": true,
            "ticks": "",
            "zerolinecolor": "white"
           },
           "zaxis": {
            "backgroundcolor": "#E5ECF6",
            "gridcolor": "white",
            "gridwidth": 2,
            "linecolor": "white",
            "showbackground": true,
            "ticks": "",
            "zerolinecolor": "white"
           }
          },
          "shapedefaults": {
           "line": {
            "color": "#2a3f5f"
           }
          },
          "ternary": {
           "aaxis": {
            "gridcolor": "white",
            "linecolor": "white",
            "ticks": ""
           },
           "baxis": {
            "gridcolor": "white",
            "linecolor": "white",
            "ticks": ""
           },
           "bgcolor": "#E5ECF6",
           "caxis": {
            "gridcolor": "white",
            "linecolor": "white",
            "ticks": ""
           }
          },
          "title": {
           "x": 0.05
          },
          "xaxis": {
           "automargin": true,
           "gridcolor": "white",
           "linecolor": "white",
           "ticks": "",
           "title": {
            "standoff": 15
           },
           "zerolinecolor": "white",
           "zerolinewidth": 2
          },
          "yaxis": {
           "automargin": true,
           "gridcolor": "white",
           "linecolor": "white",
           "ticks": "",
           "title": {
            "standoff": 15
           },
           "zerolinecolor": "white",
           "zerolinewidth": 2
          }
         }
        },
        "title": {
         "font": {
          "size": 25
         },
         "text": "Higher Secondary Education Specialization"
        }
       }
      },
      "text/html": [
       "<div>\n",
       "        \n",
       "        \n",
       "            <div id=\"32b8a6d4-6302-4d8e-a979-b3b371bdba3d\" class=\"plotly-graph-div\" style=\"height:525px; width:100%;\"></div>\n",
       "            <script type=\"text/javascript\">\n",
       "                require([\"plotly\"], function(Plotly) {\n",
       "                    window.PLOTLYENV=window.PLOTLYENV || {};\n",
       "                    \n",
       "                if (document.getElementById(\"32b8a6d4-6302-4d8e-a979-b3b371bdba3d\")) {\n",
       "                    Plotly.newPlot(\n",
       "                        '32b8a6d4-6302-4d8e-a979-b3b371bdba3d',\n",
       "                        [{\"domain\": {\"x\": [0.0, 0.45], \"y\": [0.575, 1.0]}, \"hole\": 0.4, \"hoverinfo\": \"label+percent+value+name\", \"labels\": [\"Arts\", \"Commerce\", \"Science\"], \"name\": \"All Students\", \"type\": \"pie\", \"values\": [11, 113, 91]}, {\"domain\": {\"x\": [0.55, 1.0], \"y\": [0.575, 1.0]}, \"hole\": 0.4, \"hoverinfo\": \"label+percent+value+name\", \"labels\": [\"Arts\", \"Commerce\", \"Science\"], \"name\": \"Salaries\", \"type\": \"pie\", \"values\": [19738.07, 300383.6800000001, 245045.63999999998]}, {\"domain\": {\"x\": [0.0, 0.45], \"y\": [0.0, 0.425]}, \"hole\": 0.4, \"hoverinfo\": \"label+percent+value+name\", \"labels\": [\"Arts\", \"Commerce\", \"Science\"], \"name\": \"Placed Students\", \"type\": \"pie\", \"values\": [6, 79, 63]}],\n",
       "                        {\"annotations\": [{\"font\": {\"size\": 15}, \"showarrow\": false, \"text\": \"All Students\", \"x\": 0.16, \"y\": 1.1}, {\"font\": {\"size\": 15}, \"showarrow\": false, \"text\": \"Salaries\", \"x\": 0.82, \"y\": 1.1}, {\"font\": {\"size\": 15}, \"showarrow\": false, \"text\": \"Placed Students\", \"x\": 0.14, \"y\": 0.5}], \"template\": {\"data\": {\"bar\": [{\"error_x\": {\"color\": \"#2a3f5f\"}, \"error_y\": {\"color\": \"#2a3f5f\"}, \"marker\": {\"line\": {\"color\": \"#E5ECF6\", \"width\": 0.5}}, \"type\": \"bar\"}], \"barpolar\": [{\"marker\": {\"line\": {\"color\": \"#E5ECF6\", \"width\": 0.5}}, \"type\": \"barpolar\"}], \"carpet\": [{\"aaxis\": {\"endlinecolor\": \"#2a3f5f\", \"gridcolor\": \"white\", \"linecolor\": \"white\", \"minorgridcolor\": \"white\", \"startlinecolor\": \"#2a3f5f\"}, \"baxis\": {\"endlinecolor\": \"#2a3f5f\", \"gridcolor\": \"white\", \"linecolor\": \"white\", \"minorgridcolor\": \"white\", \"startlinecolor\": \"#2a3f5f\"}, \"type\": \"carpet\"}], \"choropleth\": [{\"colorbar\": {\"outlinewidth\": 0, \"ticks\": \"\"}, \"type\": \"choropleth\"}], \"contour\": [{\"colorbar\": {\"outlinewidth\": 0, \"ticks\": \"\"}, \"colorscale\": [[0.0, \"#0d0887\"], [0.1111111111111111, \"#46039f\"], [0.2222222222222222, \"#7201a8\"], [0.3333333333333333, \"#9c179e\"], [0.4444444444444444, \"#bd3786\"], [0.5555555555555556, \"#d8576b\"], [0.6666666666666666, \"#ed7953\"], [0.7777777777777778, \"#fb9f3a\"], [0.8888888888888888, \"#fdca26\"], [1.0, \"#f0f921\"]], \"type\": \"contour\"}], \"contourcarpet\": [{\"colorbar\": {\"outlinewidth\": 0, \"ticks\": \"\"}, \"type\": \"contourcarpet\"}], \"heatmap\": [{\"colorbar\": {\"outlinewidth\": 0, \"ticks\": \"\"}, \"colorscale\": [[0.0, \"#0d0887\"], [0.1111111111111111, \"#46039f\"], [0.2222222222222222, \"#7201a8\"], [0.3333333333333333, \"#9c179e\"], [0.4444444444444444, \"#bd3786\"], [0.5555555555555556, \"#d8576b\"], [0.6666666666666666, \"#ed7953\"], [0.7777777777777778, \"#fb9f3a\"], [0.8888888888888888, \"#fdca26\"], [1.0, \"#f0f921\"]], \"type\": \"heatmap\"}], \"heatmapgl\": [{\"colorbar\": {\"outlinewidth\": 0, \"ticks\": \"\"}, \"colorscale\": [[0.0, \"#0d0887\"], [0.1111111111111111, \"#46039f\"], [0.2222222222222222, \"#7201a8\"], [0.3333333333333333, \"#9c179e\"], [0.4444444444444444, \"#bd3786\"], [0.5555555555555556, \"#d8576b\"], [0.6666666666666666, \"#ed7953\"], [0.7777777777777778, \"#fb9f3a\"], [0.8888888888888888, \"#fdca26\"], [1.0, \"#f0f921\"]], \"type\": \"heatmapgl\"}], \"histogram\": [{\"marker\": {\"colorbar\": {\"outlinewidth\": 0, \"ticks\": \"\"}}, \"type\": \"histogram\"}], \"histogram2d\": [{\"colorbar\": {\"outlinewidth\": 0, \"ticks\": \"\"}, \"colorscale\": [[0.0, \"#0d0887\"], [0.1111111111111111, \"#46039f\"], [0.2222222222222222, \"#7201a8\"], [0.3333333333333333, \"#9c179e\"], [0.4444444444444444, \"#bd3786\"], [0.5555555555555556, \"#d8576b\"], [0.6666666666666666, \"#ed7953\"], [0.7777777777777778, \"#fb9f3a\"], [0.8888888888888888, \"#fdca26\"], [1.0, \"#f0f921\"]], \"type\": \"histogram2d\"}], \"histogram2dcontour\": [{\"colorbar\": {\"outlinewidth\": 0, \"ticks\": \"\"}, \"colorscale\": [[0.0, \"#0d0887\"], [0.1111111111111111, \"#46039f\"], [0.2222222222222222, \"#7201a8\"], [0.3333333333333333, \"#9c179e\"], [0.4444444444444444, \"#bd3786\"], [0.5555555555555556, \"#d8576b\"], [0.6666666666666666, \"#ed7953\"], [0.7777777777777778, \"#fb9f3a\"], [0.8888888888888888, \"#fdca26\"], [1.0, \"#f0f921\"]], \"type\": \"histogram2dcontour\"}], \"mesh3d\": [{\"colorbar\": {\"outlinewidth\": 0, \"ticks\": \"\"}, \"type\": \"mesh3d\"}], \"parcoords\": [{\"line\": {\"colorbar\": {\"outlinewidth\": 0, \"ticks\": \"\"}}, \"type\": \"parcoords\"}], \"pie\": [{\"automargin\": true, \"type\": \"pie\"}], \"scatter\": [{\"marker\": {\"colorbar\": {\"outlinewidth\": 0, \"ticks\": \"\"}}, \"type\": \"scatter\"}], \"scatter3d\": [{\"line\": {\"colorbar\": {\"outlinewidth\": 0, \"ticks\": \"\"}}, \"marker\": {\"colorbar\": {\"outlinewidth\": 0, \"ticks\": \"\"}}, \"type\": \"scatter3d\"}], \"scattercarpet\": [{\"marker\": {\"colorbar\": {\"outlinewidth\": 0, \"ticks\": \"\"}}, \"type\": \"scattercarpet\"}], \"scattergeo\": [{\"marker\": {\"colorbar\": {\"outlinewidth\": 0, \"ticks\": \"\"}}, \"type\": \"scattergeo\"}], \"scattergl\": [{\"marker\": {\"colorbar\": {\"outlinewidth\": 0, \"ticks\": \"\"}}, \"type\": \"scattergl\"}], \"scattermapbox\": [{\"marker\": {\"colorbar\": {\"outlinewidth\": 0, \"ticks\": \"\"}}, \"type\": \"scattermapbox\"}], \"scatterpolar\": [{\"marker\": {\"colorbar\": {\"outlinewidth\": 0, \"ticks\": \"\"}}, \"type\": \"scatterpolar\"}], \"scatterpolargl\": [{\"marker\": {\"colorbar\": {\"outlinewidth\": 0, \"ticks\": \"\"}}, \"type\": \"scatterpolargl\"}], \"scatterternary\": [{\"marker\": {\"colorbar\": {\"outlinewidth\": 0, \"ticks\": \"\"}}, \"type\": \"scatterternary\"}], \"surface\": [{\"colorbar\": {\"outlinewidth\": 0, \"ticks\": \"\"}, \"colorscale\": [[0.0, \"#0d0887\"], [0.1111111111111111, \"#46039f\"], [0.2222222222222222, \"#7201a8\"], [0.3333333333333333, \"#9c179e\"], [0.4444444444444444, \"#bd3786\"], [0.5555555555555556, \"#d8576b\"], [0.6666666666666666, \"#ed7953\"], [0.7777777777777778, \"#fb9f3a\"], [0.8888888888888888, \"#fdca26\"], [1.0, \"#f0f921\"]], \"type\": \"surface\"}], \"table\": [{\"cells\": {\"fill\": {\"color\": \"#EBF0F8\"}, \"line\": {\"color\": \"white\"}}, \"header\": {\"fill\": {\"color\": \"#C8D4E3\"}, \"line\": {\"color\": \"white\"}}, \"type\": \"table\"}]}, \"layout\": {\"annotationdefaults\": {\"arrowcolor\": \"#2a3f5f\", \"arrowhead\": 0, \"arrowwidth\": 1}, \"coloraxis\": {\"colorbar\": {\"outlinewidth\": 0, \"ticks\": \"\"}}, \"colorscale\": {\"diverging\": [[0, \"#8e0152\"], [0.1, \"#c51b7d\"], [0.2, \"#de77ae\"], [0.3, \"#f1b6da\"], [0.4, \"#fde0ef\"], [0.5, \"#f7f7f7\"], [0.6, \"#e6f5d0\"], [0.7, \"#b8e186\"], [0.8, \"#7fbc41\"], [0.9, \"#4d9221\"], [1, \"#276419\"]], \"sequential\": [[0.0, \"#0d0887\"], [0.1111111111111111, \"#46039f\"], [0.2222222222222222, \"#7201a8\"], [0.3333333333333333, \"#9c179e\"], [0.4444444444444444, \"#bd3786\"], [0.5555555555555556, \"#d8576b\"], [0.6666666666666666, \"#ed7953\"], [0.7777777777777778, \"#fb9f3a\"], [0.8888888888888888, \"#fdca26\"], [1.0, \"#f0f921\"]], \"sequentialminus\": [[0.0, \"#0d0887\"], [0.1111111111111111, \"#46039f\"], [0.2222222222222222, \"#7201a8\"], [0.3333333333333333, \"#9c179e\"], [0.4444444444444444, \"#bd3786\"], [0.5555555555555556, \"#d8576b\"], [0.6666666666666666, \"#ed7953\"], [0.7777777777777778, \"#fb9f3a\"], [0.8888888888888888, \"#fdca26\"], [1.0, \"#f0f921\"]]}, \"colorway\": [\"#636efa\", \"#EF553B\", \"#00cc96\", \"#ab63fa\", \"#FFA15A\", \"#19d3f3\", \"#FF6692\", \"#B6E880\", \"#FF97FF\", \"#FECB52\"], \"font\": {\"color\": \"#2a3f5f\"}, \"geo\": {\"bgcolor\": \"white\", \"lakecolor\": \"white\", \"landcolor\": \"#E5ECF6\", \"showlakes\": true, \"showland\": true, \"subunitcolor\": \"white\"}, \"hoverlabel\": {\"align\": \"left\"}, \"hovermode\": \"closest\", \"mapbox\": {\"style\": \"light\"}, \"paper_bgcolor\": \"white\", \"plot_bgcolor\": \"#E5ECF6\", \"polar\": {\"angularaxis\": {\"gridcolor\": \"white\", \"linecolor\": \"white\", \"ticks\": \"\"}, \"bgcolor\": \"#E5ECF6\", \"radialaxis\": {\"gridcolor\": \"white\", \"linecolor\": \"white\", \"ticks\": \"\"}}, \"scene\": {\"xaxis\": {\"backgroundcolor\": \"#E5ECF6\", \"gridcolor\": \"white\", \"gridwidth\": 2, \"linecolor\": \"white\", \"showbackground\": true, \"ticks\": \"\", \"zerolinecolor\": \"white\"}, \"yaxis\": {\"backgroundcolor\": \"#E5ECF6\", \"gridcolor\": \"white\", \"gridwidth\": 2, \"linecolor\": \"white\", \"showbackground\": true, \"ticks\": \"\", \"zerolinecolor\": \"white\"}, \"zaxis\": {\"backgroundcolor\": \"#E5ECF6\", \"gridcolor\": \"white\", \"gridwidth\": 2, \"linecolor\": \"white\", \"showbackground\": true, \"ticks\": \"\", \"zerolinecolor\": \"white\"}}, \"shapedefaults\": {\"line\": {\"color\": \"#2a3f5f\"}}, \"ternary\": {\"aaxis\": {\"gridcolor\": \"white\", \"linecolor\": \"white\", \"ticks\": \"\"}, \"baxis\": {\"gridcolor\": \"white\", \"linecolor\": \"white\", \"ticks\": \"\"}, \"bgcolor\": \"#E5ECF6\", \"caxis\": {\"gridcolor\": \"white\", \"linecolor\": \"white\", \"ticks\": \"\"}}, \"title\": {\"x\": 0.05}, \"xaxis\": {\"automargin\": true, \"gridcolor\": \"white\", \"linecolor\": \"white\", \"ticks\": \"\", \"title\": {\"standoff\": 15}, \"zerolinecolor\": \"white\", \"zerolinewidth\": 2}, \"yaxis\": {\"automargin\": true, \"gridcolor\": \"white\", \"linecolor\": \"white\", \"ticks\": \"\", \"title\": {\"standoff\": 15}, \"zerolinecolor\": \"white\", \"zerolinewidth\": 2}}}, \"title\": {\"font\": {\"size\": 25}, \"text\": \"Higher Secondary Education Specialization\"}},\n",
       "                        {\"responsive\": true}\n",
       "                    ).then(function(){\n",
       "                            \n",
       "var gd = document.getElementById('32b8a6d4-6302-4d8e-a979-b3b371bdba3d');\n",
       "var x = new MutationObserver(function (mutations, observer) {{\n",
       "        var display = window.getComputedStyle(gd).display;\n",
       "        if (!display || display === 'none') {{\n",
       "            console.log([gd, 'removed!']);\n",
       "            Plotly.purge(gd);\n",
       "            observer.disconnect();\n",
       "        }}\n",
       "}});\n",
       "\n",
       "// Listen for the removal of the full notebook cells\n",
       "var notebookContainer = gd.closest('#notebook-container');\n",
       "if (notebookContainer) {{\n",
       "    x.observe(notebookContainer, {childList: true});\n",
       "}}\n",
       "\n",
       "// Listen for the clearing of the current output cell\n",
       "var outputEl = gd.closest('.output');\n",
       "if (outputEl) {{\n",
       "    x.observe(outputEl, {childList: true});\n",
       "}}\n",
       "\n",
       "                        })\n",
       "                };\n",
       "                });\n",
       "            </script>\n",
       "        </div>"
      ]
     },
     "metadata": {},
     "output_type": "display_data"
    }
   ],
   "source": [
    "# comparing different secondary education specializations.\n",
    "labels = ['Arts','Commerce','Science']\n",
    "fig = make_subplots(rows=2, cols=2,specs=[[{'type':'domain'}, {'type':'domain'}], [{'type':'domain'}, {'type':'domain'}]])\n",
    "fig.add_trace(go.Pie(labels=labels,\n",
    "                             values=all_special_count.loc[:,'Gender'], name='All Students'), row = 1, col = 1)\n",
    "fig.add_trace(go.Pie(labels=labels,\n",
    "                             values=all_special_salary.loc[:,'Salary'], name = 'Salaries'), row = 1, col = 2)\n",
    "fig.add_trace(go.Pie(labels=labels,\n",
    "                             values=special_count.loc[:,'Gender'], name='Placed Students'), row = 2, col = 1)\n",
    "fig.update_traces(hole=.4, hoverinfo=\"label+percent+value+name\")\n",
    "fig.update_layout(title_text='Higher Secondary Education Specialization',title_font_size=25,\n",
    "                annotations=[dict(text='All Students', x=0.16, y=1.1, font_size=15,showarrow=False),\n",
    "                             dict(text='Salaries', x=0.82, y=1.1, font_size=15, showarrow=False),\n",
    "                             dict(text='Placed Students', x=0.14, y=0.5, font_size=15,showarrow=False)\n",
    "                            ])\n",
    "fig.show()"
   ]
  },
  {
   "cell_type": "markdown",
   "metadata": {},
   "source": [
    "Following cell creates dataframes. This time with the counts of male, female, work experence, no work experience, placed, and unplaced for all of the secondary specialization groups."
   ]
  },
  {
   "cell_type": "code",
   "execution_count": 7,
   "metadata": {},
   "outputs": [],
   "source": [
    "# males in each of specialization groups\n",
    "df_m = df.loc[df['Gender']=='M'].groupby('Specialization in Higher Secondary Education').count()\n",
    "\n",
    "# females in each of specialization groups\n",
    "df_f = df.loc[df['Gender']=='F'].groupby('Specialization in Higher Secondary Education').count()\n",
    "\n",
    "# number with work experience in each group\n",
    "df_y = df.loc[df['Work Experience']=='Yes'].groupby('Specialization in Higher Secondary Education').count()\n",
    "\n",
    "# number without work experience in each group\n",
    "df_n = df.loc[df['Work Experience']=='No'].groupby('Specialization in Higher Secondary Education').count()\n",
    "\n",
    "# number with job offers in each group\n",
    "df_p = df.loc[df['Placement Status']=='Placed'].groupby('Specialization in Higher Secondary Education').count()\n",
    "\n",
    "# number without job offers in each group\n",
    "df_np = df.loc[df['Placement Status']=='Not Placed'].groupby('Specialization in Higher Secondary Education').count()"
   ]
  },
  {
   "cell_type": "markdown",
   "metadata": {},
   "source": [
    "Second visual displaying various categorical factors about the students the make up each secondary specialization group."
   ]
  },
  {
   "cell_type": "code",
   "execution_count": 8,
   "metadata": {
    "scrolled": false
   },
   "outputs": [
    {
     "data": {
      "application/vnd.plotly.v1+json": {
       "config": {
        "plotlyServerURL": "https://plot.ly"
       },
       "data": [
        {
         "marker": {
          "color": "darkblue"
         },
         "name": "Male",
         "type": "bar",
         "width": 0.2,
         "x": [
          "Arts",
          "Commerce",
          "Science"
         ],
         "y": [
          5,
          73,
          61
         ]
        },
        {
         "marker": {
          "color": "crimson"
         },
         "name": "Female",
         "type": "bar",
         "width": 0.2,
         "x": [
          "Arts",
          "Commerce",
          "Science"
         ],
         "y": [
          6,
          40,
          30
         ]
        }
       ],
       "layout": {
        "barmode": "stack",
        "template": {
         "data": {
          "bar": [
           {
            "error_x": {
             "color": "#2a3f5f"
            },
            "error_y": {
             "color": "#2a3f5f"
            },
            "marker": {
             "line": {
              "color": "#E5ECF6",
              "width": 0.5
             }
            },
            "type": "bar"
           }
          ],
          "barpolar": [
           {
            "marker": {
             "line": {
              "color": "#E5ECF6",
              "width": 0.5
             }
            },
            "type": "barpolar"
           }
          ],
          "carpet": [
           {
            "aaxis": {
             "endlinecolor": "#2a3f5f",
             "gridcolor": "white",
             "linecolor": "white",
             "minorgridcolor": "white",
             "startlinecolor": "#2a3f5f"
            },
            "baxis": {
             "endlinecolor": "#2a3f5f",
             "gridcolor": "white",
             "linecolor": "white",
             "minorgridcolor": "white",
             "startlinecolor": "#2a3f5f"
            },
            "type": "carpet"
           }
          ],
          "choropleth": [
           {
            "colorbar": {
             "outlinewidth": 0,
             "ticks": ""
            },
            "type": "choropleth"
           }
          ],
          "contour": [
           {
            "colorbar": {
             "outlinewidth": 0,
             "ticks": ""
            },
            "colorscale": [
             [
              0,
              "#0d0887"
             ],
             [
              0.1111111111111111,
              "#46039f"
             ],
             [
              0.2222222222222222,
              "#7201a8"
             ],
             [
              0.3333333333333333,
              "#9c179e"
             ],
             [
              0.4444444444444444,
              "#bd3786"
             ],
             [
              0.5555555555555556,
              "#d8576b"
             ],
             [
              0.6666666666666666,
              "#ed7953"
             ],
             [
              0.7777777777777778,
              "#fb9f3a"
             ],
             [
              0.8888888888888888,
              "#fdca26"
             ],
             [
              1,
              "#f0f921"
             ]
            ],
            "type": "contour"
           }
          ],
          "contourcarpet": [
           {
            "colorbar": {
             "outlinewidth": 0,
             "ticks": ""
            },
            "type": "contourcarpet"
           }
          ],
          "heatmap": [
           {
            "colorbar": {
             "outlinewidth": 0,
             "ticks": ""
            },
            "colorscale": [
             [
              0,
              "#0d0887"
             ],
             [
              0.1111111111111111,
              "#46039f"
             ],
             [
              0.2222222222222222,
              "#7201a8"
             ],
             [
              0.3333333333333333,
              "#9c179e"
             ],
             [
              0.4444444444444444,
              "#bd3786"
             ],
             [
              0.5555555555555556,
              "#d8576b"
             ],
             [
              0.6666666666666666,
              "#ed7953"
             ],
             [
              0.7777777777777778,
              "#fb9f3a"
             ],
             [
              0.8888888888888888,
              "#fdca26"
             ],
             [
              1,
              "#f0f921"
             ]
            ],
            "type": "heatmap"
           }
          ],
          "heatmapgl": [
           {
            "colorbar": {
             "outlinewidth": 0,
             "ticks": ""
            },
            "colorscale": [
             [
              0,
              "#0d0887"
             ],
             [
              0.1111111111111111,
              "#46039f"
             ],
             [
              0.2222222222222222,
              "#7201a8"
             ],
             [
              0.3333333333333333,
              "#9c179e"
             ],
             [
              0.4444444444444444,
              "#bd3786"
             ],
             [
              0.5555555555555556,
              "#d8576b"
             ],
             [
              0.6666666666666666,
              "#ed7953"
             ],
             [
              0.7777777777777778,
              "#fb9f3a"
             ],
             [
              0.8888888888888888,
              "#fdca26"
             ],
             [
              1,
              "#f0f921"
             ]
            ],
            "type": "heatmapgl"
           }
          ],
          "histogram": [
           {
            "marker": {
             "colorbar": {
              "outlinewidth": 0,
              "ticks": ""
             }
            },
            "type": "histogram"
           }
          ],
          "histogram2d": [
           {
            "colorbar": {
             "outlinewidth": 0,
             "ticks": ""
            },
            "colorscale": [
             [
              0,
              "#0d0887"
             ],
             [
              0.1111111111111111,
              "#46039f"
             ],
             [
              0.2222222222222222,
              "#7201a8"
             ],
             [
              0.3333333333333333,
              "#9c179e"
             ],
             [
              0.4444444444444444,
              "#bd3786"
             ],
             [
              0.5555555555555556,
              "#d8576b"
             ],
             [
              0.6666666666666666,
              "#ed7953"
             ],
             [
              0.7777777777777778,
              "#fb9f3a"
             ],
             [
              0.8888888888888888,
              "#fdca26"
             ],
             [
              1,
              "#f0f921"
             ]
            ],
            "type": "histogram2d"
           }
          ],
          "histogram2dcontour": [
           {
            "colorbar": {
             "outlinewidth": 0,
             "ticks": ""
            },
            "colorscale": [
             [
              0,
              "#0d0887"
             ],
             [
              0.1111111111111111,
              "#46039f"
             ],
             [
              0.2222222222222222,
              "#7201a8"
             ],
             [
              0.3333333333333333,
              "#9c179e"
             ],
             [
              0.4444444444444444,
              "#bd3786"
             ],
             [
              0.5555555555555556,
              "#d8576b"
             ],
             [
              0.6666666666666666,
              "#ed7953"
             ],
             [
              0.7777777777777778,
              "#fb9f3a"
             ],
             [
              0.8888888888888888,
              "#fdca26"
             ],
             [
              1,
              "#f0f921"
             ]
            ],
            "type": "histogram2dcontour"
           }
          ],
          "mesh3d": [
           {
            "colorbar": {
             "outlinewidth": 0,
             "ticks": ""
            },
            "type": "mesh3d"
           }
          ],
          "parcoords": [
           {
            "line": {
             "colorbar": {
              "outlinewidth": 0,
              "ticks": ""
             }
            },
            "type": "parcoords"
           }
          ],
          "pie": [
           {
            "automargin": true,
            "type": "pie"
           }
          ],
          "scatter": [
           {
            "marker": {
             "colorbar": {
              "outlinewidth": 0,
              "ticks": ""
             }
            },
            "type": "scatter"
           }
          ],
          "scatter3d": [
           {
            "line": {
             "colorbar": {
              "outlinewidth": 0,
              "ticks": ""
             }
            },
            "marker": {
             "colorbar": {
              "outlinewidth": 0,
              "ticks": ""
             }
            },
            "type": "scatter3d"
           }
          ],
          "scattercarpet": [
           {
            "marker": {
             "colorbar": {
              "outlinewidth": 0,
              "ticks": ""
             }
            },
            "type": "scattercarpet"
           }
          ],
          "scattergeo": [
           {
            "marker": {
             "colorbar": {
              "outlinewidth": 0,
              "ticks": ""
             }
            },
            "type": "scattergeo"
           }
          ],
          "scattergl": [
           {
            "marker": {
             "colorbar": {
              "outlinewidth": 0,
              "ticks": ""
             }
            },
            "type": "scattergl"
           }
          ],
          "scattermapbox": [
           {
            "marker": {
             "colorbar": {
              "outlinewidth": 0,
              "ticks": ""
             }
            },
            "type": "scattermapbox"
           }
          ],
          "scatterpolar": [
           {
            "marker": {
             "colorbar": {
              "outlinewidth": 0,
              "ticks": ""
             }
            },
            "type": "scatterpolar"
           }
          ],
          "scatterpolargl": [
           {
            "marker": {
             "colorbar": {
              "outlinewidth": 0,
              "ticks": ""
             }
            },
            "type": "scatterpolargl"
           }
          ],
          "scatterternary": [
           {
            "marker": {
             "colorbar": {
              "outlinewidth": 0,
              "ticks": ""
             }
            },
            "type": "scatterternary"
           }
          ],
          "surface": [
           {
            "colorbar": {
             "outlinewidth": 0,
             "ticks": ""
            },
            "colorscale": [
             [
              0,
              "#0d0887"
             ],
             [
              0.1111111111111111,
              "#46039f"
             ],
             [
              0.2222222222222222,
              "#7201a8"
             ],
             [
              0.3333333333333333,
              "#9c179e"
             ],
             [
              0.4444444444444444,
              "#bd3786"
             ],
             [
              0.5555555555555556,
              "#d8576b"
             ],
             [
              0.6666666666666666,
              "#ed7953"
             ],
             [
              0.7777777777777778,
              "#fb9f3a"
             ],
             [
              0.8888888888888888,
              "#fdca26"
             ],
             [
              1,
              "#f0f921"
             ]
            ],
            "type": "surface"
           }
          ],
          "table": [
           {
            "cells": {
             "fill": {
              "color": "#EBF0F8"
             },
             "line": {
              "color": "white"
             }
            },
            "header": {
             "fill": {
              "color": "#C8D4E3"
             },
             "line": {
              "color": "white"
             }
            },
            "type": "table"
           }
          ]
         },
         "layout": {
          "annotationdefaults": {
           "arrowcolor": "#2a3f5f",
           "arrowhead": 0,
           "arrowwidth": 1
          },
          "coloraxis": {
           "colorbar": {
            "outlinewidth": 0,
            "ticks": ""
           }
          },
          "colorscale": {
           "diverging": [
            [
             0,
             "#8e0152"
            ],
            [
             0.1,
             "#c51b7d"
            ],
            [
             0.2,
             "#de77ae"
            ],
            [
             0.3,
             "#f1b6da"
            ],
            [
             0.4,
             "#fde0ef"
            ],
            [
             0.5,
             "#f7f7f7"
            ],
            [
             0.6,
             "#e6f5d0"
            ],
            [
             0.7,
             "#b8e186"
            ],
            [
             0.8,
             "#7fbc41"
            ],
            [
             0.9,
             "#4d9221"
            ],
            [
             1,
             "#276419"
            ]
           ],
           "sequential": [
            [
             0,
             "#0d0887"
            ],
            [
             0.1111111111111111,
             "#46039f"
            ],
            [
             0.2222222222222222,
             "#7201a8"
            ],
            [
             0.3333333333333333,
             "#9c179e"
            ],
            [
             0.4444444444444444,
             "#bd3786"
            ],
            [
             0.5555555555555556,
             "#d8576b"
            ],
            [
             0.6666666666666666,
             "#ed7953"
            ],
            [
             0.7777777777777778,
             "#fb9f3a"
            ],
            [
             0.8888888888888888,
             "#fdca26"
            ],
            [
             1,
             "#f0f921"
            ]
           ],
           "sequentialminus": [
            [
             0,
             "#0d0887"
            ],
            [
             0.1111111111111111,
             "#46039f"
            ],
            [
             0.2222222222222222,
             "#7201a8"
            ],
            [
             0.3333333333333333,
             "#9c179e"
            ],
            [
             0.4444444444444444,
             "#bd3786"
            ],
            [
             0.5555555555555556,
             "#d8576b"
            ],
            [
             0.6666666666666666,
             "#ed7953"
            ],
            [
             0.7777777777777778,
             "#fb9f3a"
            ],
            [
             0.8888888888888888,
             "#fdca26"
            ],
            [
             1,
             "#f0f921"
            ]
           ]
          },
          "colorway": [
           "#636efa",
           "#EF553B",
           "#00cc96",
           "#ab63fa",
           "#FFA15A",
           "#19d3f3",
           "#FF6692",
           "#B6E880",
           "#FF97FF",
           "#FECB52"
          ],
          "font": {
           "color": "#2a3f5f"
          },
          "geo": {
           "bgcolor": "white",
           "lakecolor": "white",
           "landcolor": "#E5ECF6",
           "showlakes": true,
           "showland": true,
           "subunitcolor": "white"
          },
          "hoverlabel": {
           "align": "left"
          },
          "hovermode": "closest",
          "mapbox": {
           "style": "light"
          },
          "paper_bgcolor": "white",
          "plot_bgcolor": "#E5ECF6",
          "polar": {
           "angularaxis": {
            "gridcolor": "white",
            "linecolor": "white",
            "ticks": ""
           },
           "bgcolor": "#E5ECF6",
           "radialaxis": {
            "gridcolor": "white",
            "linecolor": "white",
            "ticks": ""
           }
          },
          "scene": {
           "xaxis": {
            "backgroundcolor": "#E5ECF6",
            "gridcolor": "white",
            "gridwidth": 2,
            "linecolor": "white",
            "showbackground": true,
            "ticks": "",
            "zerolinecolor": "white"
           },
           "yaxis": {
            "backgroundcolor": "#E5ECF6",
            "gridcolor": "white",
            "gridwidth": 2,
            "linecolor": "white",
            "showbackground": true,
            "ticks": "",
            "zerolinecolor": "white"
           },
           "zaxis": {
            "backgroundcolor": "#E5ECF6",
            "gridcolor": "white",
            "gridwidth": 2,
            "linecolor": "white",
            "showbackground": true,
            "ticks": "",
            "zerolinecolor": "white"
           }
          },
          "shapedefaults": {
           "line": {
            "color": "#2a3f5f"
           }
          },
          "ternary": {
           "aaxis": {
            "gridcolor": "white",
            "linecolor": "white",
            "ticks": ""
           },
           "baxis": {
            "gridcolor": "white",
            "linecolor": "white",
            "ticks": ""
           },
           "bgcolor": "#E5ECF6",
           "caxis": {
            "gridcolor": "white",
            "linecolor": "white",
            "ticks": ""
           }
          },
          "title": {
           "x": 0.05
          },
          "xaxis": {
           "automargin": true,
           "gridcolor": "white",
           "linecolor": "white",
           "ticks": "",
           "title": {
            "standoff": 15
           },
           "zerolinecolor": "white",
           "zerolinewidth": 2
          },
          "yaxis": {
           "automargin": true,
           "gridcolor": "white",
           "linecolor": "white",
           "ticks": "",
           "title": {
            "standoff": 15
           },
           "zerolinecolor": "white",
           "zerolinewidth": 2
          }
         }
        },
        "updatemenus": [
         {
          "active": 0,
          "buttons": [
           {
            "args": [
             {
              "name": [
               "Male",
               "Female"
              ],
              "y": [
               [
                5,
                73,
                61
               ],
               [
                6,
                40,
                30
               ]
              ]
             }
            ],
            "label": "Gender",
            "method": "update"
           },
           {
            "args": [
             {
              "name": [
               "Yes",
               "No"
              ],
              "y": [
               [
                5,
                36,
                33
               ],
               [
                6,
                77,
                58
               ]
              ]
             }
            ],
            "label": "Work Experience",
            "method": "update"
           },
           {
            "args": [
             {
              "name": [
               "Yes",
               "No"
              ],
              "y": [
               [
                6,
                79,
                63
               ],
               [
                5,
                34,
                28
               ]
              ]
             }
            ],
            "label": "Job Offer",
            "method": "update"
           }
          ],
          "direction": "down",
          "showactive": true
         }
        ],
        "xaxis": {
         "tickangle": -45,
         "tickvals": [
          "Arts",
          "Commerce",
          "Science"
         ]
        }
       }
      },
      "text/html": [
       "<div>\n",
       "        \n",
       "        \n",
       "            <div id=\"5937f1fa-7e48-4512-85b1-b15a933e87ae\" class=\"plotly-graph-div\" style=\"height:525px; width:100%;\"></div>\n",
       "            <script type=\"text/javascript\">\n",
       "                require([\"plotly\"], function(Plotly) {\n",
       "                    window.PLOTLYENV=window.PLOTLYENV || {};\n",
       "                    \n",
       "                if (document.getElementById(\"5937f1fa-7e48-4512-85b1-b15a933e87ae\")) {\n",
       "                    Plotly.newPlot(\n",
       "                        '5937f1fa-7e48-4512-85b1-b15a933e87ae',\n",
       "                        [{\"marker\": {\"color\": \"darkblue\"}, \"name\": \"Male\", \"type\": \"bar\", \"width\": 0.2, \"x\": [\"Arts\", \"Commerce\", \"Science\"], \"y\": [5, 73, 61]}, {\"marker\": {\"color\": \"crimson\"}, \"name\": \"Female\", \"type\": \"bar\", \"width\": 0.2, \"x\": [\"Arts\", \"Commerce\", \"Science\"], \"y\": [6, 40, 30]}],\n",
       "                        {\"barmode\": \"stack\", \"template\": {\"data\": {\"bar\": [{\"error_x\": {\"color\": \"#2a3f5f\"}, \"error_y\": {\"color\": \"#2a3f5f\"}, \"marker\": {\"line\": {\"color\": \"#E5ECF6\", \"width\": 0.5}}, \"type\": \"bar\"}], \"barpolar\": [{\"marker\": {\"line\": {\"color\": \"#E5ECF6\", \"width\": 0.5}}, \"type\": \"barpolar\"}], \"carpet\": [{\"aaxis\": {\"endlinecolor\": \"#2a3f5f\", \"gridcolor\": \"white\", \"linecolor\": \"white\", \"minorgridcolor\": \"white\", \"startlinecolor\": \"#2a3f5f\"}, \"baxis\": {\"endlinecolor\": \"#2a3f5f\", \"gridcolor\": \"white\", \"linecolor\": \"white\", \"minorgridcolor\": \"white\", \"startlinecolor\": \"#2a3f5f\"}, \"type\": \"carpet\"}], \"choropleth\": [{\"colorbar\": {\"outlinewidth\": 0, \"ticks\": \"\"}, \"type\": \"choropleth\"}], \"contour\": [{\"colorbar\": {\"outlinewidth\": 0, \"ticks\": \"\"}, \"colorscale\": [[0.0, \"#0d0887\"], [0.1111111111111111, \"#46039f\"], [0.2222222222222222, \"#7201a8\"], [0.3333333333333333, \"#9c179e\"], [0.4444444444444444, \"#bd3786\"], [0.5555555555555556, \"#d8576b\"], [0.6666666666666666, \"#ed7953\"], [0.7777777777777778, \"#fb9f3a\"], [0.8888888888888888, \"#fdca26\"], [1.0, \"#f0f921\"]], \"type\": \"contour\"}], \"contourcarpet\": [{\"colorbar\": {\"outlinewidth\": 0, \"ticks\": \"\"}, \"type\": \"contourcarpet\"}], \"heatmap\": [{\"colorbar\": {\"outlinewidth\": 0, \"ticks\": \"\"}, \"colorscale\": [[0.0, \"#0d0887\"], [0.1111111111111111, \"#46039f\"], [0.2222222222222222, \"#7201a8\"], [0.3333333333333333, \"#9c179e\"], [0.4444444444444444, \"#bd3786\"], [0.5555555555555556, \"#d8576b\"], [0.6666666666666666, \"#ed7953\"], [0.7777777777777778, \"#fb9f3a\"], [0.8888888888888888, \"#fdca26\"], [1.0, \"#f0f921\"]], \"type\": \"heatmap\"}], \"heatmapgl\": [{\"colorbar\": {\"outlinewidth\": 0, \"ticks\": \"\"}, \"colorscale\": [[0.0, \"#0d0887\"], [0.1111111111111111, \"#46039f\"], [0.2222222222222222, \"#7201a8\"], [0.3333333333333333, \"#9c179e\"], [0.4444444444444444, \"#bd3786\"], [0.5555555555555556, \"#d8576b\"], [0.6666666666666666, \"#ed7953\"], [0.7777777777777778, \"#fb9f3a\"], [0.8888888888888888, \"#fdca26\"], [1.0, \"#f0f921\"]], \"type\": \"heatmapgl\"}], \"histogram\": [{\"marker\": {\"colorbar\": {\"outlinewidth\": 0, \"ticks\": \"\"}}, \"type\": \"histogram\"}], \"histogram2d\": [{\"colorbar\": {\"outlinewidth\": 0, \"ticks\": \"\"}, \"colorscale\": [[0.0, \"#0d0887\"], [0.1111111111111111, \"#46039f\"], [0.2222222222222222, \"#7201a8\"], [0.3333333333333333, \"#9c179e\"], [0.4444444444444444, \"#bd3786\"], [0.5555555555555556, \"#d8576b\"], [0.6666666666666666, \"#ed7953\"], [0.7777777777777778, \"#fb9f3a\"], [0.8888888888888888, \"#fdca26\"], [1.0, \"#f0f921\"]], \"type\": \"histogram2d\"}], \"histogram2dcontour\": [{\"colorbar\": {\"outlinewidth\": 0, \"ticks\": \"\"}, \"colorscale\": [[0.0, \"#0d0887\"], [0.1111111111111111, \"#46039f\"], [0.2222222222222222, \"#7201a8\"], [0.3333333333333333, \"#9c179e\"], [0.4444444444444444, \"#bd3786\"], [0.5555555555555556, \"#d8576b\"], [0.6666666666666666, \"#ed7953\"], [0.7777777777777778, \"#fb9f3a\"], [0.8888888888888888, \"#fdca26\"], [1.0, \"#f0f921\"]], \"type\": \"histogram2dcontour\"}], \"mesh3d\": [{\"colorbar\": {\"outlinewidth\": 0, \"ticks\": \"\"}, \"type\": \"mesh3d\"}], \"parcoords\": [{\"line\": {\"colorbar\": {\"outlinewidth\": 0, \"ticks\": \"\"}}, \"type\": \"parcoords\"}], \"pie\": [{\"automargin\": true, \"type\": \"pie\"}], \"scatter\": [{\"marker\": {\"colorbar\": {\"outlinewidth\": 0, \"ticks\": \"\"}}, \"type\": \"scatter\"}], \"scatter3d\": [{\"line\": {\"colorbar\": {\"outlinewidth\": 0, \"ticks\": \"\"}}, \"marker\": {\"colorbar\": {\"outlinewidth\": 0, \"ticks\": \"\"}}, \"type\": \"scatter3d\"}], \"scattercarpet\": [{\"marker\": {\"colorbar\": {\"outlinewidth\": 0, \"ticks\": \"\"}}, \"type\": \"scattercarpet\"}], \"scattergeo\": [{\"marker\": {\"colorbar\": {\"outlinewidth\": 0, \"ticks\": \"\"}}, \"type\": \"scattergeo\"}], \"scattergl\": [{\"marker\": {\"colorbar\": {\"outlinewidth\": 0, \"ticks\": \"\"}}, \"type\": \"scattergl\"}], \"scattermapbox\": [{\"marker\": {\"colorbar\": {\"outlinewidth\": 0, \"ticks\": \"\"}}, \"type\": \"scattermapbox\"}], \"scatterpolar\": [{\"marker\": {\"colorbar\": {\"outlinewidth\": 0, \"ticks\": \"\"}}, \"type\": \"scatterpolar\"}], \"scatterpolargl\": [{\"marker\": {\"colorbar\": {\"outlinewidth\": 0, \"ticks\": \"\"}}, \"type\": \"scatterpolargl\"}], \"scatterternary\": [{\"marker\": {\"colorbar\": {\"outlinewidth\": 0, \"ticks\": \"\"}}, \"type\": \"scatterternary\"}], \"surface\": [{\"colorbar\": {\"outlinewidth\": 0, \"ticks\": \"\"}, \"colorscale\": [[0.0, \"#0d0887\"], [0.1111111111111111, \"#46039f\"], [0.2222222222222222, \"#7201a8\"], [0.3333333333333333, \"#9c179e\"], [0.4444444444444444, \"#bd3786\"], [0.5555555555555556, \"#d8576b\"], [0.6666666666666666, \"#ed7953\"], [0.7777777777777778, \"#fb9f3a\"], [0.8888888888888888, \"#fdca26\"], [1.0, \"#f0f921\"]], \"type\": \"surface\"}], \"table\": [{\"cells\": {\"fill\": {\"color\": \"#EBF0F8\"}, \"line\": {\"color\": \"white\"}}, \"header\": {\"fill\": {\"color\": \"#C8D4E3\"}, \"line\": {\"color\": \"white\"}}, \"type\": \"table\"}]}, \"layout\": {\"annotationdefaults\": {\"arrowcolor\": \"#2a3f5f\", \"arrowhead\": 0, \"arrowwidth\": 1}, \"coloraxis\": {\"colorbar\": {\"outlinewidth\": 0, \"ticks\": \"\"}}, \"colorscale\": {\"diverging\": [[0, \"#8e0152\"], [0.1, \"#c51b7d\"], [0.2, \"#de77ae\"], [0.3, \"#f1b6da\"], [0.4, \"#fde0ef\"], [0.5, \"#f7f7f7\"], [0.6, \"#e6f5d0\"], [0.7, \"#b8e186\"], [0.8, \"#7fbc41\"], [0.9, \"#4d9221\"], [1, \"#276419\"]], \"sequential\": [[0.0, \"#0d0887\"], [0.1111111111111111, \"#46039f\"], [0.2222222222222222, \"#7201a8\"], [0.3333333333333333, \"#9c179e\"], [0.4444444444444444, \"#bd3786\"], [0.5555555555555556, \"#d8576b\"], [0.6666666666666666, \"#ed7953\"], [0.7777777777777778, \"#fb9f3a\"], [0.8888888888888888, \"#fdca26\"], [1.0, \"#f0f921\"]], \"sequentialminus\": [[0.0, \"#0d0887\"], [0.1111111111111111, \"#46039f\"], [0.2222222222222222, \"#7201a8\"], [0.3333333333333333, \"#9c179e\"], [0.4444444444444444, \"#bd3786\"], [0.5555555555555556, \"#d8576b\"], [0.6666666666666666, \"#ed7953\"], [0.7777777777777778, \"#fb9f3a\"], [0.8888888888888888, \"#fdca26\"], [1.0, \"#f0f921\"]]}, \"colorway\": [\"#636efa\", \"#EF553B\", \"#00cc96\", \"#ab63fa\", \"#FFA15A\", \"#19d3f3\", \"#FF6692\", \"#B6E880\", \"#FF97FF\", \"#FECB52\"], \"font\": {\"color\": \"#2a3f5f\"}, \"geo\": {\"bgcolor\": \"white\", \"lakecolor\": \"white\", \"landcolor\": \"#E5ECF6\", \"showlakes\": true, \"showland\": true, \"subunitcolor\": \"white\"}, \"hoverlabel\": {\"align\": \"left\"}, \"hovermode\": \"closest\", \"mapbox\": {\"style\": \"light\"}, \"paper_bgcolor\": \"white\", \"plot_bgcolor\": \"#E5ECF6\", \"polar\": {\"angularaxis\": {\"gridcolor\": \"white\", \"linecolor\": \"white\", \"ticks\": \"\"}, \"bgcolor\": \"#E5ECF6\", \"radialaxis\": {\"gridcolor\": \"white\", \"linecolor\": \"white\", \"ticks\": \"\"}}, \"scene\": {\"xaxis\": {\"backgroundcolor\": \"#E5ECF6\", \"gridcolor\": \"white\", \"gridwidth\": 2, \"linecolor\": \"white\", \"showbackground\": true, \"ticks\": \"\", \"zerolinecolor\": \"white\"}, \"yaxis\": {\"backgroundcolor\": \"#E5ECF6\", \"gridcolor\": \"white\", \"gridwidth\": 2, \"linecolor\": \"white\", \"showbackground\": true, \"ticks\": \"\", \"zerolinecolor\": \"white\"}, \"zaxis\": {\"backgroundcolor\": \"#E5ECF6\", \"gridcolor\": \"white\", \"gridwidth\": 2, \"linecolor\": \"white\", \"showbackground\": true, \"ticks\": \"\", \"zerolinecolor\": \"white\"}}, \"shapedefaults\": {\"line\": {\"color\": \"#2a3f5f\"}}, \"ternary\": {\"aaxis\": {\"gridcolor\": \"white\", \"linecolor\": \"white\", \"ticks\": \"\"}, \"baxis\": {\"gridcolor\": \"white\", \"linecolor\": \"white\", \"ticks\": \"\"}, \"bgcolor\": \"#E5ECF6\", \"caxis\": {\"gridcolor\": \"white\", \"linecolor\": \"white\", \"ticks\": \"\"}}, \"title\": {\"x\": 0.05}, \"xaxis\": {\"automargin\": true, \"gridcolor\": \"white\", \"linecolor\": \"white\", \"ticks\": \"\", \"title\": {\"standoff\": 15}, \"zerolinecolor\": \"white\", \"zerolinewidth\": 2}, \"yaxis\": {\"automargin\": true, \"gridcolor\": \"white\", \"linecolor\": \"white\", \"ticks\": \"\", \"title\": {\"standoff\": 15}, \"zerolinecolor\": \"white\", \"zerolinewidth\": 2}}}, \"updatemenus\": [{\"active\": 0, \"buttons\": [{\"args\": [{\"name\": [\"Male\", \"Female\"], \"y\": [[5, 73, 61], [6, 40, 30]]}], \"label\": \"Gender\", \"method\": \"update\"}, {\"args\": [{\"name\": [\"Yes\", \"No\"], \"y\": [[5, 36, 33], [6, 77, 58]]}], \"label\": \"Work Experience\", \"method\": \"update\"}, {\"args\": [{\"name\": [\"Yes\", \"No\"], \"y\": [[6, 79, 63], [5, 34, 28]]}], \"label\": \"Job Offer\", \"method\": \"update\"}], \"direction\": \"down\", \"showactive\": true}], \"xaxis\": {\"tickangle\": -45, \"tickvals\": [\"Arts\", \"Commerce\", \"Science\"]}},\n",
       "                        {\"responsive\": true}\n",
       "                    ).then(function(){\n",
       "                            \n",
       "var gd = document.getElementById('5937f1fa-7e48-4512-85b1-b15a933e87ae');\n",
       "var x = new MutationObserver(function (mutations, observer) {{\n",
       "        var display = window.getComputedStyle(gd).display;\n",
       "        if (!display || display === 'none') {{\n",
       "            console.log([gd, 'removed!']);\n",
       "            Plotly.purge(gd);\n",
       "            observer.disconnect();\n",
       "        }}\n",
       "}});\n",
       "\n",
       "// Listen for the removal of the full notebook cells\n",
       "var notebookContainer = gd.closest('#notebook-container');\n",
       "if (notebookContainer) {{\n",
       "    x.observe(notebookContainer, {childList: true});\n",
       "}}\n",
       "\n",
       "// Listen for the clearing of the current output cell\n",
       "var outputEl = gd.closest('.output');\n",
       "if (outputEl) {{\n",
       "    x.observe(outputEl, {childList: true});\n",
       "}}\n",
       "\n",
       "                        })\n",
       "                };\n",
       "                });\n",
       "            </script>\n",
       "        </div>"
      ]
     },
     "metadata": {},
     "output_type": "display_data"
    }
   ],
   "source": [
    "# job offer comparison\n",
    "y_m = df_m['Gender']\n",
    "y_f = df_f['Gender']\n",
    "y_y = df_y['Gender']\n",
    "y_n = df_n['Gender']\n",
    "y_p = df_p['Gender']\n",
    "y_np = df_np['Gender']\n",
    "fig = go.Figure()\n",
    "fig.add_trace(go.Bar(x=labels, y=y_m, name=\"Male\", marker_color=\"darkblue\", width=0.2))\n",
    "fig.add_trace(go.Bar(x=labels, y=y_f, name=\"Female\", marker_color=\"crimson\", width=0.2))\n",
    "\n",
    "# COLORS WONT CHANGE\n",
    "\n",
    "fig.update_layout(barmode='stack',\n",
    "                  xaxis = dict(tickvals = labels),\n",
    "                  xaxis_tickangle=-45,\n",
    "                  updatemenus=[dict(buttons=list([\n",
    "                      dict(\n",
    "                          args=[{\"y\":[y_m,y_f],\"name\":['Male','Female']}],\n",
    "                          label = 'Gender',\n",
    "                          method='update'\n",
    "                      ),\n",
    "                      dict(\n",
    "                          args=[{\"y\":[y_y,y_n],\"name\":['Yes','No']}],\n",
    "                          label = 'Work Experience',\n",
    "                          method='update'\n",
    "                      ),\n",
    "                      dict(\n",
    "                          args=[{\"y\":[y_p,y_np],\"name\":['Yes','No']}],\n",
    "                          label = 'Job Offer',\n",
    "                          method='update'\n",
    "                      )]),              \n",
    "                      direction=\"down\",active=0, showactive=True\n",
    "                                                        )])"
   ]
  },
  {
   "cell_type": "markdown",
   "metadata": {},
   "source": [
    "Data formatting to differentiate between males and females and their categorical data in relation to salary."
   ]
  },
  {
   "cell_type": "code",
   "execution_count": 9,
   "metadata": {},
   "outputs": [],
   "source": [
    "females = df.loc[df['Gender']=='F']\n",
    "males = df.loc[df['Gender']=='M']"
   ]
  },
  {
   "cell_type": "markdown",
   "metadata": {},
   "source": [
    " Third visual displaying male and female salaries in relation to categorical data. \n",
    " \n",
    "NOTE: The overlap of the smaller crimson circles and larger transparent gold circles causes it to appear as if there are another group of small orange circles. This is not the case."
   ]
  },
  {
   "cell_type": "code",
   "execution_count": 10,
   "metadata": {
    "scrolled": false
   },
   "outputs": [
    {
     "data": {
      "application/vnd.plotly.v1+json": {
       "config": {
        "plotlyServerURL": "https://plot.ly"
       },
       "data": [
        {
         "marker": {
          "color": "crimson",
          "line": {
           "color": "DarkSlateGrey",
           "width": 0.5
          },
          "size": 10
         },
         "mode": "markers",
         "name": "Women",
         "type": "scatter",
         "x": [
          null,
          null,
          2883.98,
          2645.85,
          null,
          null,
          5199.1,
          4762.53,
          3968.78,
          null,
          3307.32,
          null,
          3677.74,
          3439.61,
          3968.78,
          4233.36,
          3175.02,
          3796.8,
          null,
          2645.85,
          null,
          null,
          null,
          2645.85,
          null,
          2857.52,
          3175.02,
          null,
          null,
          3042.73,
          null,
          3175.02,
          5291.71,
          2778.15,
          2778.15,
          3968.78,
          3042.73,
          3968.78,
          null,
          2910.44,
          null,
          3968.78,
          3307.32,
          3704.19,
          2857.52,
          3307.32,
          3122.11,
          4630.24,
          2778.15,
          3307.32,
          4762.53,
          3307.32,
          2645.85,
          null,
          3307.32,
          3175.02,
          3175.02,
          3307.32,
          null,
          null,
          null,
          null,
          2910.44,
          8599.02,
          null,
          null,
          3333.77,
          null,
          null,
          null,
          3968.78,
          3439.61,
          null,
          2778.15,
          null,
          2698.77
         ],
         "y": [
          "Mkt&Fin",
          "Mkt&HR",
          "Mkt&Fin",
          "Mkt&Fin",
          "Mkt&Fin",
          "Mkt&HR",
          "Mkt&Fin",
          "Mkt&HR",
          "Mkt&Fin",
          "Mkt&Fin",
          "Mkt&HR",
          "Mkt&HR",
          "Mkt&HR",
          "Mkt&Fin",
          "Mkt&HR",
          "Mkt&HR",
          "Mkt&HR",
          "Mkt&Fin",
          "Mkt&HR",
          "Mkt&Fin",
          "Mkt&HR",
          "Mkt&HR",
          "Mkt&HR",
          "Mkt&HR",
          "Mkt&HR",
          "Mkt&HR",
          "Mkt&Fin",
          "Mkt&HR",
          "Mkt&HR",
          "Mkt&Fin",
          "Mkt&HR",
          "Mkt&HR",
          "Mkt&Fin",
          "Mkt&HR",
          "Mkt&HR",
          "Mkt&Fin",
          "Mkt&Fin",
          "Mkt&Fin",
          "Mkt&Fin",
          "Mkt&Fin",
          "Mkt&HR",
          "Mkt&Fin",
          "Mkt&HR",
          "Mkt&Fin",
          "Mkt&Fin",
          "Mkt&HR",
          "Mkt&Fin",
          "Mkt&Fin",
          "Mkt&Fin",
          "Mkt&HR",
          "Mkt&Fin",
          "Mkt&Fin",
          "Mkt&HR",
          "Mkt&Fin",
          "Mkt&Fin",
          "Mkt&Fin",
          "Mkt&Fin",
          "Mkt&Fin",
          "Mkt&Fin",
          "Mkt&HR",
          "Mkt&HR",
          "Mkt&HR",
          "Mkt&HR",
          "Mkt&Fin",
          "Mkt&HR",
          "Mkt&HR",
          "Mkt&HR",
          "Mkt&Fin",
          "Mkt&Fin",
          "Mkt&Fin",
          "Mkt&HR",
          "Mkt&HR",
          "Mkt&HR",
          "Mkt&Fin",
          "Mkt&HR",
          "Mkt&HR"
         ]
        },
        {
         "marker": {
          "color": "gold",
          "line": {
           "color": "DarkSlateGrey",
           "width": 0.5
          },
          "size": 15
         },
         "mode": "markers",
         "name": "Men",
         "opacity": 0.5,
         "type": "scatter",
         "x": [
          3571.9,
          2645.85,
          3307.32,
          null,
          5622.44,
          null,
          3333.77,
          3055.96,
          null,
          3439.61,
          3307.32,
          null,
          3968.78,
          3122.11,
          3505.75,
          4762.53,
          3175.02,
          3505.75,
          4630.24,
          null,
          null,
          null,
          5437.23,
          null,
          3968.78,
          2698.77,
          3307.32,
          null,
          5953.17,
          2910.44,
          3175.02,
          4762.53,
          3545.44,
          3505.75,
          3439.61,
          3968.78,
          null,
          3175.02,
          null,
          3638.05,
          3638.05,
          3638.05,
          4762.53,
          3175.02,
          3175.02,
          2883.98,
          4445.03,
          6614.63,
          3571.9,
          3968.78,
          null,
          3968.78,
          3968.78,
          2910.44,
          null,
          null,
          null,
          3439.61,
          5556.29,
          null,
          5027.12,
          3175.02,
          4762.53,
          null,
          null,
          2645.85,
          3968.78,
          null,
          null,
          3307.32,
          3307.32,
          3968.78,
          3175.02,
          3651.28,
          12435.51,
          null,
          3175.02,
          3307.32,
          5291.71,
          3307.32,
          null,
          3968.78,
          3307.32,
          2976.58,
          2910.44,
          3505.75,
          null,
          3439.61,
          3968.78,
          null,
          5291.71,
          3082.42,
          3968.78,
          null,
          9128.19,
          3571.9,
          4497.95,
          3307.32,
          null,
          3373.46,
          3968.78,
          null,
          null,
          3968.78,
          null,
          3770.34,
          6614.63,
          3175.02,
          null,
          null,
          3836.49,
          3968.78,
          6614.63,
          null,
          4630.24,
          3505.75,
          null,
          null,
          3651.28,
          3704.19,
          null,
          3492.53,
          3571.9,
          null,
          3638.05,
          3307.32,
          3505.75,
          3968.78,
          null,
          3175.02,
          3439.61,
          3307.32,
          null,
          3968.78,
          2857.52,
          5291.71,
          3638.05,
          3902.63,
          null
         ],
         "y": [
          "Mkt&HR",
          "Mkt&Fin",
          "Mkt&Fin",
          "Mkt&HR",
          "Mkt&Fin",
          "Mkt&Fin",
          "Mkt&Fin",
          "Mkt&Fin",
          "Mkt&Fin",
          "Mkt&HR",
          "Mkt&Fin",
          "Mkt&HR",
          "Mkt&Fin",
          "Mkt&Fin",
          "Mkt&HR",
          "Mkt&Fin",
          "Mkt&Fin",
          "Mkt&HR",
          "Mkt&Fin",
          "Mkt&Fin",
          "Mkt&HR",
          "Mkt&Fin",
          "Mkt&Fin",
          "Mkt&Fin",
          "Mkt&HR",
          "Mkt&Fin",
          "Mkt&Fin",
          "Mkt&HR",
          "Mkt&HR",
          "Mkt&HR",
          "Mkt&Fin",
          "Mkt&Fin",
          "Mkt&Fin",
          "Mkt&Fin",
          "Mkt&Fin",
          "Mkt&Fin",
          "Mkt&HR",
          "Mkt&Fin",
          "Mkt&HR",
          "Mkt&HR",
          "Mkt&Fin",
          "Mkt&Fin",
          "Mkt&Fin",
          "Mkt&Fin",
          "Mkt&Fin",
          "Mkt&Fin",
          "Mkt&Fin",
          "Mkt&Fin",
          "Mkt&Fin",
          "Mkt&Fin",
          "Mkt&Fin",
          "Mkt&Fin",
          "Mkt&Fin",
          "Mkt&Fin",
          "Mkt&HR",
          "Mkt&HR",
          "Mkt&HR",
          "Mkt&Fin",
          "Mkt&Fin",
          "Mkt&Fin",
          "Mkt&HR",
          "Mkt&HR",
          "Mkt&HR",
          "Mkt&HR",
          "Mkt&Fin",
          "Mkt&HR",
          "Mkt&Fin",
          "Mkt&HR",
          "Mkt&HR",
          "Mkt&HR",
          "Mkt&HR",
          "Mkt&Fin",
          "Mkt&Fin",
          "Mkt&HR",
          "Mkt&Fin",
          "Mkt&HR",
          "Mkt&HR",
          "Mkt&HR",
          "Mkt&HR",
          "Mkt&Fin",
          "Mkt&Fin",
          "Mkt&HR",
          "Mkt&HR",
          "Mkt&HR",
          "Mkt&Fin",
          "Mkt&Fin",
          "Mkt&HR",
          "Mkt&Fin",
          "Mkt&Fin",
          "Mkt&Fin",
          "Mkt&HR",
          "Mkt&HR",
          "Mkt&Fin",
          "Mkt&HR",
          "Mkt&Fin",
          "Mkt&Fin",
          "Mkt&Fin",
          "Mkt&Fin",
          "Mkt&HR",
          "Mkt&HR",
          "Mkt&Fin",
          "Mkt&Fin",
          "Mkt&HR",
          "Mkt&HR",
          "Mkt&HR",
          "Mkt&Fin",
          "Mkt&Fin",
          "Mkt&HR",
          "Mkt&Fin",
          "Mkt&HR",
          "Mkt&Fin",
          "Mkt&HR",
          "Mkt&Fin",
          "Mkt&HR",
          "Mkt&HR",
          "Mkt&Fin",
          "Mkt&HR",
          "Mkt&Fin",
          "Mkt&HR",
          "Mkt&Fin",
          "Mkt&Fin",
          "Mkt&Fin",
          "Mkt&Fin",
          "Mkt&Fin",
          "Mkt&HR",
          "Mkt&Fin",
          "Mkt&HR",
          "Mkt&Fin",
          "Mkt&HR",
          "Mkt&HR",
          "Mkt&HR",
          "Mkt&Fin",
          "Mkt&Fin",
          "Mkt&Fin",
          "Mkt&Fin",
          "Mkt&Fin",
          "Mkt&Fin",
          "Mkt&Fin",
          "Mkt&HR"
         ]
        }
       ],
       "layout": {
        "template": {
         "data": {
          "bar": [
           {
            "error_x": {
             "color": "#2a3f5f"
            },
            "error_y": {
             "color": "#2a3f5f"
            },
            "marker": {
             "line": {
              "color": "#E5ECF6",
              "width": 0.5
             }
            },
            "type": "bar"
           }
          ],
          "barpolar": [
           {
            "marker": {
             "line": {
              "color": "#E5ECF6",
              "width": 0.5
             }
            },
            "type": "barpolar"
           }
          ],
          "carpet": [
           {
            "aaxis": {
             "endlinecolor": "#2a3f5f",
             "gridcolor": "white",
             "linecolor": "white",
             "minorgridcolor": "white",
             "startlinecolor": "#2a3f5f"
            },
            "baxis": {
             "endlinecolor": "#2a3f5f",
             "gridcolor": "white",
             "linecolor": "white",
             "minorgridcolor": "white",
             "startlinecolor": "#2a3f5f"
            },
            "type": "carpet"
           }
          ],
          "choropleth": [
           {
            "colorbar": {
             "outlinewidth": 0,
             "ticks": ""
            },
            "type": "choropleth"
           }
          ],
          "contour": [
           {
            "colorbar": {
             "outlinewidth": 0,
             "ticks": ""
            },
            "colorscale": [
             [
              0,
              "#0d0887"
             ],
             [
              0.1111111111111111,
              "#46039f"
             ],
             [
              0.2222222222222222,
              "#7201a8"
             ],
             [
              0.3333333333333333,
              "#9c179e"
             ],
             [
              0.4444444444444444,
              "#bd3786"
             ],
             [
              0.5555555555555556,
              "#d8576b"
             ],
             [
              0.6666666666666666,
              "#ed7953"
             ],
             [
              0.7777777777777778,
              "#fb9f3a"
             ],
             [
              0.8888888888888888,
              "#fdca26"
             ],
             [
              1,
              "#f0f921"
             ]
            ],
            "type": "contour"
           }
          ],
          "contourcarpet": [
           {
            "colorbar": {
             "outlinewidth": 0,
             "ticks": ""
            },
            "type": "contourcarpet"
           }
          ],
          "heatmap": [
           {
            "colorbar": {
             "outlinewidth": 0,
             "ticks": ""
            },
            "colorscale": [
             [
              0,
              "#0d0887"
             ],
             [
              0.1111111111111111,
              "#46039f"
             ],
             [
              0.2222222222222222,
              "#7201a8"
             ],
             [
              0.3333333333333333,
              "#9c179e"
             ],
             [
              0.4444444444444444,
              "#bd3786"
             ],
             [
              0.5555555555555556,
              "#d8576b"
             ],
             [
              0.6666666666666666,
              "#ed7953"
             ],
             [
              0.7777777777777778,
              "#fb9f3a"
             ],
             [
              0.8888888888888888,
              "#fdca26"
             ],
             [
              1,
              "#f0f921"
             ]
            ],
            "type": "heatmap"
           }
          ],
          "heatmapgl": [
           {
            "colorbar": {
             "outlinewidth": 0,
             "ticks": ""
            },
            "colorscale": [
             [
              0,
              "#0d0887"
             ],
             [
              0.1111111111111111,
              "#46039f"
             ],
             [
              0.2222222222222222,
              "#7201a8"
             ],
             [
              0.3333333333333333,
              "#9c179e"
             ],
             [
              0.4444444444444444,
              "#bd3786"
             ],
             [
              0.5555555555555556,
              "#d8576b"
             ],
             [
              0.6666666666666666,
              "#ed7953"
             ],
             [
              0.7777777777777778,
              "#fb9f3a"
             ],
             [
              0.8888888888888888,
              "#fdca26"
             ],
             [
              1,
              "#f0f921"
             ]
            ],
            "type": "heatmapgl"
           }
          ],
          "histogram": [
           {
            "marker": {
             "colorbar": {
              "outlinewidth": 0,
              "ticks": ""
             }
            },
            "type": "histogram"
           }
          ],
          "histogram2d": [
           {
            "colorbar": {
             "outlinewidth": 0,
             "ticks": ""
            },
            "colorscale": [
             [
              0,
              "#0d0887"
             ],
             [
              0.1111111111111111,
              "#46039f"
             ],
             [
              0.2222222222222222,
              "#7201a8"
             ],
             [
              0.3333333333333333,
              "#9c179e"
             ],
             [
              0.4444444444444444,
              "#bd3786"
             ],
             [
              0.5555555555555556,
              "#d8576b"
             ],
             [
              0.6666666666666666,
              "#ed7953"
             ],
             [
              0.7777777777777778,
              "#fb9f3a"
             ],
             [
              0.8888888888888888,
              "#fdca26"
             ],
             [
              1,
              "#f0f921"
             ]
            ],
            "type": "histogram2d"
           }
          ],
          "histogram2dcontour": [
           {
            "colorbar": {
             "outlinewidth": 0,
             "ticks": ""
            },
            "colorscale": [
             [
              0,
              "#0d0887"
             ],
             [
              0.1111111111111111,
              "#46039f"
             ],
             [
              0.2222222222222222,
              "#7201a8"
             ],
             [
              0.3333333333333333,
              "#9c179e"
             ],
             [
              0.4444444444444444,
              "#bd3786"
             ],
             [
              0.5555555555555556,
              "#d8576b"
             ],
             [
              0.6666666666666666,
              "#ed7953"
             ],
             [
              0.7777777777777778,
              "#fb9f3a"
             ],
             [
              0.8888888888888888,
              "#fdca26"
             ],
             [
              1,
              "#f0f921"
             ]
            ],
            "type": "histogram2dcontour"
           }
          ],
          "mesh3d": [
           {
            "colorbar": {
             "outlinewidth": 0,
             "ticks": ""
            },
            "type": "mesh3d"
           }
          ],
          "parcoords": [
           {
            "line": {
             "colorbar": {
              "outlinewidth": 0,
              "ticks": ""
             }
            },
            "type": "parcoords"
           }
          ],
          "pie": [
           {
            "automargin": true,
            "type": "pie"
           }
          ],
          "scatter": [
           {
            "marker": {
             "colorbar": {
              "outlinewidth": 0,
              "ticks": ""
             }
            },
            "type": "scatter"
           }
          ],
          "scatter3d": [
           {
            "line": {
             "colorbar": {
              "outlinewidth": 0,
              "ticks": ""
             }
            },
            "marker": {
             "colorbar": {
              "outlinewidth": 0,
              "ticks": ""
             }
            },
            "type": "scatter3d"
           }
          ],
          "scattercarpet": [
           {
            "marker": {
             "colorbar": {
              "outlinewidth": 0,
              "ticks": ""
             }
            },
            "type": "scattercarpet"
           }
          ],
          "scattergeo": [
           {
            "marker": {
             "colorbar": {
              "outlinewidth": 0,
              "ticks": ""
             }
            },
            "type": "scattergeo"
           }
          ],
          "scattergl": [
           {
            "marker": {
             "colorbar": {
              "outlinewidth": 0,
              "ticks": ""
             }
            },
            "type": "scattergl"
           }
          ],
          "scattermapbox": [
           {
            "marker": {
             "colorbar": {
              "outlinewidth": 0,
              "ticks": ""
             }
            },
            "type": "scattermapbox"
           }
          ],
          "scatterpolar": [
           {
            "marker": {
             "colorbar": {
              "outlinewidth": 0,
              "ticks": ""
             }
            },
            "type": "scatterpolar"
           }
          ],
          "scatterpolargl": [
           {
            "marker": {
             "colorbar": {
              "outlinewidth": 0,
              "ticks": ""
             }
            },
            "type": "scatterpolargl"
           }
          ],
          "scatterternary": [
           {
            "marker": {
             "colorbar": {
              "outlinewidth": 0,
              "ticks": ""
             }
            },
            "type": "scatterternary"
           }
          ],
          "surface": [
           {
            "colorbar": {
             "outlinewidth": 0,
             "ticks": ""
            },
            "colorscale": [
             [
              0,
              "#0d0887"
             ],
             [
              0.1111111111111111,
              "#46039f"
             ],
             [
              0.2222222222222222,
              "#7201a8"
             ],
             [
              0.3333333333333333,
              "#9c179e"
             ],
             [
              0.4444444444444444,
              "#bd3786"
             ],
             [
              0.5555555555555556,
              "#d8576b"
             ],
             [
              0.6666666666666666,
              "#ed7953"
             ],
             [
              0.7777777777777778,
              "#fb9f3a"
             ],
             [
              0.8888888888888888,
              "#fdca26"
             ],
             [
              1,
              "#f0f921"
             ]
            ],
            "type": "surface"
           }
          ],
          "table": [
           {
            "cells": {
             "fill": {
              "color": "#EBF0F8"
             },
             "line": {
              "color": "white"
             }
            },
            "header": {
             "fill": {
              "color": "#C8D4E3"
             },
             "line": {
              "color": "white"
             }
            },
            "type": "table"
           }
          ]
         },
         "layout": {
          "annotationdefaults": {
           "arrowcolor": "#2a3f5f",
           "arrowhead": 0,
           "arrowwidth": 1
          },
          "coloraxis": {
           "colorbar": {
            "outlinewidth": 0,
            "ticks": ""
           }
          },
          "colorscale": {
           "diverging": [
            [
             0,
             "#8e0152"
            ],
            [
             0.1,
             "#c51b7d"
            ],
            [
             0.2,
             "#de77ae"
            ],
            [
             0.3,
             "#f1b6da"
            ],
            [
             0.4,
             "#fde0ef"
            ],
            [
             0.5,
             "#f7f7f7"
            ],
            [
             0.6,
             "#e6f5d0"
            ],
            [
             0.7,
             "#b8e186"
            ],
            [
             0.8,
             "#7fbc41"
            ],
            [
             0.9,
             "#4d9221"
            ],
            [
             1,
             "#276419"
            ]
           ],
           "sequential": [
            [
             0,
             "#0d0887"
            ],
            [
             0.1111111111111111,
             "#46039f"
            ],
            [
             0.2222222222222222,
             "#7201a8"
            ],
            [
             0.3333333333333333,
             "#9c179e"
            ],
            [
             0.4444444444444444,
             "#bd3786"
            ],
            [
             0.5555555555555556,
             "#d8576b"
            ],
            [
             0.6666666666666666,
             "#ed7953"
            ],
            [
             0.7777777777777778,
             "#fb9f3a"
            ],
            [
             0.8888888888888888,
             "#fdca26"
            ],
            [
             1,
             "#f0f921"
            ]
           ],
           "sequentialminus": [
            [
             0,
             "#0d0887"
            ],
            [
             0.1111111111111111,
             "#46039f"
            ],
            [
             0.2222222222222222,
             "#7201a8"
            ],
            [
             0.3333333333333333,
             "#9c179e"
            ],
            [
             0.4444444444444444,
             "#bd3786"
            ],
            [
             0.5555555555555556,
             "#d8576b"
            ],
            [
             0.6666666666666666,
             "#ed7953"
            ],
            [
             0.7777777777777778,
             "#fb9f3a"
            ],
            [
             0.8888888888888888,
             "#fdca26"
            ],
            [
             1,
             "#f0f921"
            ]
           ]
          },
          "colorway": [
           "#636efa",
           "#EF553B",
           "#00cc96",
           "#ab63fa",
           "#FFA15A",
           "#19d3f3",
           "#FF6692",
           "#B6E880",
           "#FF97FF",
           "#FECB52"
          ],
          "font": {
           "color": "#2a3f5f"
          },
          "geo": {
           "bgcolor": "white",
           "lakecolor": "white",
           "landcolor": "#E5ECF6",
           "showlakes": true,
           "showland": true,
           "subunitcolor": "white"
          },
          "hoverlabel": {
           "align": "left"
          },
          "hovermode": "closest",
          "mapbox": {
           "style": "light"
          },
          "paper_bgcolor": "white",
          "plot_bgcolor": "#E5ECF6",
          "polar": {
           "angularaxis": {
            "gridcolor": "white",
            "linecolor": "white",
            "ticks": ""
           },
           "bgcolor": "#E5ECF6",
           "radialaxis": {
            "gridcolor": "white",
            "linecolor": "white",
            "ticks": ""
           }
          },
          "scene": {
           "xaxis": {
            "backgroundcolor": "#E5ECF6",
            "gridcolor": "white",
            "gridwidth": 2,
            "linecolor": "white",
            "showbackground": true,
            "ticks": "",
            "zerolinecolor": "white"
           },
           "yaxis": {
            "backgroundcolor": "#E5ECF6",
            "gridcolor": "white",
            "gridwidth": 2,
            "linecolor": "white",
            "showbackground": true,
            "ticks": "",
            "zerolinecolor": "white"
           },
           "zaxis": {
            "backgroundcolor": "#E5ECF6",
            "gridcolor": "white",
            "gridwidth": 2,
            "linecolor": "white",
            "showbackground": true,
            "ticks": "",
            "zerolinecolor": "white"
           }
          },
          "shapedefaults": {
           "line": {
            "color": "#2a3f5f"
           }
          },
          "ternary": {
           "aaxis": {
            "gridcolor": "white",
            "linecolor": "white",
            "ticks": ""
           },
           "baxis": {
            "gridcolor": "white",
            "linecolor": "white",
            "ticks": ""
           },
           "bgcolor": "#E5ECF6",
           "caxis": {
            "gridcolor": "white",
            "linecolor": "white",
            "ticks": ""
           }
          },
          "title": {
           "x": 0.05
          },
          "xaxis": {
           "automargin": true,
           "gridcolor": "white",
           "linecolor": "white",
           "ticks": "",
           "title": {
            "standoff": 15
           },
           "zerolinecolor": "white",
           "zerolinewidth": 2
          },
          "yaxis": {
           "automargin": true,
           "gridcolor": "white",
           "linecolor": "white",
           "ticks": "",
           "title": {
            "standoff": 15
           },
           "zerolinecolor": "white",
           "zerolinewidth": 2
          }
         }
        },
        "title": {
         "text": "Gender Earnings Disparity"
        },
        "updatemenus": [
         {
          "active": 0,
          "buttons": [
           {
            "args": [
             {
              "y": [
               [
                "Mkt&Fin",
                "Mkt&HR",
                "Mkt&Fin",
                "Mkt&Fin",
                "Mkt&Fin",
                "Mkt&HR",
                "Mkt&Fin",
                "Mkt&HR",
                "Mkt&Fin",
                "Mkt&Fin",
                "Mkt&HR",
                "Mkt&HR",
                "Mkt&HR",
                "Mkt&Fin",
                "Mkt&HR",
                "Mkt&HR",
                "Mkt&HR",
                "Mkt&Fin",
                "Mkt&HR",
                "Mkt&Fin",
                "Mkt&HR",
                "Mkt&HR",
                "Mkt&HR",
                "Mkt&HR",
                "Mkt&HR",
                "Mkt&HR",
                "Mkt&Fin",
                "Mkt&HR",
                "Mkt&HR",
                "Mkt&Fin",
                "Mkt&HR",
                "Mkt&HR",
                "Mkt&Fin",
                "Mkt&HR",
                "Mkt&HR",
                "Mkt&Fin",
                "Mkt&Fin",
                "Mkt&Fin",
                "Mkt&Fin",
                "Mkt&Fin",
                "Mkt&HR",
                "Mkt&Fin",
                "Mkt&HR",
                "Mkt&Fin",
                "Mkt&Fin",
                "Mkt&HR",
                "Mkt&Fin",
                "Mkt&Fin",
                "Mkt&Fin",
                "Mkt&HR",
                "Mkt&Fin",
                "Mkt&Fin",
                "Mkt&HR",
                "Mkt&Fin",
                "Mkt&Fin",
                "Mkt&Fin",
                "Mkt&Fin",
                "Mkt&Fin",
                "Mkt&Fin",
                "Mkt&HR",
                "Mkt&HR",
                "Mkt&HR",
                "Mkt&HR",
                "Mkt&Fin",
                "Mkt&HR",
                "Mkt&HR",
                "Mkt&HR",
                "Mkt&Fin",
                "Mkt&Fin",
                "Mkt&Fin",
                "Mkt&HR",
                "Mkt&HR",
                "Mkt&HR",
                "Mkt&Fin",
                "Mkt&HR",
                "Mkt&HR"
               ],
               [
                "Mkt&HR",
                "Mkt&Fin",
                "Mkt&Fin",
                "Mkt&HR",
                "Mkt&Fin",
                "Mkt&Fin",
                "Mkt&Fin",
                "Mkt&Fin",
                "Mkt&Fin",
                "Mkt&HR",
                "Mkt&Fin",
                "Mkt&HR",
                "Mkt&Fin",
                "Mkt&Fin",
                "Mkt&HR",
                "Mkt&Fin",
                "Mkt&Fin",
                "Mkt&HR",
                "Mkt&Fin",
                "Mkt&Fin",
                "Mkt&HR",
                "Mkt&Fin",
                "Mkt&Fin",
                "Mkt&Fin",
                "Mkt&HR",
                "Mkt&Fin",
                "Mkt&Fin",
                "Mkt&HR",
                "Mkt&HR",
                "Mkt&HR",
                "Mkt&Fin",
                "Mkt&Fin",
                "Mkt&Fin",
                "Mkt&Fin",
                "Mkt&Fin",
                "Mkt&Fin",
                "Mkt&HR",
                "Mkt&Fin",
                "Mkt&HR",
                "Mkt&HR",
                "Mkt&Fin",
                "Mkt&Fin",
                "Mkt&Fin",
                "Mkt&Fin",
                "Mkt&Fin",
                "Mkt&Fin",
                "Mkt&Fin",
                "Mkt&Fin",
                "Mkt&Fin",
                "Mkt&Fin",
                "Mkt&Fin",
                "Mkt&Fin",
                "Mkt&Fin",
                "Mkt&Fin",
                "Mkt&HR",
                "Mkt&HR",
                "Mkt&HR",
                "Mkt&Fin",
                "Mkt&Fin",
                "Mkt&Fin",
                "Mkt&HR",
                "Mkt&HR",
                "Mkt&HR",
                "Mkt&HR",
                "Mkt&Fin",
                "Mkt&HR",
                "Mkt&Fin",
                "Mkt&HR",
                "Mkt&HR",
                "Mkt&HR",
                "Mkt&HR",
                "Mkt&Fin",
                "Mkt&Fin",
                "Mkt&HR",
                "Mkt&Fin",
                "Mkt&HR",
                "Mkt&HR",
                "Mkt&HR",
                "Mkt&HR",
                "Mkt&Fin",
                "Mkt&Fin",
                "Mkt&HR",
                "Mkt&HR",
                "Mkt&HR",
                "Mkt&Fin",
                "Mkt&Fin",
                "Mkt&HR",
                "Mkt&Fin",
                "Mkt&Fin",
                "Mkt&Fin",
                "Mkt&HR",
                "Mkt&HR",
                "Mkt&Fin",
                "Mkt&HR",
                "Mkt&Fin",
                "Mkt&Fin",
                "Mkt&Fin",
                "Mkt&Fin",
                "Mkt&HR",
                "Mkt&HR",
                "Mkt&Fin",
                "Mkt&Fin",
                "Mkt&HR",
                "Mkt&HR",
                "Mkt&HR",
                "Mkt&Fin",
                "Mkt&Fin",
                "Mkt&HR",
                "Mkt&Fin",
                "Mkt&HR",
                "Mkt&Fin",
                "Mkt&HR",
                "Mkt&Fin",
                "Mkt&HR",
                "Mkt&HR",
                "Mkt&Fin",
                "Mkt&HR",
                "Mkt&Fin",
                "Mkt&HR",
                "Mkt&Fin",
                "Mkt&Fin",
                "Mkt&Fin",
                "Mkt&Fin",
                "Mkt&Fin",
                "Mkt&HR",
                "Mkt&Fin",
                "Mkt&HR",
                "Mkt&Fin",
                "Mkt&HR",
                "Mkt&HR",
                "Mkt&HR",
                "Mkt&Fin",
                "Mkt&Fin",
                "Mkt&Fin",
                "Mkt&Fin",
                "Mkt&Fin",
                "Mkt&Fin",
                "Mkt&Fin",
                "Mkt&HR"
               ]
              ]
             }
            ],
            "label": "MBA Specialization",
            "method": "update"
           },
           {
            "args": [
             {
              "y": [
               [
                "No",
                "No",
                "No",
                "Yes",
                "No",
                "No",
                "No",
                "No",
                "Yes",
                "Yes",
                "No",
                "No",
                "No",
                "Yes",
                "No",
                "No",
                "No",
                "No",
                "Yes",
                "Yes",
                "No",
                "No",
                "No",
                "No",
                "No",
                "No",
                "No",
                "No",
                "No",
                "No",
                "No",
                "Yes",
                "Yes",
                "No",
                "Yes",
                "No",
                "No",
                "Yes",
                "No",
                "No",
                "Yes",
                "Yes",
                "No",
                "No",
                "No",
                "Yes",
                "Yes",
                "No",
                "Yes",
                "No",
                "Yes",
                "Yes",
                "No",
                "No",
                "Yes",
                "No",
                "No",
                "No",
                "No",
                "Yes",
                "No",
                "No",
                "No",
                "Yes",
                "No",
                "No",
                "No",
                "No",
                "No",
                "No",
                "Yes",
                "No",
                "No",
                "Yes",
                "No",
                "No"
               ],
               [
                "No",
                "Yes",
                "No",
                "No",
                "No",
                "Yes",
                "Yes",
                "No",
                "No",
                "Yes",
                "Yes",
                "No",
                "Yes",
                "Yes",
                "No",
                "No",
                "Yes",
                "No",
                "Yes",
                "No",
                "No",
                "No",
                "No",
                "No",
                "No",
                "Yes",
                "No",
                "No",
                "No",
                "No",
                "No",
                "No",
                "No",
                "No",
                "Yes",
                "No",
                "No",
                "No",
                "No",
                "No",
                "No",
                "Yes",
                "No",
                "No",
                "No",
                "No",
                "No",
                "Yes",
                "No",
                "Yes",
                "No",
                "Yes",
                "Yes",
                "No",
                "No",
                "No",
                "No",
                "No",
                "Yes",
                "No",
                "No",
                "Yes",
                "Yes",
                "No",
                "No",
                "No",
                "No",
                "Yes",
                "No",
                "No",
                "No",
                "Yes",
                "No",
                "Yes",
                "Yes",
                "No",
                "Yes",
                "Yes",
                "Yes",
                "Yes",
                "No",
                "Yes",
                "Yes",
                "No",
                "Yes",
                "Yes",
                "No",
                "Yes",
                "No",
                "No",
                "No",
                "No",
                "No",
                "Yes",
                "Yes",
                "No",
                "Yes",
                "Yes",
                "Yes",
                "Yes",
                "No",
                "No",
                "No",
                "Yes",
                "No",
                "Yes",
                "No",
                "Yes",
                "Yes",
                "No",
                "Yes",
                "No",
                "Yes",
                "No",
                "No",
                "Yes",
                "No",
                "Yes",
                "No",
                "Yes",
                "No",
                "No",
                "Yes",
                "No",
                "Yes",
                "Yes",
                "No",
                "No",
                "No",
                "No",
                "No",
                "No",
                "No",
                "Yes",
                "No",
                "No",
                "No",
                "Yes",
                "No"
               ]
              ]
             }
            ],
            "label": "Work Experience",
            "method": "update"
           },
           {
            "args": [
             {
              "y": [
               [
                "Comm&Mgmt",
                "Comm&Mgmt",
                "Comm&Mgmt",
                "Comm&Mgmt",
                "Comm&Mgmt",
                "Comm&Mgmt",
                "Comm&Mgmt",
                "Sci&Tech",
                "Sci&Tech",
                "Comm&Mgmt",
                "Comm&Mgmt",
                "Sci&Tech",
                "Comm&Mgmt",
                "Comm&Mgmt",
                "Comm&Mgmt",
                "Sci&Tech",
                "Comm&Mgmt",
                "Comm&Mgmt",
                "Comm&Mgmt",
                "Comm&Mgmt",
                "Sci&Tech",
                "Comm&Mgmt",
                "Others",
                "Comm&Mgmt",
                "Comm&Mgmt",
                "Comm&Mgmt",
                "Sci&Tech",
                "Sci&Tech",
                "Comm&Mgmt",
                "Comm&Mgmt",
                "Sci&Tech",
                "Comm&Mgmt",
                "Comm&Mgmt",
                "Comm&Mgmt",
                "Sci&Tech",
                "Comm&Mgmt",
                "Comm&Mgmt",
                "Comm&Mgmt",
                "Comm&Mgmt",
                "Comm&Mgmt",
                "Comm&Mgmt",
                "Comm&Mgmt",
                "Sci&Tech",
                "Comm&Mgmt",
                "Comm&Mgmt",
                "Sci&Tech",
                "Comm&Mgmt",
                "Comm&Mgmt",
                "Sci&Tech",
                "Comm&Mgmt",
                "Others",
                "Comm&Mgmt",
                "Comm&Mgmt",
                "Comm&Mgmt",
                "Sci&Tech",
                "Others",
                "Sci&Tech",
                "Comm&Mgmt",
                "Comm&Mgmt",
                "Comm&Mgmt",
                "Comm&Mgmt",
                "Sci&Tech",
                "Comm&Mgmt",
                "Comm&Mgmt",
                "Sci&Tech",
                "Comm&Mgmt",
                "Others",
                "Comm&Mgmt",
                "Comm&Mgmt",
                "Comm&Mgmt",
                "Others",
                "Sci&Tech",
                "Others",
                "Comm&Mgmt",
                "Comm&Mgmt",
                "Comm&Mgmt"
               ],
               [
                "Sci&Tech",
                "Sci&Tech",
                "Comm&Mgmt",
                "Sci&Tech",
                "Comm&Mgmt",
                "Sci&Tech",
                "Sci&Tech",
                "Comm&Mgmt",
                "Comm&Mgmt",
                "Comm&Mgmt",
                "Comm&Mgmt",
                "Comm&Mgmt",
                "Comm&Mgmt",
                "Comm&Mgmt",
                "Comm&Mgmt",
                "Sci&Tech",
                "Comm&Mgmt",
                "Comm&Mgmt",
                "Comm&Mgmt",
                "Comm&Mgmt",
                "Others",
                "Comm&Mgmt",
                "Sci&Tech",
                "Others",
                "Comm&Mgmt",
                "Comm&Mgmt",
                "Comm&Mgmt",
                "Comm&Mgmt",
                "Sci&Tech",
                "Comm&Mgmt",
                "Comm&Mgmt",
                "Comm&Mgmt",
                "Comm&Mgmt",
                "Sci&Tech",
                "Comm&Mgmt",
                "Comm&Mgmt",
                "Comm&Mgmt",
                "Comm&Mgmt",
                "Comm&Mgmt",
                "Comm&Mgmt",
                "Comm&Mgmt",
                "Sci&Tech",
                "Sci&Tech",
                "Comm&Mgmt",
                "Comm&Mgmt",
                "Comm&Mgmt",
                "Comm&Mgmt",
                "Sci&Tech",
                "Sci&Tech",
                "Comm&Mgmt",
                "Comm&Mgmt",
                "Sci&Tech",
                "Sci&Tech",
                "Comm&Mgmt",
                "Others",
                "Comm&Mgmt",
                "Comm&Mgmt",
                "Comm&Mgmt",
                "Comm&Mgmt",
                "Sci&Tech",
                "Comm&Mgmt",
                "Sci&Tech",
                "Comm&Mgmt",
                "Sci&Tech",
                "Sci&Tech",
                "Comm&Mgmt",
                "Comm&Mgmt",
                "Sci&Tech",
                "Sci&Tech",
                "Comm&Mgmt",
                "Comm&Mgmt",
                "Comm&Mgmt",
                "Sci&Tech",
                "Sci&Tech",
                "Comm&Mgmt",
                "Comm&Mgmt",
                "Comm&Mgmt",
                "Others",
                "Sci&Tech",
                "Comm&Mgmt",
                "Comm&Mgmt",
                "Comm&Mgmt",
                "Comm&Mgmt",
                "Comm&Mgmt",
                "Comm&Mgmt",
                "Comm&Mgmt",
                "Comm&Mgmt",
                "Sci&Tech",
                "Comm&Mgmt",
                "Comm&Mgmt",
                "Sci&Tech",
                "Comm&Mgmt",
                "Comm&Mgmt",
                "Comm&Mgmt",
                "Sci&Tech",
                "Comm&Mgmt",
                "Sci&Tech",
                "Comm&Mgmt",
                "Comm&Mgmt",
                "Sci&Tech",
                "Comm&Mgmt",
                "Sci&Tech",
                "Comm&Mgmt",
                "Sci&Tech",
                "Comm&Mgmt",
                "Comm&Mgmt",
                "Sci&Tech",
                "Comm&Mgmt",
                "Sci&Tech",
                "Sci&Tech",
                "Comm&Mgmt",
                "Comm&Mgmt",
                "Sci&Tech",
                "Sci&Tech",
                "Sci&Tech",
                "Comm&Mgmt",
                "Sci&Tech",
                "Others",
                "Comm&Mgmt",
                "Sci&Tech",
                "Comm&Mgmt",
                "Comm&Mgmt",
                "Comm&Mgmt",
                "Comm&Mgmt",
                "Comm&Mgmt",
                "Sci&Tech",
                "Comm&Mgmt",
                "Comm&Mgmt",
                "Comm&Mgmt",
                "Sci&Tech",
                "Comm&Mgmt",
                "Comm&Mgmt",
                "Comm&Mgmt",
                "Comm&Mgmt",
                "Comm&Mgmt",
                "Comm&Mgmt",
                "Sci&Tech",
                "Comm&Mgmt",
                "Comm&Mgmt"
               ]
              ]
             }
            ],
            "label": "Degree Type",
            "method": "update"
           },
           {
            "args": [
             {
              "y": [
               [
                "Commerce",
                "Science",
                "Commerce",
                "Commerce",
                "Commerce",
                "Commerce",
                "Commerce",
                "Science",
                "Science",
                "Commerce",
                "Commerce",
                "Science",
                "Commerce",
                "Science",
                "Commerce",
                "Science",
                "Science",
                "Commerce",
                "Commerce",
                "Commerce",
                "Science",
                "Science",
                "Arts",
                "Science",
                "Commerce",
                "Science",
                "Science",
                "Commerce",
                "Commerce",
                "Arts",
                "Science",
                "Commerce",
                "Commerce",
                "Commerce",
                "Science",
                "Commerce",
                "Science",
                "Science",
                "Commerce",
                "Commerce",
                "Commerce",
                "Commerce",
                "Science",
                "Commerce",
                "Science",
                "Science",
                "Arts",
                "Commerce",
                "Science",
                "Science",
                "Science",
                "Commerce",
                "Science",
                "Arts",
                "Science",
                "Arts",
                "Science",
                "Commerce",
                "Commerce",
                "Commerce",
                "Commerce",
                "Science",
                "Commerce",
                "Commerce",
                "Science",
                "Commerce",
                "Science",
                "Commerce",
                "Commerce",
                "Commerce",
                "Arts",
                "Science",
                "Commerce",
                "Commerce",
                "Science",
                "Commerce"
               ],
               [
                "Commerce",
                "Science",
                "Arts",
                "Science",
                "Commerce",
                "Science",
                "Science",
                "Commerce",
                "Commerce",
                "Commerce",
                "Commerce",
                "Commerce",
                "Commerce",
                "Arts",
                "Commerce",
                "Science",
                "Commerce",
                "Commerce",
                "Commerce",
                "Commerce",
                "Science",
                "Commerce",
                "Science",
                "Science",
                "Commerce",
                "Commerce",
                "Commerce",
                "Commerce",
                "Science",
                "Science",
                "Commerce",
                "Commerce",
                "Science",
                "Science",
                "Science",
                "Commerce",
                "Commerce",
                "Commerce",
                "Science",
                "Science",
                "Commerce",
                "Science",
                "Science",
                "Commerce",
                "Science",
                "Commerce",
                "Commerce",
                "Science",
                "Science",
                "Science",
                "Commerce",
                "Science",
                "Science",
                "Commerce",
                "Science",
                "Commerce",
                "Commerce",
                "Commerce",
                "Commerce",
                "Commerce",
                "Commerce",
                "Science",
                "Science",
                "Science",
                "Science",
                "Commerce",
                "Commerce",
                "Science",
                "Science",
                "Commerce",
                "Science",
                "Commerce",
                "Science",
                "Science",
                "Commerce",
                "Science",
                "Commerce",
                "Science",
                "Science",
                "Commerce",
                "Commerce",
                "Commerce",
                "Commerce",
                "Commerce",
                "Commerce",
                "Commerce",
                "Science",
                "Science",
                "Commerce",
                "Arts",
                "Science",
                "Science",
                "Commerce",
                "Arts",
                "Science",
                "Commerce",
                "Science",
                "Science",
                "Commerce",
                "Science",
                "Commerce",
                "Science",
                "Commerce",
                "Science",
                "Commerce",
                "Commerce",
                "Science",
                "Commerce",
                "Science",
                "Science",
                "Commerce",
                "Commerce",
                "Science",
                "Science",
                "Science",
                "Commerce",
                "Science",
                "Arts",
                "Commerce",
                "Science",
                "Commerce",
                "Science",
                "Commerce",
                "Commerce",
                "Commerce",
                "Science",
                "Commerce",
                "Commerce",
                "Science",
                "Science",
                "Commerce",
                "Commerce",
                "Science",
                "Commerce",
                "Commerce",
                "Commerce",
                "Science",
                "Commerce",
                "Science"
               ]
              ]
             }
            ],
            "label": "Specialization in Higher Sec. Edu.",
            "method": "update"
           }
          ],
          "direction": "down",
          "showactive": true
         }
        ],
        "xaxis": {
         "title": {
          "text": "Annual Salary (in thousands)"
         }
        }
       }
      },
      "text/html": [
       "<div>\n",
       "        \n",
       "        \n",
       "            <div id=\"26fbb78e-335b-4b4d-ad8d-779849c392d3\" class=\"plotly-graph-div\" style=\"height:525px; width:100%;\"></div>\n",
       "            <script type=\"text/javascript\">\n",
       "                require([\"plotly\"], function(Plotly) {\n",
       "                    window.PLOTLYENV=window.PLOTLYENV || {};\n",
       "                    \n",
       "                if (document.getElementById(\"26fbb78e-335b-4b4d-ad8d-779849c392d3\")) {\n",
       "                    Plotly.newPlot(\n",
       "                        '26fbb78e-335b-4b4d-ad8d-779849c392d3',\n",
       "                        [{\"marker\": {\"color\": \"crimson\", \"line\": {\"color\": \"DarkSlateGrey\", \"width\": 0.5}, \"size\": 10}, \"mode\": \"markers\", \"name\": \"Women\", \"type\": \"scatter\", \"x\": [null, null, 2883.98, 2645.85, null, null, 5199.1, 4762.53, 3968.78, null, 3307.32, null, 3677.74, 3439.61, 3968.78, 4233.36, 3175.02, 3796.8, null, 2645.85, null, null, null, 2645.85, null, 2857.52, 3175.02, null, null, 3042.73, null, 3175.02, 5291.71, 2778.15, 2778.15, 3968.78, 3042.73, 3968.78, null, 2910.44, null, 3968.78, 3307.32, 3704.19, 2857.52, 3307.32, 3122.11, 4630.24, 2778.15, 3307.32, 4762.53, 3307.32, 2645.85, null, 3307.32, 3175.02, 3175.02, 3307.32, null, null, null, null, 2910.44, 8599.02, null, null, 3333.77, null, null, null, 3968.78, 3439.61, null, 2778.15, null, 2698.77], \"y\": [\"Mkt&Fin\", \"Mkt&HR\", \"Mkt&Fin\", \"Mkt&Fin\", \"Mkt&Fin\", \"Mkt&HR\", \"Mkt&Fin\", \"Mkt&HR\", \"Mkt&Fin\", \"Mkt&Fin\", \"Mkt&HR\", \"Mkt&HR\", \"Mkt&HR\", \"Mkt&Fin\", \"Mkt&HR\", \"Mkt&HR\", \"Mkt&HR\", \"Mkt&Fin\", \"Mkt&HR\", \"Mkt&Fin\", \"Mkt&HR\", \"Mkt&HR\", \"Mkt&HR\", \"Mkt&HR\", \"Mkt&HR\", \"Mkt&HR\", \"Mkt&Fin\", \"Mkt&HR\", \"Mkt&HR\", \"Mkt&Fin\", \"Mkt&HR\", \"Mkt&HR\", \"Mkt&Fin\", \"Mkt&HR\", \"Mkt&HR\", \"Mkt&Fin\", \"Mkt&Fin\", \"Mkt&Fin\", \"Mkt&Fin\", \"Mkt&Fin\", \"Mkt&HR\", \"Mkt&Fin\", \"Mkt&HR\", \"Mkt&Fin\", \"Mkt&Fin\", \"Mkt&HR\", \"Mkt&Fin\", \"Mkt&Fin\", \"Mkt&Fin\", \"Mkt&HR\", \"Mkt&Fin\", \"Mkt&Fin\", \"Mkt&HR\", \"Mkt&Fin\", \"Mkt&Fin\", \"Mkt&Fin\", \"Mkt&Fin\", \"Mkt&Fin\", \"Mkt&Fin\", \"Mkt&HR\", \"Mkt&HR\", \"Mkt&HR\", \"Mkt&HR\", \"Mkt&Fin\", \"Mkt&HR\", \"Mkt&HR\", \"Mkt&HR\", \"Mkt&Fin\", \"Mkt&Fin\", \"Mkt&Fin\", \"Mkt&HR\", \"Mkt&HR\", \"Mkt&HR\", \"Mkt&Fin\", \"Mkt&HR\", \"Mkt&HR\"]}, {\"marker\": {\"color\": \"gold\", \"line\": {\"color\": \"DarkSlateGrey\", \"width\": 0.5}, \"size\": 15}, \"mode\": \"markers\", \"name\": \"Men\", \"opacity\": 0.5, \"type\": \"scatter\", \"x\": [3571.9, 2645.85, 3307.32, null, 5622.44, null, 3333.77, 3055.96, null, 3439.61, 3307.32, null, 3968.78, 3122.11, 3505.75, 4762.53, 3175.02, 3505.75, 4630.24, null, null, null, 5437.23, null, 3968.78, 2698.77, 3307.32, null, 5953.17, 2910.44, 3175.02, 4762.53, 3545.44, 3505.75, 3439.61, 3968.78, null, 3175.02, null, 3638.05, 3638.05, 3638.05, 4762.53, 3175.02, 3175.02, 2883.98, 4445.03, 6614.63, 3571.9, 3968.78, null, 3968.78, 3968.78, 2910.44, null, null, null, 3439.61, 5556.29, null, 5027.12, 3175.02, 4762.53, null, null, 2645.85, 3968.78, null, null, 3307.32, 3307.32, 3968.78, 3175.02, 3651.28, 12435.51, null, 3175.02, 3307.32, 5291.71, 3307.32, null, 3968.78, 3307.32, 2976.58, 2910.44, 3505.75, null, 3439.61, 3968.78, null, 5291.71, 3082.42, 3968.78, null, 9128.19, 3571.9, 4497.95, 3307.32, null, 3373.46, 3968.78, null, null, 3968.78, null, 3770.34, 6614.63, 3175.02, null, null, 3836.49, 3968.78, 6614.63, null, 4630.24, 3505.75, null, null, 3651.28, 3704.19, null, 3492.53, 3571.9, null, 3638.05, 3307.32, 3505.75, 3968.78, null, 3175.02, 3439.61, 3307.32, null, 3968.78, 2857.52, 5291.71, 3638.05, 3902.63, null], \"y\": [\"Mkt&HR\", \"Mkt&Fin\", \"Mkt&Fin\", \"Mkt&HR\", \"Mkt&Fin\", \"Mkt&Fin\", \"Mkt&Fin\", \"Mkt&Fin\", \"Mkt&Fin\", \"Mkt&HR\", \"Mkt&Fin\", \"Mkt&HR\", \"Mkt&Fin\", \"Mkt&Fin\", \"Mkt&HR\", \"Mkt&Fin\", \"Mkt&Fin\", \"Mkt&HR\", \"Mkt&Fin\", \"Mkt&Fin\", \"Mkt&HR\", \"Mkt&Fin\", \"Mkt&Fin\", \"Mkt&Fin\", \"Mkt&HR\", \"Mkt&Fin\", \"Mkt&Fin\", \"Mkt&HR\", \"Mkt&HR\", \"Mkt&HR\", \"Mkt&Fin\", \"Mkt&Fin\", \"Mkt&Fin\", \"Mkt&Fin\", \"Mkt&Fin\", \"Mkt&Fin\", \"Mkt&HR\", \"Mkt&Fin\", \"Mkt&HR\", \"Mkt&HR\", \"Mkt&Fin\", \"Mkt&Fin\", \"Mkt&Fin\", \"Mkt&Fin\", \"Mkt&Fin\", \"Mkt&Fin\", \"Mkt&Fin\", \"Mkt&Fin\", \"Mkt&Fin\", \"Mkt&Fin\", \"Mkt&Fin\", \"Mkt&Fin\", \"Mkt&Fin\", \"Mkt&Fin\", \"Mkt&HR\", \"Mkt&HR\", \"Mkt&HR\", \"Mkt&Fin\", \"Mkt&Fin\", \"Mkt&Fin\", \"Mkt&HR\", \"Mkt&HR\", \"Mkt&HR\", \"Mkt&HR\", \"Mkt&Fin\", \"Mkt&HR\", \"Mkt&Fin\", \"Mkt&HR\", \"Mkt&HR\", \"Mkt&HR\", \"Mkt&HR\", \"Mkt&Fin\", \"Mkt&Fin\", \"Mkt&HR\", \"Mkt&Fin\", \"Mkt&HR\", \"Mkt&HR\", \"Mkt&HR\", \"Mkt&HR\", \"Mkt&Fin\", \"Mkt&Fin\", \"Mkt&HR\", \"Mkt&HR\", \"Mkt&HR\", \"Mkt&Fin\", \"Mkt&Fin\", \"Mkt&HR\", \"Mkt&Fin\", \"Mkt&Fin\", \"Mkt&Fin\", \"Mkt&HR\", \"Mkt&HR\", \"Mkt&Fin\", \"Mkt&HR\", \"Mkt&Fin\", \"Mkt&Fin\", \"Mkt&Fin\", \"Mkt&Fin\", \"Mkt&HR\", \"Mkt&HR\", \"Mkt&Fin\", \"Mkt&Fin\", \"Mkt&HR\", \"Mkt&HR\", \"Mkt&HR\", \"Mkt&Fin\", \"Mkt&Fin\", \"Mkt&HR\", \"Mkt&Fin\", \"Mkt&HR\", \"Mkt&Fin\", \"Mkt&HR\", \"Mkt&Fin\", \"Mkt&HR\", \"Mkt&HR\", \"Mkt&Fin\", \"Mkt&HR\", \"Mkt&Fin\", \"Mkt&HR\", \"Mkt&Fin\", \"Mkt&Fin\", \"Mkt&Fin\", \"Mkt&Fin\", \"Mkt&Fin\", \"Mkt&HR\", \"Mkt&Fin\", \"Mkt&HR\", \"Mkt&Fin\", \"Mkt&HR\", \"Mkt&HR\", \"Mkt&HR\", \"Mkt&Fin\", \"Mkt&Fin\", \"Mkt&Fin\", \"Mkt&Fin\", \"Mkt&Fin\", \"Mkt&Fin\", \"Mkt&Fin\", \"Mkt&HR\"]}],\n",
       "                        {\"template\": {\"data\": {\"bar\": [{\"error_x\": {\"color\": \"#2a3f5f\"}, \"error_y\": {\"color\": \"#2a3f5f\"}, \"marker\": {\"line\": {\"color\": \"#E5ECF6\", \"width\": 0.5}}, \"type\": \"bar\"}], \"barpolar\": [{\"marker\": {\"line\": {\"color\": \"#E5ECF6\", \"width\": 0.5}}, \"type\": \"barpolar\"}], \"carpet\": [{\"aaxis\": {\"endlinecolor\": \"#2a3f5f\", \"gridcolor\": \"white\", \"linecolor\": \"white\", \"minorgridcolor\": \"white\", \"startlinecolor\": \"#2a3f5f\"}, \"baxis\": {\"endlinecolor\": \"#2a3f5f\", \"gridcolor\": \"white\", \"linecolor\": \"white\", \"minorgridcolor\": \"white\", \"startlinecolor\": \"#2a3f5f\"}, \"type\": \"carpet\"}], \"choropleth\": [{\"colorbar\": {\"outlinewidth\": 0, \"ticks\": \"\"}, \"type\": \"choropleth\"}], \"contour\": [{\"colorbar\": {\"outlinewidth\": 0, \"ticks\": \"\"}, \"colorscale\": [[0.0, \"#0d0887\"], [0.1111111111111111, \"#46039f\"], [0.2222222222222222, \"#7201a8\"], [0.3333333333333333, \"#9c179e\"], [0.4444444444444444, \"#bd3786\"], [0.5555555555555556, \"#d8576b\"], [0.6666666666666666, \"#ed7953\"], [0.7777777777777778, \"#fb9f3a\"], [0.8888888888888888, \"#fdca26\"], [1.0, \"#f0f921\"]], \"type\": \"contour\"}], \"contourcarpet\": [{\"colorbar\": {\"outlinewidth\": 0, \"ticks\": \"\"}, \"type\": \"contourcarpet\"}], \"heatmap\": [{\"colorbar\": {\"outlinewidth\": 0, \"ticks\": \"\"}, \"colorscale\": [[0.0, \"#0d0887\"], [0.1111111111111111, \"#46039f\"], [0.2222222222222222, \"#7201a8\"], [0.3333333333333333, \"#9c179e\"], [0.4444444444444444, \"#bd3786\"], [0.5555555555555556, \"#d8576b\"], [0.6666666666666666, \"#ed7953\"], [0.7777777777777778, \"#fb9f3a\"], [0.8888888888888888, \"#fdca26\"], [1.0, \"#f0f921\"]], \"type\": \"heatmap\"}], \"heatmapgl\": [{\"colorbar\": {\"outlinewidth\": 0, \"ticks\": \"\"}, \"colorscale\": [[0.0, \"#0d0887\"], [0.1111111111111111, \"#46039f\"], [0.2222222222222222, \"#7201a8\"], [0.3333333333333333, \"#9c179e\"], [0.4444444444444444, \"#bd3786\"], [0.5555555555555556, \"#d8576b\"], [0.6666666666666666, \"#ed7953\"], [0.7777777777777778, \"#fb9f3a\"], [0.8888888888888888, \"#fdca26\"], [1.0, \"#f0f921\"]], \"type\": \"heatmapgl\"}], \"histogram\": [{\"marker\": {\"colorbar\": {\"outlinewidth\": 0, \"ticks\": \"\"}}, \"type\": \"histogram\"}], \"histogram2d\": [{\"colorbar\": {\"outlinewidth\": 0, \"ticks\": \"\"}, \"colorscale\": [[0.0, \"#0d0887\"], [0.1111111111111111, \"#46039f\"], [0.2222222222222222, \"#7201a8\"], [0.3333333333333333, \"#9c179e\"], [0.4444444444444444, \"#bd3786\"], [0.5555555555555556, \"#d8576b\"], [0.6666666666666666, \"#ed7953\"], [0.7777777777777778, \"#fb9f3a\"], [0.8888888888888888, \"#fdca26\"], [1.0, \"#f0f921\"]], \"type\": \"histogram2d\"}], \"histogram2dcontour\": [{\"colorbar\": {\"outlinewidth\": 0, \"ticks\": \"\"}, \"colorscale\": [[0.0, \"#0d0887\"], [0.1111111111111111, \"#46039f\"], [0.2222222222222222, \"#7201a8\"], [0.3333333333333333, \"#9c179e\"], [0.4444444444444444, \"#bd3786\"], [0.5555555555555556, \"#d8576b\"], [0.6666666666666666, \"#ed7953\"], [0.7777777777777778, \"#fb9f3a\"], [0.8888888888888888, \"#fdca26\"], [1.0, \"#f0f921\"]], \"type\": \"histogram2dcontour\"}], \"mesh3d\": [{\"colorbar\": {\"outlinewidth\": 0, \"ticks\": \"\"}, \"type\": \"mesh3d\"}], \"parcoords\": [{\"line\": {\"colorbar\": {\"outlinewidth\": 0, \"ticks\": \"\"}}, \"type\": \"parcoords\"}], \"pie\": [{\"automargin\": true, \"type\": \"pie\"}], \"scatter\": [{\"marker\": {\"colorbar\": {\"outlinewidth\": 0, \"ticks\": \"\"}}, \"type\": \"scatter\"}], \"scatter3d\": [{\"line\": {\"colorbar\": {\"outlinewidth\": 0, \"ticks\": \"\"}}, \"marker\": {\"colorbar\": {\"outlinewidth\": 0, \"ticks\": \"\"}}, \"type\": \"scatter3d\"}], \"scattercarpet\": [{\"marker\": {\"colorbar\": {\"outlinewidth\": 0, \"ticks\": \"\"}}, \"type\": \"scattercarpet\"}], \"scattergeo\": [{\"marker\": {\"colorbar\": {\"outlinewidth\": 0, \"ticks\": \"\"}}, \"type\": \"scattergeo\"}], \"scattergl\": [{\"marker\": {\"colorbar\": {\"outlinewidth\": 0, \"ticks\": \"\"}}, \"type\": \"scattergl\"}], \"scattermapbox\": [{\"marker\": {\"colorbar\": {\"outlinewidth\": 0, \"ticks\": \"\"}}, \"type\": \"scattermapbox\"}], \"scatterpolar\": [{\"marker\": {\"colorbar\": {\"outlinewidth\": 0, \"ticks\": \"\"}}, \"type\": \"scatterpolar\"}], \"scatterpolargl\": [{\"marker\": {\"colorbar\": {\"outlinewidth\": 0, \"ticks\": \"\"}}, \"type\": \"scatterpolargl\"}], \"scatterternary\": [{\"marker\": {\"colorbar\": {\"outlinewidth\": 0, \"ticks\": \"\"}}, \"type\": \"scatterternary\"}], \"surface\": [{\"colorbar\": {\"outlinewidth\": 0, \"ticks\": \"\"}, \"colorscale\": [[0.0, \"#0d0887\"], [0.1111111111111111, \"#46039f\"], [0.2222222222222222, \"#7201a8\"], [0.3333333333333333, \"#9c179e\"], [0.4444444444444444, \"#bd3786\"], [0.5555555555555556, \"#d8576b\"], [0.6666666666666666, \"#ed7953\"], [0.7777777777777778, \"#fb9f3a\"], [0.8888888888888888, \"#fdca26\"], [1.0, \"#f0f921\"]], \"type\": \"surface\"}], \"table\": [{\"cells\": {\"fill\": {\"color\": \"#EBF0F8\"}, \"line\": {\"color\": \"white\"}}, \"header\": {\"fill\": {\"color\": \"#C8D4E3\"}, \"line\": {\"color\": \"white\"}}, \"type\": \"table\"}]}, \"layout\": {\"annotationdefaults\": {\"arrowcolor\": \"#2a3f5f\", \"arrowhead\": 0, \"arrowwidth\": 1}, \"coloraxis\": {\"colorbar\": {\"outlinewidth\": 0, \"ticks\": \"\"}}, \"colorscale\": {\"diverging\": [[0, \"#8e0152\"], [0.1, \"#c51b7d\"], [0.2, \"#de77ae\"], [0.3, \"#f1b6da\"], [0.4, \"#fde0ef\"], [0.5, \"#f7f7f7\"], [0.6, \"#e6f5d0\"], [0.7, \"#b8e186\"], [0.8, \"#7fbc41\"], [0.9, \"#4d9221\"], [1, \"#276419\"]], \"sequential\": [[0.0, \"#0d0887\"], [0.1111111111111111, \"#46039f\"], [0.2222222222222222, \"#7201a8\"], [0.3333333333333333, \"#9c179e\"], [0.4444444444444444, \"#bd3786\"], [0.5555555555555556, \"#d8576b\"], [0.6666666666666666, \"#ed7953\"], [0.7777777777777778, \"#fb9f3a\"], [0.8888888888888888, \"#fdca26\"], [1.0, \"#f0f921\"]], \"sequentialminus\": [[0.0, \"#0d0887\"], [0.1111111111111111, \"#46039f\"], [0.2222222222222222, \"#7201a8\"], [0.3333333333333333, \"#9c179e\"], [0.4444444444444444, \"#bd3786\"], [0.5555555555555556, \"#d8576b\"], [0.6666666666666666, \"#ed7953\"], [0.7777777777777778, \"#fb9f3a\"], [0.8888888888888888, \"#fdca26\"], [1.0, \"#f0f921\"]]}, \"colorway\": [\"#636efa\", \"#EF553B\", \"#00cc96\", \"#ab63fa\", \"#FFA15A\", \"#19d3f3\", \"#FF6692\", \"#B6E880\", \"#FF97FF\", \"#FECB52\"], \"font\": {\"color\": \"#2a3f5f\"}, \"geo\": {\"bgcolor\": \"white\", \"lakecolor\": \"white\", \"landcolor\": \"#E5ECF6\", \"showlakes\": true, \"showland\": true, \"subunitcolor\": \"white\"}, \"hoverlabel\": {\"align\": \"left\"}, \"hovermode\": \"closest\", \"mapbox\": {\"style\": \"light\"}, \"paper_bgcolor\": \"white\", \"plot_bgcolor\": \"#E5ECF6\", \"polar\": {\"angularaxis\": {\"gridcolor\": \"white\", \"linecolor\": \"white\", \"ticks\": \"\"}, \"bgcolor\": \"#E5ECF6\", \"radialaxis\": {\"gridcolor\": \"white\", \"linecolor\": \"white\", \"ticks\": \"\"}}, \"scene\": {\"xaxis\": {\"backgroundcolor\": \"#E5ECF6\", \"gridcolor\": \"white\", \"gridwidth\": 2, \"linecolor\": \"white\", \"showbackground\": true, \"ticks\": \"\", \"zerolinecolor\": \"white\"}, \"yaxis\": {\"backgroundcolor\": \"#E5ECF6\", \"gridcolor\": \"white\", \"gridwidth\": 2, \"linecolor\": \"white\", \"showbackground\": true, \"ticks\": \"\", \"zerolinecolor\": \"white\"}, \"zaxis\": {\"backgroundcolor\": \"#E5ECF6\", \"gridcolor\": \"white\", \"gridwidth\": 2, \"linecolor\": \"white\", \"showbackground\": true, \"ticks\": \"\", \"zerolinecolor\": \"white\"}}, \"shapedefaults\": {\"line\": {\"color\": \"#2a3f5f\"}}, \"ternary\": {\"aaxis\": {\"gridcolor\": \"white\", \"linecolor\": \"white\", \"ticks\": \"\"}, \"baxis\": {\"gridcolor\": \"white\", \"linecolor\": \"white\", \"ticks\": \"\"}, \"bgcolor\": \"#E5ECF6\", \"caxis\": {\"gridcolor\": \"white\", \"linecolor\": \"white\", \"ticks\": \"\"}}, \"title\": {\"x\": 0.05}, \"xaxis\": {\"automargin\": true, \"gridcolor\": \"white\", \"linecolor\": \"white\", \"ticks\": \"\", \"title\": {\"standoff\": 15}, \"zerolinecolor\": \"white\", \"zerolinewidth\": 2}, \"yaxis\": {\"automargin\": true, \"gridcolor\": \"white\", \"linecolor\": \"white\", \"ticks\": \"\", \"title\": {\"standoff\": 15}, \"zerolinecolor\": \"white\", \"zerolinewidth\": 2}}}, \"title\": {\"text\": \"Gender Earnings Disparity\"}, \"updatemenus\": [{\"active\": 0, \"buttons\": [{\"args\": [{\"y\": [[\"Mkt&Fin\", \"Mkt&HR\", \"Mkt&Fin\", \"Mkt&Fin\", \"Mkt&Fin\", \"Mkt&HR\", \"Mkt&Fin\", \"Mkt&HR\", \"Mkt&Fin\", \"Mkt&Fin\", \"Mkt&HR\", \"Mkt&HR\", \"Mkt&HR\", \"Mkt&Fin\", \"Mkt&HR\", \"Mkt&HR\", \"Mkt&HR\", \"Mkt&Fin\", \"Mkt&HR\", \"Mkt&Fin\", \"Mkt&HR\", \"Mkt&HR\", \"Mkt&HR\", \"Mkt&HR\", \"Mkt&HR\", \"Mkt&HR\", \"Mkt&Fin\", \"Mkt&HR\", \"Mkt&HR\", \"Mkt&Fin\", \"Mkt&HR\", \"Mkt&HR\", \"Mkt&Fin\", \"Mkt&HR\", \"Mkt&HR\", \"Mkt&Fin\", \"Mkt&Fin\", \"Mkt&Fin\", \"Mkt&Fin\", \"Mkt&Fin\", \"Mkt&HR\", \"Mkt&Fin\", \"Mkt&HR\", \"Mkt&Fin\", \"Mkt&Fin\", \"Mkt&HR\", \"Mkt&Fin\", \"Mkt&Fin\", \"Mkt&Fin\", \"Mkt&HR\", \"Mkt&Fin\", \"Mkt&Fin\", \"Mkt&HR\", \"Mkt&Fin\", \"Mkt&Fin\", \"Mkt&Fin\", \"Mkt&Fin\", \"Mkt&Fin\", \"Mkt&Fin\", \"Mkt&HR\", \"Mkt&HR\", \"Mkt&HR\", \"Mkt&HR\", \"Mkt&Fin\", \"Mkt&HR\", \"Mkt&HR\", \"Mkt&HR\", \"Mkt&Fin\", \"Mkt&Fin\", \"Mkt&Fin\", \"Mkt&HR\", \"Mkt&HR\", \"Mkt&HR\", \"Mkt&Fin\", \"Mkt&HR\", \"Mkt&HR\"], [\"Mkt&HR\", \"Mkt&Fin\", \"Mkt&Fin\", \"Mkt&HR\", \"Mkt&Fin\", \"Mkt&Fin\", \"Mkt&Fin\", \"Mkt&Fin\", \"Mkt&Fin\", \"Mkt&HR\", \"Mkt&Fin\", \"Mkt&HR\", \"Mkt&Fin\", \"Mkt&Fin\", \"Mkt&HR\", \"Mkt&Fin\", \"Mkt&Fin\", \"Mkt&HR\", \"Mkt&Fin\", \"Mkt&Fin\", \"Mkt&HR\", \"Mkt&Fin\", \"Mkt&Fin\", \"Mkt&Fin\", \"Mkt&HR\", \"Mkt&Fin\", \"Mkt&Fin\", \"Mkt&HR\", \"Mkt&HR\", \"Mkt&HR\", \"Mkt&Fin\", \"Mkt&Fin\", \"Mkt&Fin\", \"Mkt&Fin\", \"Mkt&Fin\", \"Mkt&Fin\", \"Mkt&HR\", \"Mkt&Fin\", \"Mkt&HR\", \"Mkt&HR\", \"Mkt&Fin\", \"Mkt&Fin\", \"Mkt&Fin\", \"Mkt&Fin\", \"Mkt&Fin\", \"Mkt&Fin\", \"Mkt&Fin\", \"Mkt&Fin\", \"Mkt&Fin\", \"Mkt&Fin\", \"Mkt&Fin\", \"Mkt&Fin\", \"Mkt&Fin\", \"Mkt&Fin\", \"Mkt&HR\", \"Mkt&HR\", \"Mkt&HR\", \"Mkt&Fin\", \"Mkt&Fin\", \"Mkt&Fin\", \"Mkt&HR\", \"Mkt&HR\", \"Mkt&HR\", \"Mkt&HR\", \"Mkt&Fin\", \"Mkt&HR\", \"Mkt&Fin\", \"Mkt&HR\", \"Mkt&HR\", \"Mkt&HR\", \"Mkt&HR\", \"Mkt&Fin\", \"Mkt&Fin\", \"Mkt&HR\", \"Mkt&Fin\", \"Mkt&HR\", \"Mkt&HR\", \"Mkt&HR\", \"Mkt&HR\", \"Mkt&Fin\", \"Mkt&Fin\", \"Mkt&HR\", \"Mkt&HR\", \"Mkt&HR\", \"Mkt&Fin\", \"Mkt&Fin\", \"Mkt&HR\", \"Mkt&Fin\", \"Mkt&Fin\", \"Mkt&Fin\", \"Mkt&HR\", \"Mkt&HR\", \"Mkt&Fin\", \"Mkt&HR\", \"Mkt&Fin\", \"Mkt&Fin\", \"Mkt&Fin\", \"Mkt&Fin\", \"Mkt&HR\", \"Mkt&HR\", \"Mkt&Fin\", \"Mkt&Fin\", \"Mkt&HR\", \"Mkt&HR\", \"Mkt&HR\", \"Mkt&Fin\", \"Mkt&Fin\", \"Mkt&HR\", \"Mkt&Fin\", \"Mkt&HR\", \"Mkt&Fin\", \"Mkt&HR\", \"Mkt&Fin\", \"Mkt&HR\", \"Mkt&HR\", \"Mkt&Fin\", \"Mkt&HR\", \"Mkt&Fin\", \"Mkt&HR\", \"Mkt&Fin\", \"Mkt&Fin\", \"Mkt&Fin\", \"Mkt&Fin\", \"Mkt&Fin\", \"Mkt&HR\", \"Mkt&Fin\", \"Mkt&HR\", \"Mkt&Fin\", \"Mkt&HR\", \"Mkt&HR\", \"Mkt&HR\", \"Mkt&Fin\", \"Mkt&Fin\", \"Mkt&Fin\", \"Mkt&Fin\", \"Mkt&Fin\", \"Mkt&Fin\", \"Mkt&Fin\", \"Mkt&HR\"]]}], \"label\": \"MBA Specialization\", \"method\": \"update\"}, {\"args\": [{\"y\": [[\"No\", \"No\", \"No\", \"Yes\", \"No\", \"No\", \"No\", \"No\", \"Yes\", \"Yes\", \"No\", \"No\", \"No\", \"Yes\", \"No\", \"No\", \"No\", \"No\", \"Yes\", \"Yes\", \"No\", \"No\", \"No\", \"No\", \"No\", \"No\", \"No\", \"No\", \"No\", \"No\", \"No\", \"Yes\", \"Yes\", \"No\", \"Yes\", \"No\", \"No\", \"Yes\", \"No\", \"No\", \"Yes\", \"Yes\", \"No\", \"No\", \"No\", \"Yes\", \"Yes\", \"No\", \"Yes\", \"No\", \"Yes\", \"Yes\", \"No\", \"No\", \"Yes\", \"No\", \"No\", \"No\", \"No\", \"Yes\", \"No\", \"No\", \"No\", \"Yes\", \"No\", \"No\", \"No\", \"No\", \"No\", \"No\", \"Yes\", \"No\", \"No\", \"Yes\", \"No\", \"No\"], [\"No\", \"Yes\", \"No\", \"No\", \"No\", \"Yes\", \"Yes\", \"No\", \"No\", \"Yes\", \"Yes\", \"No\", \"Yes\", \"Yes\", \"No\", \"No\", \"Yes\", \"No\", \"Yes\", \"No\", \"No\", \"No\", \"No\", \"No\", \"No\", \"Yes\", \"No\", \"No\", \"No\", \"No\", \"No\", \"No\", \"No\", \"No\", \"Yes\", \"No\", \"No\", \"No\", \"No\", \"No\", \"No\", \"Yes\", \"No\", \"No\", \"No\", \"No\", \"No\", \"Yes\", \"No\", \"Yes\", \"No\", \"Yes\", \"Yes\", \"No\", \"No\", \"No\", \"No\", \"No\", \"Yes\", \"No\", \"No\", \"Yes\", \"Yes\", \"No\", \"No\", \"No\", \"No\", \"Yes\", \"No\", \"No\", \"No\", \"Yes\", \"No\", \"Yes\", \"Yes\", \"No\", \"Yes\", \"Yes\", \"Yes\", \"Yes\", \"No\", \"Yes\", \"Yes\", \"No\", \"Yes\", \"Yes\", \"No\", \"Yes\", \"No\", \"No\", \"No\", \"No\", \"No\", \"Yes\", \"Yes\", \"No\", \"Yes\", \"Yes\", \"Yes\", \"Yes\", \"No\", \"No\", \"No\", \"Yes\", \"No\", \"Yes\", \"No\", \"Yes\", \"Yes\", \"No\", \"Yes\", \"No\", \"Yes\", \"No\", \"No\", \"Yes\", \"No\", \"Yes\", \"No\", \"Yes\", \"No\", \"No\", \"Yes\", \"No\", \"Yes\", \"Yes\", \"No\", \"No\", \"No\", \"No\", \"No\", \"No\", \"No\", \"Yes\", \"No\", \"No\", \"No\", \"Yes\", \"No\"]]}], \"label\": \"Work Experience\", \"method\": \"update\"}, {\"args\": [{\"y\": [[\"Comm&Mgmt\", \"Comm&Mgmt\", \"Comm&Mgmt\", \"Comm&Mgmt\", \"Comm&Mgmt\", \"Comm&Mgmt\", \"Comm&Mgmt\", \"Sci&Tech\", \"Sci&Tech\", \"Comm&Mgmt\", \"Comm&Mgmt\", \"Sci&Tech\", \"Comm&Mgmt\", \"Comm&Mgmt\", \"Comm&Mgmt\", \"Sci&Tech\", \"Comm&Mgmt\", \"Comm&Mgmt\", \"Comm&Mgmt\", \"Comm&Mgmt\", \"Sci&Tech\", \"Comm&Mgmt\", \"Others\", \"Comm&Mgmt\", \"Comm&Mgmt\", \"Comm&Mgmt\", \"Sci&Tech\", \"Sci&Tech\", \"Comm&Mgmt\", \"Comm&Mgmt\", \"Sci&Tech\", \"Comm&Mgmt\", \"Comm&Mgmt\", \"Comm&Mgmt\", \"Sci&Tech\", \"Comm&Mgmt\", \"Comm&Mgmt\", \"Comm&Mgmt\", \"Comm&Mgmt\", \"Comm&Mgmt\", \"Comm&Mgmt\", \"Comm&Mgmt\", \"Sci&Tech\", \"Comm&Mgmt\", \"Comm&Mgmt\", \"Sci&Tech\", \"Comm&Mgmt\", \"Comm&Mgmt\", \"Sci&Tech\", \"Comm&Mgmt\", \"Others\", \"Comm&Mgmt\", \"Comm&Mgmt\", \"Comm&Mgmt\", \"Sci&Tech\", \"Others\", \"Sci&Tech\", \"Comm&Mgmt\", \"Comm&Mgmt\", \"Comm&Mgmt\", \"Comm&Mgmt\", \"Sci&Tech\", \"Comm&Mgmt\", \"Comm&Mgmt\", \"Sci&Tech\", \"Comm&Mgmt\", \"Others\", \"Comm&Mgmt\", \"Comm&Mgmt\", \"Comm&Mgmt\", \"Others\", \"Sci&Tech\", \"Others\", \"Comm&Mgmt\", \"Comm&Mgmt\", \"Comm&Mgmt\"], [\"Sci&Tech\", \"Sci&Tech\", \"Comm&Mgmt\", \"Sci&Tech\", \"Comm&Mgmt\", \"Sci&Tech\", \"Sci&Tech\", \"Comm&Mgmt\", \"Comm&Mgmt\", \"Comm&Mgmt\", \"Comm&Mgmt\", \"Comm&Mgmt\", \"Comm&Mgmt\", \"Comm&Mgmt\", \"Comm&Mgmt\", \"Sci&Tech\", \"Comm&Mgmt\", \"Comm&Mgmt\", \"Comm&Mgmt\", \"Comm&Mgmt\", \"Others\", \"Comm&Mgmt\", \"Sci&Tech\", \"Others\", \"Comm&Mgmt\", \"Comm&Mgmt\", \"Comm&Mgmt\", \"Comm&Mgmt\", \"Sci&Tech\", \"Comm&Mgmt\", \"Comm&Mgmt\", \"Comm&Mgmt\", \"Comm&Mgmt\", \"Sci&Tech\", \"Comm&Mgmt\", \"Comm&Mgmt\", \"Comm&Mgmt\", \"Comm&Mgmt\", \"Comm&Mgmt\", \"Comm&Mgmt\", \"Comm&Mgmt\", \"Sci&Tech\", \"Sci&Tech\", \"Comm&Mgmt\", \"Comm&Mgmt\", \"Comm&Mgmt\", \"Comm&Mgmt\", \"Sci&Tech\", \"Sci&Tech\", \"Comm&Mgmt\", \"Comm&Mgmt\", \"Sci&Tech\", \"Sci&Tech\", \"Comm&Mgmt\", \"Others\", \"Comm&Mgmt\", \"Comm&Mgmt\", \"Comm&Mgmt\", \"Comm&Mgmt\", \"Sci&Tech\", \"Comm&Mgmt\", \"Sci&Tech\", \"Comm&Mgmt\", \"Sci&Tech\", \"Sci&Tech\", \"Comm&Mgmt\", \"Comm&Mgmt\", \"Sci&Tech\", \"Sci&Tech\", \"Comm&Mgmt\", \"Comm&Mgmt\", \"Comm&Mgmt\", \"Sci&Tech\", \"Sci&Tech\", \"Comm&Mgmt\", \"Comm&Mgmt\", \"Comm&Mgmt\", \"Others\", \"Sci&Tech\", \"Comm&Mgmt\", \"Comm&Mgmt\", \"Comm&Mgmt\", \"Comm&Mgmt\", \"Comm&Mgmt\", \"Comm&Mgmt\", \"Comm&Mgmt\", \"Comm&Mgmt\", \"Sci&Tech\", \"Comm&Mgmt\", \"Comm&Mgmt\", \"Sci&Tech\", \"Comm&Mgmt\", \"Comm&Mgmt\", \"Comm&Mgmt\", \"Sci&Tech\", \"Comm&Mgmt\", \"Sci&Tech\", \"Comm&Mgmt\", \"Comm&Mgmt\", \"Sci&Tech\", \"Comm&Mgmt\", \"Sci&Tech\", \"Comm&Mgmt\", \"Sci&Tech\", \"Comm&Mgmt\", \"Comm&Mgmt\", \"Sci&Tech\", \"Comm&Mgmt\", \"Sci&Tech\", \"Sci&Tech\", \"Comm&Mgmt\", \"Comm&Mgmt\", \"Sci&Tech\", \"Sci&Tech\", \"Sci&Tech\", \"Comm&Mgmt\", \"Sci&Tech\", \"Others\", \"Comm&Mgmt\", \"Sci&Tech\", \"Comm&Mgmt\", \"Comm&Mgmt\", \"Comm&Mgmt\", \"Comm&Mgmt\", \"Comm&Mgmt\", \"Sci&Tech\", \"Comm&Mgmt\", \"Comm&Mgmt\", \"Comm&Mgmt\", \"Sci&Tech\", \"Comm&Mgmt\", \"Comm&Mgmt\", \"Comm&Mgmt\", \"Comm&Mgmt\", \"Comm&Mgmt\", \"Comm&Mgmt\", \"Sci&Tech\", \"Comm&Mgmt\", \"Comm&Mgmt\"]]}], \"label\": \"Degree Type\", \"method\": \"update\"}, {\"args\": [{\"y\": [[\"Commerce\", \"Science\", \"Commerce\", \"Commerce\", \"Commerce\", \"Commerce\", \"Commerce\", \"Science\", \"Science\", \"Commerce\", \"Commerce\", \"Science\", \"Commerce\", \"Science\", \"Commerce\", \"Science\", \"Science\", \"Commerce\", \"Commerce\", \"Commerce\", \"Science\", \"Science\", \"Arts\", \"Science\", \"Commerce\", \"Science\", \"Science\", \"Commerce\", \"Commerce\", \"Arts\", \"Science\", \"Commerce\", \"Commerce\", \"Commerce\", \"Science\", \"Commerce\", \"Science\", \"Science\", \"Commerce\", \"Commerce\", \"Commerce\", \"Commerce\", \"Science\", \"Commerce\", \"Science\", \"Science\", \"Arts\", \"Commerce\", \"Science\", \"Science\", \"Science\", \"Commerce\", \"Science\", \"Arts\", \"Science\", \"Arts\", \"Science\", \"Commerce\", \"Commerce\", \"Commerce\", \"Commerce\", \"Science\", \"Commerce\", \"Commerce\", \"Science\", \"Commerce\", \"Science\", \"Commerce\", \"Commerce\", \"Commerce\", \"Arts\", \"Science\", \"Commerce\", \"Commerce\", \"Science\", \"Commerce\"], [\"Commerce\", \"Science\", \"Arts\", \"Science\", \"Commerce\", \"Science\", \"Science\", \"Commerce\", \"Commerce\", \"Commerce\", \"Commerce\", \"Commerce\", \"Commerce\", \"Arts\", \"Commerce\", \"Science\", \"Commerce\", \"Commerce\", \"Commerce\", \"Commerce\", \"Science\", \"Commerce\", \"Science\", \"Science\", \"Commerce\", \"Commerce\", \"Commerce\", \"Commerce\", \"Science\", \"Science\", \"Commerce\", \"Commerce\", \"Science\", \"Science\", \"Science\", \"Commerce\", \"Commerce\", \"Commerce\", \"Science\", \"Science\", \"Commerce\", \"Science\", \"Science\", \"Commerce\", \"Science\", \"Commerce\", \"Commerce\", \"Science\", \"Science\", \"Science\", \"Commerce\", \"Science\", \"Science\", \"Commerce\", \"Science\", \"Commerce\", \"Commerce\", \"Commerce\", \"Commerce\", \"Commerce\", \"Commerce\", \"Science\", \"Science\", \"Science\", \"Science\", \"Commerce\", \"Commerce\", \"Science\", \"Science\", \"Commerce\", \"Science\", \"Commerce\", \"Science\", \"Science\", \"Commerce\", \"Science\", \"Commerce\", \"Science\", \"Science\", \"Commerce\", \"Commerce\", \"Commerce\", \"Commerce\", \"Commerce\", \"Commerce\", \"Commerce\", \"Science\", \"Science\", \"Commerce\", \"Arts\", \"Science\", \"Science\", \"Commerce\", \"Arts\", \"Science\", \"Commerce\", \"Science\", \"Science\", \"Commerce\", \"Science\", \"Commerce\", \"Science\", \"Commerce\", \"Science\", \"Commerce\", \"Commerce\", \"Science\", \"Commerce\", \"Science\", \"Science\", \"Commerce\", \"Commerce\", \"Science\", \"Science\", \"Science\", \"Commerce\", \"Science\", \"Arts\", \"Commerce\", \"Science\", \"Commerce\", \"Science\", \"Commerce\", \"Commerce\", \"Commerce\", \"Science\", \"Commerce\", \"Commerce\", \"Science\", \"Science\", \"Commerce\", \"Commerce\", \"Science\", \"Commerce\", \"Commerce\", \"Commerce\", \"Science\", \"Commerce\", \"Science\"]]}], \"label\": \"Specialization in Higher Sec. Edu.\", \"method\": \"update\"}], \"direction\": \"down\", \"showactive\": true}], \"xaxis\": {\"title\": {\"text\": \"Annual Salary (in thousands)\"}}},\n",
       "                        {\"responsive\": true}\n",
       "                    ).then(function(){\n",
       "                            \n",
       "var gd = document.getElementById('26fbb78e-335b-4b4d-ad8d-779849c392d3');\n",
       "var x = new MutationObserver(function (mutations, observer) {{\n",
       "        var display = window.getComputedStyle(gd).display;\n",
       "        if (!display || display === 'none') {{\n",
       "            console.log([gd, 'removed!']);\n",
       "            Plotly.purge(gd);\n",
       "            observer.disconnect();\n",
       "        }}\n",
       "}});\n",
       "\n",
       "// Listen for the removal of the full notebook cells\n",
       "var notebookContainer = gd.closest('#notebook-container');\n",
       "if (notebookContainer) {{\n",
       "    x.observe(notebookContainer, {childList: true});\n",
       "}}\n",
       "\n",
       "// Listen for the clearing of the current output cell\n",
       "var outputEl = gd.closest('.output');\n",
       "if (outputEl) {{\n",
       "    x.observe(outputEl, {childList: true});\n",
       "}}\n",
       "\n",
       "                        })\n",
       "                };\n",
       "                });\n",
       "            </script>\n",
       "        </div>"
      ]
     },
     "metadata": {},
     "output_type": "display_data"
    }
   ],
   "source": [
    "f_salary = females['Salary']\n",
    "f_MBA = females['MBA Specialization']\n",
    "f_experience = females['Work Experience']\n",
    "f_degree = females['Degree Type']\n",
    "f_specialization = females['Specialization in Higher Secondary Education']\n",
    "\n",
    "m_salary = males['Salary']\n",
    "m_MBA = males['MBA Specialization']\n",
    "m_experience = males['Work Experience']\n",
    "m_degree = males['Degree Type']\n",
    "m_specialization = males['Specialization in Higher Secondary Education']\n",
    "\n",
    "fig = go.Figure()\n",
    "fig.add_trace(go.Scatter(\n",
    "    x=f_salary,\n",
    "    y=f_MBA,\n",
    "    marker=dict(color=\"crimson\", size=10),\n",
    "    mode=\"markers\",\n",
    "    name=\"Women\",\n",
    "))\n",
    "\n",
    "fig.add_trace(go.Scatter(\n",
    "    x=m_salary,\n",
    "    y=m_MBA,\n",
    "    marker=dict(color=\"gold\", size=15),\n",
    "    mode=\"markers\",\n",
    "    opacity= 0.5,\n",
    "    name=\"Men\",\n",
    "))\n",
    "\n",
    "fig.update_traces(marker=dict(line=dict(width=0.5,\n",
    "                              color='DarkSlateGrey')),\n",
    "                              selector=dict(mode='markers')\n",
    "                 )\n",
    "\n",
    "fig.update_layout(title=\"Gender Earnings\",\n",
    "                  xaxis_title=\"Annual Salary (in thousands)\",\n",
    "                  updatemenus=[dict(buttons=list([\n",
    "                      dict(\n",
    "                          args=[{\"y\":[f_MBA,m_MBA]}],\n",
    "                          label= 'MBA Specialization',\n",
    "                          method='update'\n",
    "                      ),\n",
    "                      dict(\n",
    "                          args=[{\"y\":[f_experience,m_experience]}],\n",
    "                          label= 'Work Experience',\n",
    "                          method='update'\n",
    "                      ),\n",
    "                      dict(\n",
    "                          args=[{\"y\":[f_degree,m_degree]}],\n",
    "                          label= 'Degree Type',\n",
    "                          method='update'\n",
    "                      ),\n",
    "                      dict(\n",
    "                          args=[{\"y\":[f_specialization,m_specialization]}],\n",
    "                          label= 'Specialization in Higher Sec. Edu.',\n",
    "                          method='update'\n",
    "                      )]),              \n",
    "                      direction=\"down\",active=0, showactive=True\n",
    "                                                        )])\n",
    "fig.show()"
   ]
  },
  {
   "cell_type": "markdown",
   "metadata": {},
   "source": [
    "Final visual displaying numerical/academic data for all students and salaries offered. Salaries of 0 represent that they were not offered a job. Colorscale values are mapped from the salaries offered."
   ]
  },
  {
   "cell_type": "code",
   "execution_count": 39,
   "metadata": {
    "scrolled": false
   },
   "outputs": [
    {
     "data": {
      "application/vnd.plotly.v1+json": {
       "config": {
        "plotlyServerURL": "https://plot.ly"
       },
       "data": [
        {
         "dimensions": [
          {
           "label": "Secondary Edu. %age",
           "range": [
            35,
            100
           ],
           "values": [
            67,
            79.33,
            65,
            56,
            85.8,
            55,
            46,
            82,
            73,
            58,
            58,
            69.6,
            47,
            77,
            62,
            65,
            63,
            55,
            63,
            60,
            62,
            79,
            69.8,
            77.4,
            76.5,
            52.58,
            71,
            63,
            76.76,
            62,
            64,
            67,
            61,
            87,
            62,
            69,
            51,
            79,
            73,
            81,
            78,
            74,
            49,
            87,
            77,
            76,
            70.89,
            63,
            63,
            50,
            75.2,
            54.4,
            40.89,
            80,
            74,
            60.4,
            63,
            68,
            74,
            52.6,
            74,
            84.2,
            86.5,
            61,
            80,
            54,
            83,
            80.92,
            69.7,
            73,
            82,
            75,
            84.86,
            64.6,
            56.6,
            59,
            66.5,
            64,
            84,
            69,
            69,
            81.7,
            63,
            84,
            70,
            83.84,
            62,
            59.6,
            66,
            84,
            85,
            52,
            60.23,
            52,
            58,
            73,
            76,
            70.5,
            69,
            54,
            45,
            63,
            77,
            73,
            69,
            59,
            61.08,
            82,
            61,
            52,
            69.5,
            51,
            58,
            73.96,
            65,
            73,
            68.2,
            77,
            76,
            60.8,
            58,
            64,
            66.5,
            74,
            67,
            84,
            79,
            72,
            80.4,
            76.7,
            62,
            74.9,
            67,
            73,
            77.44,
            72,
            47,
            67,
            82,
            77,
            65,
            66,
            85,
            77.67,
            52,
            89.4,
            62,
            70,
            77,
            44,
            71,
            65,
            75.4,
            49,
            53,
            51.57,
            84.2,
            66.5,
            67,
            52,
            87,
            55.6,
            74.2,
            63,
            67.16,
            63.3,
            62,
            67.9,
            48,
            59.96,
            63.4,
            80,
            73,
            52,
            73.24,
            63,
            59,
            73,
            68,
            77.8,
            65,
            62,
            52,
            65,
            56.28,
            88,
            52,
            78.5,
            61.8,
            54,
            64,
            67,
            65.2,
            60,
            52,
            66,
            72,
            83.96,
            67,
            69,
            69,
            54.2,
            70,
            55.68,
            74,
            61,
            41,
            83.33,
            43,
            62,
            80.6,
            58,
            67,
            74,
            62
           ]
          },
          {
           "label": "Higher Secondary Edu. %age",
           "range": [
            35,
            100
           ],
           "values": [
            91,
            78.33,
            68,
            52,
            73.6,
            49.8,
            49.2,
            64,
            79,
            70,
            61,
            68.4,
            55,
            87,
            47,
            75,
            66.2,
            67,
            66,
            67,
            65,
            76,
            60.8,
            60,
            97.7,
            54.6,
            79,
            67,
            76.5,
            67,
            73.5,
            53,
            81,
            65,
            51,
            78,
            44,
            76,
            58,
            68,
            77,
            63.16,
            39,
            87,
            73,
            64,
            71.98,
            60,
            62,
            37,
            73.2,
            61.12,
            45.83,
            70,
            60,
            66.6,
            71.4,
            76,
            62,
            65.58,
            70,
            73.4,
            64.2,
            70,
            73,
            47,
            74,
            78.5,
            47,
            73,
            61,
            70.29,
            67,
            83.83,
            64.8,
            62,
            70.4,
            80,
            90.9,
            62,
            62,
            63,
            67,
            79,
            63,
            89.83,
            63,
            51,
            62,
            75,
            90,
            57,
            69,
            62,
            62,
            78,
            70,
            62.5,
            73,
            82,
            57,
            72,
            61,
            78,
            63,
            64,
            50,
            90,
            82,
            63,
            70,
            54,
            61,
            79,
            68,
            63,
            72.8,
            75,
            80,
            68.4,
            40,
            67,
            66.8,
            59,
            71,
            73,
            61,
            60,
            73.4,
            89.7,
            65,
            57,
            68,
            64,
            92,
            56,
            59,
            63,
            64,
            70,
            64.8,
            64,
            60,
            64.89,
            50,
            65.66,
            63,
            74,
            86,
            58,
            58.66,
            65,
            60.5,
            59,
            63,
            74.66,
            69.4,
            62.5,
            63,
            49,
            74,
            51,
            87.6,
            67,
            72.5,
            78.33,
            62,
            62,
            51,
            42.16,
            67.2,
            80,
            58,
            52,
            50.83,
            62,
            60,
            97,
            56,
            64,
            71.5,
            60.33,
            65,
            77,
            62.83,
            72,
            64,
            65.5,
            47,
            77.6,
            70.2,
            61,
            61.4,
            63,
            55,
            76,
            63,
            53,
            70,
            65,
            60,
            63,
            63,
            61.33,
            73,
            62,
            42,
            78,
            60,
            72,
            82,
            60,
            67,
            66,
            58
           ]
          },
          {
           "label": "Degree %age",
           "range": [
            35,
            100
           ],
           "values": [
            58,
            77.48,
            64,
            52,
            73.3,
            67.25,
            79,
            66,
            72,
            61,
            60,
            78.3,
            65,
            59,
            50,
            69,
            65.6,
            64,
            64,
            70,
            66,
            85,
            72.23,
            64.74,
            78.86,
            50.2,
            66,
            66,
            67.5,
            58,
            73,
            65,
            66.4,
            81,
            52,
            72,
            57,
            65.6,
            66,
            64,
            80,
            65,
            65,
            68,
            81,
            72,
            65.6,
            57,
            68,
            52,
            68.4,
            56.2,
            53,
            72,
            69,
            65,
            61.4,
            74,
            68,
            72.11,
            72,
            66.89,
            67.4,
            64,
            75,
            57,
            66,
            67,
            72.7,
            66,
            62,
            71,
            78,
            71.72,
            70.2,
            77.5,
            71.93,
            65,
            64.5,
            66,
            69,
            67,
            74,
            68,
            70,
            77.2,
            64,
            60,
            73,
            69,
            82,
            50.8,
            66,
            54,
            64,
            65,
            76,
            61,
            65,
            63,
            58,
            68,
            68,
            73,
            65,
            58,
            54,
            83,
            69,
            65,
            72,
            61,
            61,
            67,
            69,
            66,
            66.6,
            73,
            78,
            64.6,
            59,
            69.6,
            69.3,
            73,
            64.33,
            73,
            75.5,
            69,
            77.72,
            66,
            60,
            62,
            64,
            77,
            72,
            69,
            64,
            72,
            73,
            59,
            69.5,
            60,
            73.43,
            70.67,
            61,
            71.25,
            66,
            65,
            56,
            55,
            58,
            75,
            84,
            65,
            60,
            59.9,
            65,
            60.9,
            64,
            58,
            65,
            57.5,
            77.25,
            64,
            63.35,
            74,
            60,
            67,
            58,
            61.26,
            60,
            72,
            56,
            55,
            64.27,
            65,
            56,
            79,
            68,
            64.2,
            62.8,
            64.21,
            57,
            69,
            59.79,
            78,
            61,
            67,
            54.38,
            69.2,
            61,
            72,
            64.8,
            56,
            56.3,
            72,
            77.5,
            91,
            65,
            57,
            65,
            58,
            66,
            56.87,
            73,
            65,
            60,
            61,
            65,
            65,
            77.6,
            72,
            73,
            58,
            53
           ]
          },
          {
           "label": "MBA Percentage",
           "range": [
            35,
            100
           ],
           "values": [
            58.8,
            66.28,
            57.8,
            59.43,
            55.5,
            51.58,
            53.29,
            62.14,
            61.29,
            52.21,
            60.85,
            63.7,
            65.04,
            68.63,
            54.96,
            64.66,
            62.54,
            67.28,
            64.08,
            77.89,
            56.7,
            69.06,
            68.81,
            63.62,
            74.01,
            65.33,
            57.55,
            57.69,
            64.15,
            51.29,
            56.7,
            58.32,
            62.21,
            72.78,
            62.77,
            62.74,
            51.45,
            55.47,
            56.86,
            62.56,
            66.72,
            69.76,
            51.21,
            62.9,
            69.7,
            66.53,
            71.63,
            54.55,
            62.46,
            56.11,
            62.98,
            62.65,
            65.49,
            71.04,
            65.56,
            52.71,
            66.88,
            63.59,
            57.99,
            56.66,
            57.24,
            62.48,
            59.69,
            59.5,
            58.78,
            57.1,
            58.46,
            60.99,
            59.24,
            68.07,
            65.45,
            66.94,
            68.53,
            59.75,
            67.2,
            67,
            64.27,
            57.65,
            59.42,
            67.99,
            62.35,
            70.2,
            60.44,
            66.69,
            62,
            76.18,
            57.03,
            59.08,
            64.36,
            62.36,
            68.03,
            62.79,
            59.47,
            55.41,
            54.97,
            62.16,
            64.44,
            69.03,
            57.31,
            59.47,
            64.95,
            60.44,
            61.31,
            65.83,
            58.23,
            55.3,
            65.69,
            73.52,
            58.31,
            56.09,
            54.8,
            60.64,
            53.94,
            63.08,
            55.01,
            60.5,
            70.85,
            67.05,
            70.48,
            64.34,
            58.81,
            71.49,
            71,
            56.7,
            61.26,
            73.33,
            68.2,
            58.4,
            76.26,
            68.55,
            64.15,
            60.78,
            53.49,
            60.98,
            67.13,
            65.63,
            61.58,
            60.41,
            71.77,
            54.43,
            56.94,
            61.9,
            61.29,
            60.39,
            58.52,
            63.23,
            55.14,
            62.28,
            64.08,
            58.54,
            61.3,
            58.87,
            65.25,
            62.48,
            53.2,
            65.99,
            52.72,
            55.03,
            61.87,
            60.59,
            72.29,
            62.72,
            66.06,
            66.46,
            65.52,
            74.56,
            52.38,
            75.71,
            58.79,
            65.48,
            69.28,
            66.04,
            52.64,
            59.32,
            66.23,
            60.69,
            57.9,
            70.81,
            68.07,
            72.14,
            56.6,
            60.02,
            59.81,
            61.82,
            57.29,
            71.43,
            62.93,
            64.86,
            56.13,
            66.94,
            62.5,
            61.01,
            57.34,
            56.63,
            64.74,
            58.95,
            54.48,
            69.71,
            71.96,
            55.8,
            52.81,
            58.44,
            60.11,
            58.3,
            67.69,
            56.81,
            53.39,
            71.55,
            62.92,
            56.49,
            74.49,
            53.62,
            69.72,
            60.23,
            60.22
           ]
          },
          {
           "constraintrange": [
            1,
            12435.51
           ],
           "label": "Salary",
           "range": [
            2000,
            7000
           ],
           "values": [
            3571.9,
            2645.85,
            3307.32,
            null,
            5622.44,
            null,
            null,
            3333.77,
            3055.96,
            null,
            3439.61,
            3307.32,
            null,
            2883.98,
            null,
            2645.85,
            3968.78,
            null,
            null,
            3122.11,
            3505.75,
            5199.1,
            4762.53,
            3968.78,
            4762.53,
            null,
            3175.02,
            3505.75,
            4630.24,
            null,
            3307.32,
            null,
            3677.74,
            3439.61,
            null,
            3968.78,
            null,
            4233.36,
            3175.02,
            5437.23,
            3796.8,
            null,
            null,
            3968.78,
            2645.85,
            null,
            null,
            2698.77,
            3307.32,
            null,
            2645.85,
            null,
            null,
            5953.17,
            2857.52,
            2910.44,
            3175.02,
            4762.53,
            3545.44,
            3505.75,
            3439.61,
            3968.78,
            3175.02,
            null,
            3175.02,
            null,
            3638.05,
            3638.05,
            null,
            3638.05,
            4762.53,
            3175.02,
            3175.02,
            2883.98,
            4445.03,
            null,
            3042.73,
            6614.63,
            3571.9,
            null,
            3175.02,
            3968.78,
            null,
            3968.78,
            3968.78,
            5291.71,
            2910.44,
            null,
            2778.15,
            2778.15,
            3968.78,
            null,
            3042.73,
            null,
            3439.61,
            5556.29,
            3968.78,
            null,
            2910.44,
            null,
            null,
            5027.12,
            3968.78,
            3175.02,
            4762.53,
            null,
            null,
            2645.85,
            3968.78,
            null,
            3307.32,
            null,
            3307.32,
            3704.19,
            3307.32,
            2857.52,
            3968.78,
            3175.02,
            3651.28,
            12435.51,
            null,
            3307.32,
            3122.11,
            3175.02,
            3307.32,
            4630.24,
            2778.15,
            3307.32,
            5291.71,
            3307.32,
            null,
            4762.53,
            3968.78,
            3307.32,
            3307.32,
            2645.85,
            null,
            2976.58,
            3307.32,
            2910.44,
            3505.75,
            null,
            3439.61,
            3968.78,
            null,
            5291.71,
            3082.42,
            3968.78,
            3175.02,
            null,
            9128.19,
            3571.9,
            3175.02,
            4497.95,
            3307.32,
            null,
            3373.46,
            3968.78,
            null,
            null,
            3968.78,
            null,
            3770.34,
            6614.63,
            3307.32,
            null,
            3175.02,
            null,
            null,
            null,
            null,
            3836.49,
            3968.78,
            null,
            6614.63,
            null,
            2910.44,
            8599.02,
            4630.24,
            null,
            3505.75,
            null,
            null,
            3651.28,
            null,
            3333.77,
            null,
            3704.19,
            null,
            null,
            null,
            3492.53,
            3571.9,
            3968.78,
            null,
            3638.05,
            3307.32,
            3439.61,
            null,
            3505.75,
            3968.78,
            null,
            3175.02,
            3439.61,
            2778.15,
            3307.32,
            null,
            3968.78,
            null,
            2857.52,
            5291.71,
            3638.05,
            3902.63,
            2698.77,
            null
           ]
          }
         ],
         "line": {
          "cmax": 7000,
          "cmin": 0,
          "color": [
           3571.9,
           2645.85,
           3307.32,
           null,
           5622.44,
           null,
           null,
           3333.77,
           3055.96,
           null,
           3439.61,
           3307.32,
           null,
           2883.98,
           null,
           2645.85,
           3968.78,
           null,
           null,
           3122.11,
           3505.75,
           5199.1,
           4762.53,
           3968.78,
           4762.53,
           null,
           3175.02,
           3505.75,
           4630.24,
           null,
           3307.32,
           null,
           3677.74,
           3439.61,
           null,
           3968.78,
           null,
           4233.36,
           3175.02,
           5437.23,
           3796.8,
           null,
           null,
           3968.78,
           2645.85,
           null,
           null,
           2698.77,
           3307.32,
           null,
           2645.85,
           null,
           null,
           5953.17,
           2857.52,
           2910.44,
           3175.02,
           4762.53,
           3545.44,
           3505.75,
           3439.61,
           3968.78,
           3175.02,
           null,
           3175.02,
           null,
           3638.05,
           3638.05,
           null,
           3638.05,
           4762.53,
           3175.02,
           3175.02,
           2883.98,
           4445.03,
           null,
           3042.73,
           6614.63,
           3571.9,
           null,
           3175.02,
           3968.78,
           null,
           3968.78,
           3968.78,
           5291.71,
           2910.44,
           null,
           2778.15,
           2778.15,
           3968.78,
           null,
           3042.73,
           null,
           3439.61,
           5556.29,
           3968.78,
           null,
           2910.44,
           null,
           null,
           5027.12,
           3968.78,
           3175.02,
           4762.53,
           null,
           null,
           2645.85,
           3968.78,
           null,
           3307.32,
           null,
           3307.32,
           3704.19,
           3307.32,
           2857.52,
           3968.78,
           3175.02,
           3651.28,
           12435.51,
           null,
           3307.32,
           3122.11,
           3175.02,
           3307.32,
           4630.24,
           2778.15,
           3307.32,
           5291.71,
           3307.32,
           null,
           4762.53,
           3968.78,
           3307.32,
           3307.32,
           2645.85,
           null,
           2976.58,
           3307.32,
           2910.44,
           3505.75,
           null,
           3439.61,
           3968.78,
           null,
           5291.71,
           3082.42,
           3968.78,
           3175.02,
           null,
           9128.19,
           3571.9,
           3175.02,
           4497.95,
           3307.32,
           null,
           3373.46,
           3968.78,
           null,
           null,
           3968.78,
           null,
           3770.34,
           6614.63,
           3307.32,
           null,
           3175.02,
           null,
           null,
           null,
           null,
           3836.49,
           3968.78,
           null,
           6614.63,
           null,
           2910.44,
           8599.02,
           4630.24,
           null,
           3505.75,
           null,
           null,
           3651.28,
           null,
           3333.77,
           null,
           3704.19,
           null,
           null,
           null,
           3492.53,
           3571.9,
           3968.78,
           null,
           3638.05,
           3307.32,
           3439.61,
           null,
           3505.75,
           3968.78,
           null,
           3175.02,
           3439.61,
           2778.15,
           3307.32,
           null,
           3968.78,
           null,
           2857.52,
           5291.71,
           3638.05,
           3902.63,
           2698.77,
           null
          ],
          "colorscale": [
           [
            0,
            "#000004"
           ],
           [
            0.1111111111111111,
            "#1b0c41"
           ],
           [
            0.2222222222222222,
            "#4a0c6b"
           ],
           [
            0.3333333333333333,
            "#781c6d"
           ],
           [
            0.4444444444444444,
            "#a52c60"
           ],
           [
            0.5555555555555556,
            "#cf4446"
           ],
           [
            0.6666666666666666,
            "#ed6925"
           ],
           [
            0.7777777777777778,
            "#fb9b06"
           ],
           [
            0.8888888888888888,
            "#f7d13d"
           ],
           [
            1,
            "#fcffa4"
           ]
          ],
          "showscale": true
         },
         "type": "parcoords"
        }
       ],
       "layout": {
        "template": {
         "data": {
          "bar": [
           {
            "error_x": {
             "color": "#2a3f5f"
            },
            "error_y": {
             "color": "#2a3f5f"
            },
            "marker": {
             "line": {
              "color": "#E5ECF6",
              "width": 0.5
             }
            },
            "type": "bar"
           }
          ],
          "barpolar": [
           {
            "marker": {
             "line": {
              "color": "#E5ECF6",
              "width": 0.5
             }
            },
            "type": "barpolar"
           }
          ],
          "carpet": [
           {
            "aaxis": {
             "endlinecolor": "#2a3f5f",
             "gridcolor": "white",
             "linecolor": "white",
             "minorgridcolor": "white",
             "startlinecolor": "#2a3f5f"
            },
            "baxis": {
             "endlinecolor": "#2a3f5f",
             "gridcolor": "white",
             "linecolor": "white",
             "minorgridcolor": "white",
             "startlinecolor": "#2a3f5f"
            },
            "type": "carpet"
           }
          ],
          "choropleth": [
           {
            "colorbar": {
             "outlinewidth": 0,
             "ticks": ""
            },
            "type": "choropleth"
           }
          ],
          "contour": [
           {
            "colorbar": {
             "outlinewidth": 0,
             "ticks": ""
            },
            "colorscale": [
             [
              0,
              "#0d0887"
             ],
             [
              0.1111111111111111,
              "#46039f"
             ],
             [
              0.2222222222222222,
              "#7201a8"
             ],
             [
              0.3333333333333333,
              "#9c179e"
             ],
             [
              0.4444444444444444,
              "#bd3786"
             ],
             [
              0.5555555555555556,
              "#d8576b"
             ],
             [
              0.6666666666666666,
              "#ed7953"
             ],
             [
              0.7777777777777778,
              "#fb9f3a"
             ],
             [
              0.8888888888888888,
              "#fdca26"
             ],
             [
              1,
              "#f0f921"
             ]
            ],
            "type": "contour"
           }
          ],
          "contourcarpet": [
           {
            "colorbar": {
             "outlinewidth": 0,
             "ticks": ""
            },
            "type": "contourcarpet"
           }
          ],
          "heatmap": [
           {
            "colorbar": {
             "outlinewidth": 0,
             "ticks": ""
            },
            "colorscale": [
             [
              0,
              "#0d0887"
             ],
             [
              0.1111111111111111,
              "#46039f"
             ],
             [
              0.2222222222222222,
              "#7201a8"
             ],
             [
              0.3333333333333333,
              "#9c179e"
             ],
             [
              0.4444444444444444,
              "#bd3786"
             ],
             [
              0.5555555555555556,
              "#d8576b"
             ],
             [
              0.6666666666666666,
              "#ed7953"
             ],
             [
              0.7777777777777778,
              "#fb9f3a"
             ],
             [
              0.8888888888888888,
              "#fdca26"
             ],
             [
              1,
              "#f0f921"
             ]
            ],
            "type": "heatmap"
           }
          ],
          "heatmapgl": [
           {
            "colorbar": {
             "outlinewidth": 0,
             "ticks": ""
            },
            "colorscale": [
             [
              0,
              "#0d0887"
             ],
             [
              0.1111111111111111,
              "#46039f"
             ],
             [
              0.2222222222222222,
              "#7201a8"
             ],
             [
              0.3333333333333333,
              "#9c179e"
             ],
             [
              0.4444444444444444,
              "#bd3786"
             ],
             [
              0.5555555555555556,
              "#d8576b"
             ],
             [
              0.6666666666666666,
              "#ed7953"
             ],
             [
              0.7777777777777778,
              "#fb9f3a"
             ],
             [
              0.8888888888888888,
              "#fdca26"
             ],
             [
              1,
              "#f0f921"
             ]
            ],
            "type": "heatmapgl"
           }
          ],
          "histogram": [
           {
            "marker": {
             "colorbar": {
              "outlinewidth": 0,
              "ticks": ""
             }
            },
            "type": "histogram"
           }
          ],
          "histogram2d": [
           {
            "colorbar": {
             "outlinewidth": 0,
             "ticks": ""
            },
            "colorscale": [
             [
              0,
              "#0d0887"
             ],
             [
              0.1111111111111111,
              "#46039f"
             ],
             [
              0.2222222222222222,
              "#7201a8"
             ],
             [
              0.3333333333333333,
              "#9c179e"
             ],
             [
              0.4444444444444444,
              "#bd3786"
             ],
             [
              0.5555555555555556,
              "#d8576b"
             ],
             [
              0.6666666666666666,
              "#ed7953"
             ],
             [
              0.7777777777777778,
              "#fb9f3a"
             ],
             [
              0.8888888888888888,
              "#fdca26"
             ],
             [
              1,
              "#f0f921"
             ]
            ],
            "type": "histogram2d"
           }
          ],
          "histogram2dcontour": [
           {
            "colorbar": {
             "outlinewidth": 0,
             "ticks": ""
            },
            "colorscale": [
             [
              0,
              "#0d0887"
             ],
             [
              0.1111111111111111,
              "#46039f"
             ],
             [
              0.2222222222222222,
              "#7201a8"
             ],
             [
              0.3333333333333333,
              "#9c179e"
             ],
             [
              0.4444444444444444,
              "#bd3786"
             ],
             [
              0.5555555555555556,
              "#d8576b"
             ],
             [
              0.6666666666666666,
              "#ed7953"
             ],
             [
              0.7777777777777778,
              "#fb9f3a"
             ],
             [
              0.8888888888888888,
              "#fdca26"
             ],
             [
              1,
              "#f0f921"
             ]
            ],
            "type": "histogram2dcontour"
           }
          ],
          "mesh3d": [
           {
            "colorbar": {
             "outlinewidth": 0,
             "ticks": ""
            },
            "type": "mesh3d"
           }
          ],
          "parcoords": [
           {
            "line": {
             "colorbar": {
              "outlinewidth": 0,
              "ticks": ""
             }
            },
            "type": "parcoords"
           }
          ],
          "pie": [
           {
            "automargin": true,
            "type": "pie"
           }
          ],
          "scatter": [
           {
            "marker": {
             "colorbar": {
              "outlinewidth": 0,
              "ticks": ""
             }
            },
            "type": "scatter"
           }
          ],
          "scatter3d": [
           {
            "line": {
             "colorbar": {
              "outlinewidth": 0,
              "ticks": ""
             }
            },
            "marker": {
             "colorbar": {
              "outlinewidth": 0,
              "ticks": ""
             }
            },
            "type": "scatter3d"
           }
          ],
          "scattercarpet": [
           {
            "marker": {
             "colorbar": {
              "outlinewidth": 0,
              "ticks": ""
             }
            },
            "type": "scattercarpet"
           }
          ],
          "scattergeo": [
           {
            "marker": {
             "colorbar": {
              "outlinewidth": 0,
              "ticks": ""
             }
            },
            "type": "scattergeo"
           }
          ],
          "scattergl": [
           {
            "marker": {
             "colorbar": {
              "outlinewidth": 0,
              "ticks": ""
             }
            },
            "type": "scattergl"
           }
          ],
          "scattermapbox": [
           {
            "marker": {
             "colorbar": {
              "outlinewidth": 0,
              "ticks": ""
             }
            },
            "type": "scattermapbox"
           }
          ],
          "scatterpolar": [
           {
            "marker": {
             "colorbar": {
              "outlinewidth": 0,
              "ticks": ""
             }
            },
            "type": "scatterpolar"
           }
          ],
          "scatterpolargl": [
           {
            "marker": {
             "colorbar": {
              "outlinewidth": 0,
              "ticks": ""
             }
            },
            "type": "scatterpolargl"
           }
          ],
          "scatterternary": [
           {
            "marker": {
             "colorbar": {
              "outlinewidth": 0,
              "ticks": ""
             }
            },
            "type": "scatterternary"
           }
          ],
          "surface": [
           {
            "colorbar": {
             "outlinewidth": 0,
             "ticks": ""
            },
            "colorscale": [
             [
              0,
              "#0d0887"
             ],
             [
              0.1111111111111111,
              "#46039f"
             ],
             [
              0.2222222222222222,
              "#7201a8"
             ],
             [
              0.3333333333333333,
              "#9c179e"
             ],
             [
              0.4444444444444444,
              "#bd3786"
             ],
             [
              0.5555555555555556,
              "#d8576b"
             ],
             [
              0.6666666666666666,
              "#ed7953"
             ],
             [
              0.7777777777777778,
              "#fb9f3a"
             ],
             [
              0.8888888888888888,
              "#fdca26"
             ],
             [
              1,
              "#f0f921"
             ]
            ],
            "type": "surface"
           }
          ],
          "table": [
           {
            "cells": {
             "fill": {
              "color": "#EBF0F8"
             },
             "line": {
              "color": "white"
             }
            },
            "header": {
             "fill": {
              "color": "#C8D4E3"
             },
             "line": {
              "color": "white"
             }
            },
            "type": "table"
           }
          ]
         },
         "layout": {
          "annotationdefaults": {
           "arrowcolor": "#2a3f5f",
           "arrowhead": 0,
           "arrowwidth": 1
          },
          "coloraxis": {
           "colorbar": {
            "outlinewidth": 0,
            "ticks": ""
           }
          },
          "colorscale": {
           "diverging": [
            [
             0,
             "#8e0152"
            ],
            [
             0.1,
             "#c51b7d"
            ],
            [
             0.2,
             "#de77ae"
            ],
            [
             0.3,
             "#f1b6da"
            ],
            [
             0.4,
             "#fde0ef"
            ],
            [
             0.5,
             "#f7f7f7"
            ],
            [
             0.6,
             "#e6f5d0"
            ],
            [
             0.7,
             "#b8e186"
            ],
            [
             0.8,
             "#7fbc41"
            ],
            [
             0.9,
             "#4d9221"
            ],
            [
             1,
             "#276419"
            ]
           ],
           "sequential": [
            [
             0,
             "#0d0887"
            ],
            [
             0.1111111111111111,
             "#46039f"
            ],
            [
             0.2222222222222222,
             "#7201a8"
            ],
            [
             0.3333333333333333,
             "#9c179e"
            ],
            [
             0.4444444444444444,
             "#bd3786"
            ],
            [
             0.5555555555555556,
             "#d8576b"
            ],
            [
             0.6666666666666666,
             "#ed7953"
            ],
            [
             0.7777777777777778,
             "#fb9f3a"
            ],
            [
             0.8888888888888888,
             "#fdca26"
            ],
            [
             1,
             "#f0f921"
            ]
           ],
           "sequentialminus": [
            [
             0,
             "#0d0887"
            ],
            [
             0.1111111111111111,
             "#46039f"
            ],
            [
             0.2222222222222222,
             "#7201a8"
            ],
            [
             0.3333333333333333,
             "#9c179e"
            ],
            [
             0.4444444444444444,
             "#bd3786"
            ],
            [
             0.5555555555555556,
             "#d8576b"
            ],
            [
             0.6666666666666666,
             "#ed7953"
            ],
            [
             0.7777777777777778,
             "#fb9f3a"
            ],
            [
             0.8888888888888888,
             "#fdca26"
            ],
            [
             1,
             "#f0f921"
            ]
           ]
          },
          "colorway": [
           "#636efa",
           "#EF553B",
           "#00cc96",
           "#ab63fa",
           "#FFA15A",
           "#19d3f3",
           "#FF6692",
           "#B6E880",
           "#FF97FF",
           "#FECB52"
          ],
          "font": {
           "color": "#2a3f5f"
          },
          "geo": {
           "bgcolor": "white",
           "lakecolor": "white",
           "landcolor": "#E5ECF6",
           "showlakes": true,
           "showland": true,
           "subunitcolor": "white"
          },
          "hoverlabel": {
           "align": "left"
          },
          "hovermode": "closest",
          "mapbox": {
           "style": "light"
          },
          "paper_bgcolor": "white",
          "plot_bgcolor": "#E5ECF6",
          "polar": {
           "angularaxis": {
            "gridcolor": "white",
            "linecolor": "white",
            "ticks": ""
           },
           "bgcolor": "#E5ECF6",
           "radialaxis": {
            "gridcolor": "white",
            "linecolor": "white",
            "ticks": ""
           }
          },
          "scene": {
           "xaxis": {
            "backgroundcolor": "#E5ECF6",
            "gridcolor": "white",
            "gridwidth": 2,
            "linecolor": "white",
            "showbackground": true,
            "ticks": "",
            "zerolinecolor": "white"
           },
           "yaxis": {
            "backgroundcolor": "#E5ECF6",
            "gridcolor": "white",
            "gridwidth": 2,
            "linecolor": "white",
            "showbackground": true,
            "ticks": "",
            "zerolinecolor": "white"
           },
           "zaxis": {
            "backgroundcolor": "#E5ECF6",
            "gridcolor": "white",
            "gridwidth": 2,
            "linecolor": "white",
            "showbackground": true,
            "ticks": "",
            "zerolinecolor": "white"
           }
          },
          "shapedefaults": {
           "line": {
            "color": "#2a3f5f"
           }
          },
          "ternary": {
           "aaxis": {
            "gridcolor": "white",
            "linecolor": "white",
            "ticks": ""
           },
           "baxis": {
            "gridcolor": "white",
            "linecolor": "white",
            "ticks": ""
           },
           "bgcolor": "#E5ECF6",
           "caxis": {
            "gridcolor": "white",
            "linecolor": "white",
            "ticks": ""
           }
          },
          "title": {
           "x": 0.05
          },
          "xaxis": {
           "automargin": true,
           "gridcolor": "white",
           "linecolor": "white",
           "ticks": "",
           "title": {
            "standoff": 15
           },
           "zerolinecolor": "white",
           "zerolinewidth": 2
          },
          "yaxis": {
           "automargin": true,
           "gridcolor": "white",
           "linecolor": "white",
           "ticks": "",
           "title": {
            "standoff": 15
           },
           "zerolinecolor": "white",
           "zerolinewidth": 2
          }
         }
        },
        "title": {
         "text": "Student Education Percentage to Salary"
        }
       }
      },
      "text/html": [
       "<div>\n",
       "        \n",
       "        \n",
       "            <div id=\"acd995cb-98a0-420d-972f-25b94795c8b0\" class=\"plotly-graph-div\" style=\"height:525px; width:100%;\"></div>\n",
       "            <script type=\"text/javascript\">\n",
       "                require([\"plotly\"], function(Plotly) {\n",
       "                    window.PLOTLYENV=window.PLOTLYENV || {};\n",
       "                    \n",
       "                if (document.getElementById(\"acd995cb-98a0-420d-972f-25b94795c8b0\")) {\n",
       "                    Plotly.newPlot(\n",
       "                        'acd995cb-98a0-420d-972f-25b94795c8b0',\n",
       "                        [{\"dimensions\": [{\"label\": \"Secondary Edu. %age\", \"range\": [35, 100], \"values\": [67.0, 79.33, 65.0, 56.0, 85.8, 55.0, 46.0, 82.0, 73.0, 58.0, 58.0, 69.6, 47.0, 77.0, 62.0, 65.0, 63.0, 55.0, 63.0, 60.0, 62.0, 79.0, 69.8, 77.4, 76.5, 52.58, 71.0, 63.0, 76.76, 62.0, 64.0, 67.0, 61.0, 87.0, 62.0, 69.0, 51.0, 79.0, 73.0, 81.0, 78.0, 74.0, 49.0, 87.0, 77.0, 76.0, 70.89, 63.0, 63.0, 50.0, 75.2, 54.4, 40.89, 80.0, 74.0, 60.4, 63.0, 68.0, 74.0, 52.6, 74.0, 84.2, 86.5, 61.0, 80.0, 54.0, 83.0, 80.92, 69.7, 73.0, 82.0, 75.0, 84.86, 64.6, 56.6, 59.0, 66.5, 64.0, 84.0, 69.0, 69.0, 81.7, 63.0, 84.0, 70.0, 83.84, 62.0, 59.6, 66.0, 84.0, 85.0, 52.0, 60.23, 52.0, 58.0, 73.0, 76.0, 70.5, 69.0, 54.0, 45.0, 63.0, 77.0, 73.0, 69.0, 59.0, 61.08, 82.0, 61.0, 52.0, 69.5, 51.0, 58.0, 73.96, 65.0, 73.0, 68.2, 77.0, 76.0, 60.8, 58.0, 64.0, 66.5, 74.0, 67.0, 84.0, 79.0, 72.0, 80.4, 76.7, 62.0, 74.9, 67.0, 73.0, 77.44, 72.0, 47.0, 67.0, 82.0, 77.0, 65.0, 66.0, 85.0, 77.67, 52.0, 89.4, 62.0, 70.0, 77.0, 44.0, 71.0, 65.0, 75.4, 49.0, 53.0, 51.57, 84.2, 66.5, 67.0, 52.0, 87.0, 55.6, 74.2, 63.0, 67.16, 63.3, 62.0, 67.9, 48.0, 59.96, 63.4, 80.0, 73.0, 52.0, 73.24, 63.0, 59.0, 73.0, 68.0, 77.8, 65.0, 62.0, 52.0, 65.0, 56.28, 88.0, 52.0, 78.5, 61.8, 54.0, 64.0, 67.0, 65.2, 60.0, 52.0, 66.0, 72.0, 83.96, 67.0, 69.0, 69.0, 54.2, 70.0, 55.68, 74.0, 61.0, 41.0, 83.33, 43.0, 62.0, 80.6, 58.0, 67.0, 74.0, 62.0]}, {\"label\": \"Higher Secondary Edu. %age\", \"range\": [35, 100], \"values\": [91.0, 78.33, 68.0, 52.0, 73.6, 49.8, 49.2, 64.0, 79.0, 70.0, 61.0, 68.4, 55.0, 87.0, 47.0, 75.0, 66.2, 67.0, 66.0, 67.0, 65.0, 76.0, 60.8, 60.0, 97.7, 54.6, 79.0, 67.0, 76.5, 67.0, 73.5, 53.0, 81.0, 65.0, 51.0, 78.0, 44.0, 76.0, 58.0, 68.0, 77.0, 63.16, 39.0, 87.0, 73.0, 64.0, 71.98, 60.0, 62.0, 37.0, 73.2, 61.12, 45.83, 70.0, 60.0, 66.6, 71.4, 76.0, 62.0, 65.58, 70.0, 73.4, 64.2, 70.0, 73.0, 47.0, 74.0, 78.5, 47.0, 73.0, 61.0, 70.29, 67.0, 83.83, 64.8, 62.0, 70.4, 80.0, 90.9, 62.0, 62.0, 63.0, 67.0, 79.0, 63.0, 89.83, 63.0, 51.0, 62.0, 75.0, 90.0, 57.0, 69.0, 62.0, 62.0, 78.0, 70.0, 62.5, 73.0, 82.0, 57.0, 72.0, 61.0, 78.0, 63.0, 64.0, 50.0, 90.0, 82.0, 63.0, 70.0, 54.0, 61.0, 79.0, 68.0, 63.0, 72.8, 75.0, 80.0, 68.4, 40.0, 67.0, 66.8, 59.0, 71.0, 73.0, 61.0, 60.0, 73.4, 89.7, 65.0, 57.0, 68.0, 64.0, 92.0, 56.0, 59.0, 63.0, 64.0, 70.0, 64.8, 64.0, 60.0, 64.89, 50.0, 65.66, 63.0, 74.0, 86.0, 58.0, 58.66, 65.0, 60.5, 59.0, 63.0, 74.66, 69.4, 62.5, 63.0, 49.0, 74.0, 51.0, 87.6, 67.0, 72.5, 78.33, 62.0, 62.0, 51.0, 42.16, 67.2, 80.0, 58.0, 52.0, 50.83, 62.0, 60.0, 97.0, 56.0, 64.0, 71.5, 60.33, 65.0, 77.0, 62.83, 72.0, 64.0, 65.5, 47.0, 77.6, 70.2, 61.0, 61.4, 63.0, 55.0, 76.0, 63.0, 53.0, 70.0, 65.0, 60.0, 63.0, 63.0, 61.33, 73.0, 62.0, 42.0, 78.0, 60.0, 72.0, 82.0, 60.0, 67.0, 66.0, 58.0]}, {\"label\": \"Degree %age\", \"range\": [35, 100], \"values\": [58.0, 77.48, 64.0, 52.0, 73.3, 67.25, 79.0, 66.0, 72.0, 61.0, 60.0, 78.3, 65.0, 59.0, 50.0, 69.0, 65.6, 64.0, 64.0, 70.0, 66.0, 85.0, 72.23, 64.74, 78.86, 50.2, 66.0, 66.0, 67.5, 58.0, 73.0, 65.0, 66.4, 81.0, 52.0, 72.0, 57.0, 65.6, 66.0, 64.0, 80.0, 65.0, 65.0, 68.0, 81.0, 72.0, 65.6, 57.0, 68.0, 52.0, 68.4, 56.2, 53.0, 72.0, 69.0, 65.0, 61.4, 74.0, 68.0, 72.11, 72.0, 66.89, 67.4, 64.0, 75.0, 57.0, 66.0, 67.0, 72.7, 66.0, 62.0, 71.0, 78.0, 71.72, 70.2, 77.5, 71.93, 65.0, 64.5, 66.0, 69.0, 67.0, 74.0, 68.0, 70.0, 77.2, 64.0, 60.0, 73.0, 69.0, 82.0, 50.8, 66.0, 54.0, 64.0, 65.0, 76.0, 61.0, 65.0, 63.0, 58.0, 68.0, 68.0, 73.0, 65.0, 58.0, 54.0, 83.0, 69.0, 65.0, 72.0, 61.0, 61.0, 67.0, 69.0, 66.0, 66.6, 73.0, 78.0, 64.6, 59.0, 69.6, 69.3, 73.0, 64.33, 73.0, 75.5, 69.0, 77.72, 66.0, 60.0, 62.0, 64.0, 77.0, 72.0, 69.0, 64.0, 72.0, 73.0, 59.0, 69.5, 60.0, 73.43, 70.67, 61.0, 71.25, 66.0, 65.0, 56.0, 55.0, 58.0, 75.0, 84.0, 65.0, 60.0, 59.9, 65.0, 60.9, 64.0, 58.0, 65.0, 57.5, 77.25, 64.0, 63.35, 74.0, 60.0, 67.0, 58.0, 61.26, 60.0, 72.0, 56.0, 55.0, 64.27, 65.0, 56.0, 79.0, 68.0, 64.2, 62.8, 64.21, 57.0, 69.0, 59.79, 78.0, 61.0, 67.0, 54.38, 69.2, 61.0, 72.0, 64.8, 56.0, 56.3, 72.0, 77.5, 91.0, 65.0, 57.0, 65.0, 58.0, 66.0, 56.87, 73.0, 65.0, 60.0, 61.0, 65.0, 65.0, 77.6, 72.0, 73.0, 58.0, 53.0]}, {\"label\": \"MBA Percentage\", \"range\": [35, 100], \"values\": [58.8, 66.28, 57.8, 59.43, 55.5, 51.58, 53.29, 62.14, 61.29, 52.21, 60.85, 63.7, 65.04, 68.63, 54.96, 64.66, 62.54, 67.28, 64.08, 77.89, 56.7, 69.06, 68.81, 63.62, 74.01, 65.33, 57.55, 57.69, 64.15, 51.29, 56.7, 58.32, 62.21, 72.78, 62.77, 62.74, 51.45, 55.47, 56.86, 62.56, 66.72, 69.76, 51.21, 62.9, 69.7, 66.53, 71.63, 54.55, 62.46, 56.11, 62.98, 62.65, 65.49, 71.04, 65.56, 52.71, 66.88, 63.59, 57.99, 56.66, 57.24, 62.48, 59.69, 59.5, 58.78, 57.1, 58.46, 60.99, 59.24, 68.07, 65.45, 66.94, 68.53, 59.75, 67.2, 67.0, 64.27, 57.65, 59.42, 67.99, 62.35, 70.2, 60.44, 66.69, 62.0, 76.18, 57.03, 59.08, 64.36, 62.36, 68.03, 62.79, 59.47, 55.41, 54.97, 62.16, 64.44, 69.03, 57.31, 59.47, 64.95, 60.44, 61.31, 65.83, 58.23, 55.3, 65.69, 73.52, 58.31, 56.09, 54.8, 60.64, 53.94, 63.08, 55.01, 60.5, 70.85, 67.05, 70.48, 64.34, 58.81, 71.49, 71.0, 56.7, 61.26, 73.33, 68.2, 58.4, 76.26, 68.55, 64.15, 60.78, 53.49, 60.98, 67.13, 65.63, 61.58, 60.41, 71.77, 54.43, 56.94, 61.9, 61.29, 60.39, 58.52, 63.23, 55.14, 62.28, 64.08, 58.54, 61.3, 58.87, 65.25, 62.48, 53.2, 65.99, 52.72, 55.03, 61.87, 60.59, 72.29, 62.72, 66.06, 66.46, 65.52, 74.56, 52.38, 75.71, 58.79, 65.48, 69.28, 66.04, 52.64, 59.32, 66.23, 60.69, 57.9, 70.81, 68.07, 72.14, 56.6, 60.02, 59.81, 61.82, 57.29, 71.43, 62.93, 64.86, 56.13, 66.94, 62.5, 61.01, 57.34, 56.63, 64.74, 58.95, 54.48, 69.71, 71.96, 55.8, 52.81, 58.44, 60.11, 58.3, 67.69, 56.81, 53.39, 71.55, 62.92, 56.49, 74.49, 53.62, 69.72, 60.23, 60.22]}, {\"constraintrange\": [1, 12435.51], \"label\": \"Salary\", \"range\": [2000, 7000], \"values\": [3571.9, 2645.85, 3307.32, null, 5622.44, null, null, 3333.77, 3055.96, null, 3439.61, 3307.32, null, 2883.98, null, 2645.85, 3968.78, null, null, 3122.11, 3505.75, 5199.1, 4762.53, 3968.78, 4762.53, null, 3175.02, 3505.75, 4630.24, null, 3307.32, null, 3677.74, 3439.61, null, 3968.78, null, 4233.36, 3175.02, 5437.23, 3796.8, null, null, 3968.78, 2645.85, null, null, 2698.77, 3307.32, null, 2645.85, null, null, 5953.17, 2857.52, 2910.44, 3175.02, 4762.53, 3545.44, 3505.75, 3439.61, 3968.78, 3175.02, null, 3175.02, null, 3638.05, 3638.05, null, 3638.05, 4762.53, 3175.02, 3175.02, 2883.98, 4445.03, null, 3042.73, 6614.63, 3571.9, null, 3175.02, 3968.78, null, 3968.78, 3968.78, 5291.71, 2910.44, null, 2778.15, 2778.15, 3968.78, null, 3042.73, null, 3439.61, 5556.29, 3968.78, null, 2910.44, null, null, 5027.12, 3968.78, 3175.02, 4762.53, null, null, 2645.85, 3968.78, null, 3307.32, null, 3307.32, 3704.19, 3307.32, 2857.52, 3968.78, 3175.02, 3651.28, 12435.51, null, 3307.32, 3122.11, 3175.02, 3307.32, 4630.24, 2778.15, 3307.32, 5291.71, 3307.32, null, 4762.53, 3968.78, 3307.32, 3307.32, 2645.85, null, 2976.58, 3307.32, 2910.44, 3505.75, null, 3439.61, 3968.78, null, 5291.71, 3082.42, 3968.78, 3175.02, null, 9128.19, 3571.9, 3175.02, 4497.95, 3307.32, null, 3373.46, 3968.78, null, null, 3968.78, null, 3770.34, 6614.63, 3307.32, null, 3175.02, null, null, null, null, 3836.49, 3968.78, null, 6614.63, null, 2910.44, 8599.02, 4630.24, null, 3505.75, null, null, 3651.28, null, 3333.77, null, 3704.19, null, null, null, 3492.53, 3571.9, 3968.78, null, 3638.05, 3307.32, 3439.61, null, 3505.75, 3968.78, null, 3175.02, 3439.61, 2778.15, 3307.32, null, 3968.78, null, 2857.52, 5291.71, 3638.05, 3902.63, 2698.77, null]}], \"line\": {\"cmax\": 7000, \"cmin\": 0, \"color\": [3571.9, 2645.85, 3307.32, null, 5622.44, null, null, 3333.77, 3055.96, null, 3439.61, 3307.32, null, 2883.98, null, 2645.85, 3968.78, null, null, 3122.11, 3505.75, 5199.1, 4762.53, 3968.78, 4762.53, null, 3175.02, 3505.75, 4630.24, null, 3307.32, null, 3677.74, 3439.61, null, 3968.78, null, 4233.36, 3175.02, 5437.23, 3796.8, null, null, 3968.78, 2645.85, null, null, 2698.77, 3307.32, null, 2645.85, null, null, 5953.17, 2857.52, 2910.44, 3175.02, 4762.53, 3545.44, 3505.75, 3439.61, 3968.78, 3175.02, null, 3175.02, null, 3638.05, 3638.05, null, 3638.05, 4762.53, 3175.02, 3175.02, 2883.98, 4445.03, null, 3042.73, 6614.63, 3571.9, null, 3175.02, 3968.78, null, 3968.78, 3968.78, 5291.71, 2910.44, null, 2778.15, 2778.15, 3968.78, null, 3042.73, null, 3439.61, 5556.29, 3968.78, null, 2910.44, null, null, 5027.12, 3968.78, 3175.02, 4762.53, null, null, 2645.85, 3968.78, null, 3307.32, null, 3307.32, 3704.19, 3307.32, 2857.52, 3968.78, 3175.02, 3651.28, 12435.51, null, 3307.32, 3122.11, 3175.02, 3307.32, 4630.24, 2778.15, 3307.32, 5291.71, 3307.32, null, 4762.53, 3968.78, 3307.32, 3307.32, 2645.85, null, 2976.58, 3307.32, 2910.44, 3505.75, null, 3439.61, 3968.78, null, 5291.71, 3082.42, 3968.78, 3175.02, null, 9128.19, 3571.9, 3175.02, 4497.95, 3307.32, null, 3373.46, 3968.78, null, null, 3968.78, null, 3770.34, 6614.63, 3307.32, null, 3175.02, null, null, null, null, 3836.49, 3968.78, null, 6614.63, null, 2910.44, 8599.02, 4630.24, null, 3505.75, null, null, 3651.28, null, 3333.77, null, 3704.19, null, null, null, 3492.53, 3571.9, 3968.78, null, 3638.05, 3307.32, 3439.61, null, 3505.75, 3968.78, null, 3175.02, 3439.61, 2778.15, 3307.32, null, 3968.78, null, 2857.52, 5291.71, 3638.05, 3902.63, 2698.77, null], \"colorscale\": [[0.0, \"#000004\"], [0.1111111111111111, \"#1b0c41\"], [0.2222222222222222, \"#4a0c6b\"], [0.3333333333333333, \"#781c6d\"], [0.4444444444444444, \"#a52c60\"], [0.5555555555555556, \"#cf4446\"], [0.6666666666666666, \"#ed6925\"], [0.7777777777777778, \"#fb9b06\"], [0.8888888888888888, \"#f7d13d\"], [1.0, \"#fcffa4\"]], \"showscale\": true}, \"type\": \"parcoords\"}],\n",
       "                        {\"template\": {\"data\": {\"bar\": [{\"error_x\": {\"color\": \"#2a3f5f\"}, \"error_y\": {\"color\": \"#2a3f5f\"}, \"marker\": {\"line\": {\"color\": \"#E5ECF6\", \"width\": 0.5}}, \"type\": \"bar\"}], \"barpolar\": [{\"marker\": {\"line\": {\"color\": \"#E5ECF6\", \"width\": 0.5}}, \"type\": \"barpolar\"}], \"carpet\": [{\"aaxis\": {\"endlinecolor\": \"#2a3f5f\", \"gridcolor\": \"white\", \"linecolor\": \"white\", \"minorgridcolor\": \"white\", \"startlinecolor\": \"#2a3f5f\"}, \"baxis\": {\"endlinecolor\": \"#2a3f5f\", \"gridcolor\": \"white\", \"linecolor\": \"white\", \"minorgridcolor\": \"white\", \"startlinecolor\": \"#2a3f5f\"}, \"type\": \"carpet\"}], \"choropleth\": [{\"colorbar\": {\"outlinewidth\": 0, \"ticks\": \"\"}, \"type\": \"choropleth\"}], \"contour\": [{\"colorbar\": {\"outlinewidth\": 0, \"ticks\": \"\"}, \"colorscale\": [[0.0, \"#0d0887\"], [0.1111111111111111, \"#46039f\"], [0.2222222222222222, \"#7201a8\"], [0.3333333333333333, \"#9c179e\"], [0.4444444444444444, \"#bd3786\"], [0.5555555555555556, \"#d8576b\"], [0.6666666666666666, \"#ed7953\"], [0.7777777777777778, \"#fb9f3a\"], [0.8888888888888888, \"#fdca26\"], [1.0, \"#f0f921\"]], \"type\": \"contour\"}], \"contourcarpet\": [{\"colorbar\": {\"outlinewidth\": 0, \"ticks\": \"\"}, \"type\": \"contourcarpet\"}], \"heatmap\": [{\"colorbar\": {\"outlinewidth\": 0, \"ticks\": \"\"}, \"colorscale\": [[0.0, \"#0d0887\"], [0.1111111111111111, \"#46039f\"], [0.2222222222222222, \"#7201a8\"], [0.3333333333333333, \"#9c179e\"], [0.4444444444444444, \"#bd3786\"], [0.5555555555555556, \"#d8576b\"], [0.6666666666666666, \"#ed7953\"], [0.7777777777777778, \"#fb9f3a\"], [0.8888888888888888, \"#fdca26\"], [1.0, \"#f0f921\"]], \"type\": \"heatmap\"}], \"heatmapgl\": [{\"colorbar\": {\"outlinewidth\": 0, \"ticks\": \"\"}, \"colorscale\": [[0.0, \"#0d0887\"], [0.1111111111111111, \"#46039f\"], [0.2222222222222222, \"#7201a8\"], [0.3333333333333333, \"#9c179e\"], [0.4444444444444444, \"#bd3786\"], [0.5555555555555556, \"#d8576b\"], [0.6666666666666666, \"#ed7953\"], [0.7777777777777778, \"#fb9f3a\"], [0.8888888888888888, \"#fdca26\"], [1.0, \"#f0f921\"]], \"type\": \"heatmapgl\"}], \"histogram\": [{\"marker\": {\"colorbar\": {\"outlinewidth\": 0, \"ticks\": \"\"}}, \"type\": \"histogram\"}], \"histogram2d\": [{\"colorbar\": {\"outlinewidth\": 0, \"ticks\": \"\"}, \"colorscale\": [[0.0, \"#0d0887\"], [0.1111111111111111, \"#46039f\"], [0.2222222222222222, \"#7201a8\"], [0.3333333333333333, \"#9c179e\"], [0.4444444444444444, \"#bd3786\"], [0.5555555555555556, \"#d8576b\"], [0.6666666666666666, \"#ed7953\"], [0.7777777777777778, \"#fb9f3a\"], [0.8888888888888888, \"#fdca26\"], [1.0, \"#f0f921\"]], \"type\": \"histogram2d\"}], \"histogram2dcontour\": [{\"colorbar\": {\"outlinewidth\": 0, \"ticks\": \"\"}, \"colorscale\": [[0.0, \"#0d0887\"], [0.1111111111111111, \"#46039f\"], [0.2222222222222222, \"#7201a8\"], [0.3333333333333333, \"#9c179e\"], [0.4444444444444444, \"#bd3786\"], [0.5555555555555556, \"#d8576b\"], [0.6666666666666666, \"#ed7953\"], [0.7777777777777778, \"#fb9f3a\"], [0.8888888888888888, \"#fdca26\"], [1.0, \"#f0f921\"]], \"type\": \"histogram2dcontour\"}], \"mesh3d\": [{\"colorbar\": {\"outlinewidth\": 0, \"ticks\": \"\"}, \"type\": \"mesh3d\"}], \"parcoords\": [{\"line\": {\"colorbar\": {\"outlinewidth\": 0, \"ticks\": \"\"}}, \"type\": \"parcoords\"}], \"pie\": [{\"automargin\": true, \"type\": \"pie\"}], \"scatter\": [{\"marker\": {\"colorbar\": {\"outlinewidth\": 0, \"ticks\": \"\"}}, \"type\": \"scatter\"}], \"scatter3d\": [{\"line\": {\"colorbar\": {\"outlinewidth\": 0, \"ticks\": \"\"}}, \"marker\": {\"colorbar\": {\"outlinewidth\": 0, \"ticks\": \"\"}}, \"type\": \"scatter3d\"}], \"scattercarpet\": [{\"marker\": {\"colorbar\": {\"outlinewidth\": 0, \"ticks\": \"\"}}, \"type\": \"scattercarpet\"}], \"scattergeo\": [{\"marker\": {\"colorbar\": {\"outlinewidth\": 0, \"ticks\": \"\"}}, \"type\": \"scattergeo\"}], \"scattergl\": [{\"marker\": {\"colorbar\": {\"outlinewidth\": 0, \"ticks\": \"\"}}, \"type\": \"scattergl\"}], \"scattermapbox\": [{\"marker\": {\"colorbar\": {\"outlinewidth\": 0, \"ticks\": \"\"}}, \"type\": \"scattermapbox\"}], \"scatterpolar\": [{\"marker\": {\"colorbar\": {\"outlinewidth\": 0, \"ticks\": \"\"}}, \"type\": \"scatterpolar\"}], \"scatterpolargl\": [{\"marker\": {\"colorbar\": {\"outlinewidth\": 0, \"ticks\": \"\"}}, \"type\": \"scatterpolargl\"}], \"scatterternary\": [{\"marker\": {\"colorbar\": {\"outlinewidth\": 0, \"ticks\": \"\"}}, \"type\": \"scatterternary\"}], \"surface\": [{\"colorbar\": {\"outlinewidth\": 0, \"ticks\": \"\"}, \"colorscale\": [[0.0, \"#0d0887\"], [0.1111111111111111, \"#46039f\"], [0.2222222222222222, \"#7201a8\"], [0.3333333333333333, \"#9c179e\"], [0.4444444444444444, \"#bd3786\"], [0.5555555555555556, \"#d8576b\"], [0.6666666666666666, \"#ed7953\"], [0.7777777777777778, \"#fb9f3a\"], [0.8888888888888888, \"#fdca26\"], [1.0, \"#f0f921\"]], \"type\": \"surface\"}], \"table\": [{\"cells\": {\"fill\": {\"color\": \"#EBF0F8\"}, \"line\": {\"color\": \"white\"}}, \"header\": {\"fill\": {\"color\": \"#C8D4E3\"}, \"line\": {\"color\": \"white\"}}, \"type\": \"table\"}]}, \"layout\": {\"annotationdefaults\": {\"arrowcolor\": \"#2a3f5f\", \"arrowhead\": 0, \"arrowwidth\": 1}, \"coloraxis\": {\"colorbar\": {\"outlinewidth\": 0, \"ticks\": \"\"}}, \"colorscale\": {\"diverging\": [[0, \"#8e0152\"], [0.1, \"#c51b7d\"], [0.2, \"#de77ae\"], [0.3, \"#f1b6da\"], [0.4, \"#fde0ef\"], [0.5, \"#f7f7f7\"], [0.6, \"#e6f5d0\"], [0.7, \"#b8e186\"], [0.8, \"#7fbc41\"], [0.9, \"#4d9221\"], [1, \"#276419\"]], \"sequential\": [[0.0, \"#0d0887\"], [0.1111111111111111, \"#46039f\"], [0.2222222222222222, \"#7201a8\"], [0.3333333333333333, \"#9c179e\"], [0.4444444444444444, \"#bd3786\"], [0.5555555555555556, \"#d8576b\"], [0.6666666666666666, \"#ed7953\"], [0.7777777777777778, \"#fb9f3a\"], [0.8888888888888888, \"#fdca26\"], [1.0, \"#f0f921\"]], \"sequentialminus\": [[0.0, \"#0d0887\"], [0.1111111111111111, \"#46039f\"], [0.2222222222222222, \"#7201a8\"], [0.3333333333333333, \"#9c179e\"], [0.4444444444444444, \"#bd3786\"], [0.5555555555555556, \"#d8576b\"], [0.6666666666666666, \"#ed7953\"], [0.7777777777777778, \"#fb9f3a\"], [0.8888888888888888, \"#fdca26\"], [1.0, \"#f0f921\"]]}, \"colorway\": [\"#636efa\", \"#EF553B\", \"#00cc96\", \"#ab63fa\", \"#FFA15A\", \"#19d3f3\", \"#FF6692\", \"#B6E880\", \"#FF97FF\", \"#FECB52\"], \"font\": {\"color\": \"#2a3f5f\"}, \"geo\": {\"bgcolor\": \"white\", \"lakecolor\": \"white\", \"landcolor\": \"#E5ECF6\", \"showlakes\": true, \"showland\": true, \"subunitcolor\": \"white\"}, \"hoverlabel\": {\"align\": \"left\"}, \"hovermode\": \"closest\", \"mapbox\": {\"style\": \"light\"}, \"paper_bgcolor\": \"white\", \"plot_bgcolor\": \"#E5ECF6\", \"polar\": {\"angularaxis\": {\"gridcolor\": \"white\", \"linecolor\": \"white\", \"ticks\": \"\"}, \"bgcolor\": \"#E5ECF6\", \"radialaxis\": {\"gridcolor\": \"white\", \"linecolor\": \"white\", \"ticks\": \"\"}}, \"scene\": {\"xaxis\": {\"backgroundcolor\": \"#E5ECF6\", \"gridcolor\": \"white\", \"gridwidth\": 2, \"linecolor\": \"white\", \"showbackground\": true, \"ticks\": \"\", \"zerolinecolor\": \"white\"}, \"yaxis\": {\"backgroundcolor\": \"#E5ECF6\", \"gridcolor\": \"white\", \"gridwidth\": 2, \"linecolor\": \"white\", \"showbackground\": true, \"ticks\": \"\", \"zerolinecolor\": \"white\"}, \"zaxis\": {\"backgroundcolor\": \"#E5ECF6\", \"gridcolor\": \"white\", \"gridwidth\": 2, \"linecolor\": \"white\", \"showbackground\": true, \"ticks\": \"\", \"zerolinecolor\": \"white\"}}, \"shapedefaults\": {\"line\": {\"color\": \"#2a3f5f\"}}, \"ternary\": {\"aaxis\": {\"gridcolor\": \"white\", \"linecolor\": \"white\", \"ticks\": \"\"}, \"baxis\": {\"gridcolor\": \"white\", \"linecolor\": \"white\", \"ticks\": \"\"}, \"bgcolor\": \"#E5ECF6\", \"caxis\": {\"gridcolor\": \"white\", \"linecolor\": \"white\", \"ticks\": \"\"}}, \"title\": {\"x\": 0.05}, \"xaxis\": {\"automargin\": true, \"gridcolor\": \"white\", \"linecolor\": \"white\", \"ticks\": \"\", \"title\": {\"standoff\": 15}, \"zerolinecolor\": \"white\", \"zerolinewidth\": 2}, \"yaxis\": {\"automargin\": true, \"gridcolor\": \"white\", \"linecolor\": \"white\", \"ticks\": \"\", \"title\": {\"standoff\": 15}, \"zerolinecolor\": \"white\", \"zerolinewidth\": 2}}}, \"title\": {\"text\": \"Student Education Percentage to Salary\"}},\n",
       "                        {\"responsive\": true}\n",
       "                    ).then(function(){\n",
       "                            \n",
       "var gd = document.getElementById('acd995cb-98a0-420d-972f-25b94795c8b0');\n",
       "var x = new MutationObserver(function (mutations, observer) {{\n",
       "        var display = window.getComputedStyle(gd).display;\n",
       "        if (!display || display === 'none') {{\n",
       "            console.log([gd, 'removed!']);\n",
       "            Plotly.purge(gd);\n",
       "            observer.disconnect();\n",
       "        }}\n",
       "}});\n",
       "\n",
       "// Listen for the removal of the full notebook cells\n",
       "var notebookContainer = gd.closest('#notebook-container');\n",
       "if (notebookContainer) {{\n",
       "    x.observe(notebookContainer, {childList: true});\n",
       "}}\n",
       "\n",
       "// Listen for the clearing of the current output cell\n",
       "var outputEl = gd.closest('.output');\n",
       "if (outputEl) {{\n",
       "    x.observe(outputEl, {childList: true});\n",
       "}}\n",
       "\n",
       "                        })\n",
       "                };\n",
       "                });\n",
       "            </script>\n",
       "        </div>"
      ]
     },
     "metadata": {},
     "output_type": "display_data"
    }
   ],
   "source": [
    "# numeric/academic data for all students\n",
    "\n",
    "fig = go.Figure(data=\n",
    "    go.Parcoords(\n",
    "        line = dict(color = df['Salary'],\n",
    "                   colorscale = 'inferno',\n",
    "                   showscale = True,\n",
    "                    cmin = 0,\n",
    "                    cmax = 7000\n",
    "                   ),\n",
    "        dimensions = list([\n",
    "            dict(range = [35,100],\n",
    "                 label = 'Secondary Edu. %age', values = df['Secondary Education Percentage (10th Grade)']),\n",
    "            dict(range = [35,100], # pull range from possible ranks\n",
    "                 label = 'Higher Secondary Edu. %age', values = df['Higher Secondary Education Percentage (12th Grade)']),\n",
    "            dict(range = [35,100],\n",
    "                 label = 'Degree %age', values = df['Degree Percentage']),\n",
    "            dict(range = [35,100],\n",
    "                 label = 'MBA Percentage', values = df['MBA percentage']),\n",
    "            dict(range = [2000,7000],\n",
    "                constraintrange = [1,df['Salary'].max()],\n",
    "                label = 'Salary', values = df['Salary'])\n",
    "            \n",
    "        ])\n",
    "    )\n",
    ")\n",
    "fig.update_layout(title_text='Student Education Percentage to Salary')\n",
    "fig.show()"
   ]
  }
 ],
 "metadata": {
  "kernelspec": {
   "display_name": "Python 3",
   "language": "python",
   "name": "python3"
  },
  "language_info": {
   "codemirror_mode": {
    "name": "ipython",
    "version": 3
   },
   "file_extension": ".py",
   "mimetype": "text/x-python",
   "name": "python",
   "nbconvert_exporter": "python",
   "pygments_lexer": "ipython3",
   "version": "3.7.4"
  }
 },
 "nbformat": 4,
 "nbformat_minor": 2
}
